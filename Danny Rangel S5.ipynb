{
 "cells": [
  {
   "cell_type": "markdown",
   "metadata": {
    "id": "3rYiDeEH0q0f"
   },
   "source": [
    "# ¿Cuál es la mejor tarifa?\n",
    "\n",
    "Trabajas como analista para el operador de telecomunicaciones Megaline. La empresa ofrece a sus clientes dos tarifas de prepago, Surf y Ultimate. El departamento comercial quiere saber cuál de las tarifas genera más ingresos para poder ajustar el presupuesto de publicidad.\n",
    "\n",
    "Vas a realizar un análisis preliminar de las tarifas basado en una selección de clientes relativamente pequeña. Tendrás los datos de 500 clientes de Megaline: quiénes son los clientes, de dónde son, qué tarifa usan, así como la cantidad de llamadas que hicieron y los mensajes de texto que enviaron en 2018. Tu trabajo es analizar el comportamiento de los clientes y determinar qué tarifa de prepago genera más ingresos."
   ]
  },
  {
   "cell_type": "markdown",
   "metadata": {},
   "source": [
    "Introducción:\n",
    "\n",
    "El proyecto consiste en realizar un análisis preliminar de tarifas para Megaline, un operador de telecomunicaciones que ofrece dos tarifas de prepago: Surf y Ultimate. El objetivo es determinar cuál de las dos tarifas genera más ingresos para la empresa. Para este análisis, se cuenta con datos de 500 clientes de Megaline que incluyen información sobre los clientes, el tipo de tarifa que utilizan, la cantidad de llamadas realizadas y los mensajes de texto enviados en 2018.\n",
    "\n",
    "El análisis tiene como propósito:\n",
    "\n",
    "Comparar los ingresos generados por cada plan.\n",
    "\n",
    "Estudiar el comportamiento de los clientes con respecto al uso de llamadas y mensajes, en función de la tarifa que elijan.\n",
    "\n",
    "Proporcionar información sobre cuál tarifa debe priorizarse para ajustar el presupuesto de publicidad de la empresa."
   ]
  },
  {
   "cell_type": "markdown",
   "metadata": {
    "id": "MQi4IPy70q0y"
   },
   "source": [
    "## Inicialización"
   ]
  },
  {
   "cell_type": "code",
   "execution_count": 430,
   "metadata": {
    "id": "MtYIuBxu0q0z"
   },
   "outputs": [],
   "source": [
    "# Cargar todas las librerías\n",
    "from scipy import stats as st\n",
    "from math import factorial\n",
    "import numpy as np\n",
    "import pandas as pd\n",
    "import matplotlib.pyplot as plt\n",
    "import seaborn as sns"
   ]
  },
  {
   "cell_type": "markdown",
   "metadata": {
    "id": "4ysWWC5i0q00"
   },
   "source": [
    "## Cargar datos"
   ]
  },
  {
   "cell_type": "code",
   "execution_count": 431,
   "metadata": {
    "id": "CCqPW7rS0q01"
   },
   "outputs": [],
   "source": [
    "# Carga los archivos de datos en diferentes DataFrames\n",
    "usuarios = pd.read_csv('/datasets/megaline_users.csv')\n",
    "llamadas = pd.read_csv('/datasets/megaline_calls.csv')\n",
    "mensajes = pd.read_csv('/datasets/megaline_messages.csv')\n",
    "internet = pd.read_csv('/datasets/megaline_internet.csv')\n",
    "tarifas = pd.read_csv('/datasets/megaline_plans.csv')\n"
   ]
  },
  {
   "cell_type": "markdown",
   "metadata": {
    "id": "69qqoJ3r0q01"
   },
   "source": [
    "## Preparar los datos"
   ]
  },
  {
   "cell_type": "markdown",
   "metadata": {
    "id": "ohBhimvH0q01"
   },
   "source": [
    "## Tarifas"
   ]
  },
  {
   "cell_type": "code",
   "execution_count": 432,
   "metadata": {
    "id": "GptqP3Q40q02"
   },
   "outputs": [
    {
     "name": "stdout",
     "output_type": "stream",
     "text": [
      "<class 'pandas.core.frame.DataFrame'>\n",
      "RangeIndex: 2 entries, 0 to 1\n",
      "Data columns (total 8 columns):\n",
      " #   Column                 Non-Null Count  Dtype  \n",
      "---  ------                 --------------  -----  \n",
      " 0   messages_included      2 non-null      int64  \n",
      " 1   mb_per_month_included  2 non-null      int64  \n",
      " 2   minutes_included       2 non-null      int64  \n",
      " 3   usd_monthly_pay        2 non-null      int64  \n",
      " 4   usd_per_gb             2 non-null      int64  \n",
      " 5   usd_per_message        2 non-null      float64\n",
      " 6   usd_per_minute         2 non-null      float64\n",
      " 7   plan_name              2 non-null      object \n",
      "dtypes: float64(2), int64(5), object(1)\n",
      "memory usage: 256.0+ bytes\n"
     ]
    }
   ],
   "source": [
    "# Imprime la información general/resumida sobre el DataFrame de las tarifas\n",
    "tarifas.info()"
   ]
  },
  {
   "cell_type": "code",
   "execution_count": 433,
   "metadata": {
    "id": "64xzjwL70q02"
   },
   "outputs": [
    {
     "data": {
      "text/html": [
       "<div>\n",
       "<style scoped>\n",
       "    .dataframe tbody tr th:only-of-type {\n",
       "        vertical-align: middle;\n",
       "    }\n",
       "\n",
       "    .dataframe tbody tr th {\n",
       "        vertical-align: top;\n",
       "    }\n",
       "\n",
       "    .dataframe thead th {\n",
       "        text-align: right;\n",
       "    }\n",
       "</style>\n",
       "<table border=\"1\" class=\"dataframe\">\n",
       "  <thead>\n",
       "    <tr style=\"text-align: right;\">\n",
       "      <th></th>\n",
       "      <th>messages_included</th>\n",
       "      <th>mb_per_month_included</th>\n",
       "      <th>minutes_included</th>\n",
       "      <th>usd_monthly_pay</th>\n",
       "      <th>usd_per_gb</th>\n",
       "      <th>usd_per_message</th>\n",
       "      <th>usd_per_minute</th>\n",
       "      <th>plan_name</th>\n",
       "    </tr>\n",
       "  </thead>\n",
       "  <tbody>\n",
       "    <tr>\n",
       "      <th>0</th>\n",
       "      <td>50</td>\n",
       "      <td>15360</td>\n",
       "      <td>500</td>\n",
       "      <td>20</td>\n",
       "      <td>10</td>\n",
       "      <td>0.03</td>\n",
       "      <td>0.03</td>\n",
       "      <td>surf</td>\n",
       "    </tr>\n",
       "    <tr>\n",
       "      <th>1</th>\n",
       "      <td>1000</td>\n",
       "      <td>30720</td>\n",
       "      <td>3000</td>\n",
       "      <td>70</td>\n",
       "      <td>7</td>\n",
       "      <td>0.01</td>\n",
       "      <td>0.01</td>\n",
       "      <td>ultimate</td>\n",
       "    </tr>\n",
       "  </tbody>\n",
       "</table>\n",
       "</div>"
      ],
      "text/plain": [
       "   messages_included  mb_per_month_included  minutes_included  \\\n",
       "0                 50                  15360               500   \n",
       "1               1000                  30720              3000   \n",
       "\n",
       "   usd_monthly_pay  usd_per_gb  usd_per_message  usd_per_minute plan_name  \n",
       "0               20          10             0.03            0.03      surf  \n",
       "1               70           7             0.01            0.01  ultimate  "
      ]
     },
     "execution_count": 433,
     "metadata": {},
     "output_type": "execute_result"
    }
   ],
   "source": [
    "# Imprime una muestra de los datos para las tarifas\n",
    "tarifas.head()\n"
   ]
  },
  {
   "cell_type": "markdown",
   "metadata": {},
   "source": [
    "Este archivo contiene la información básica de cada plan tarifario disponible. Incluye detalles como la cantidad de mensajes, minutos de llamadas y megabytes de datos móviles que ofrece cada plan, junto con su precio correspondiente. También se especifican los costos adicionales que se aplican cuando un usuario supera los límites incluidos en su paquete.\n",
    "\n",
    "⚠️ Importante:\n",
    "La columna mg_per_month representa el consumo de datos en megabytes, mientras que user_per_gb está expresado en gigabytes, por lo que se recomienda unificar las unidades durante el análisis para evitar errores de interpretación.\n",
    "\n",
    "\n",
    "La mayoría de los datos están expresados en valores numéricos (enteros y flotantes), lo cual facilita su análisis y permite formular hipótesis personalizadas sobre el comportamiento y necesidades de cada cliente en relación con el plan que utiliza."
   ]
  },
  {
   "cell_type": "markdown",
   "metadata": {
    "id": "R3C05i1l0q03"
   },
   "source": [
    "## Corregir datos"
   ]
  },
  {
   "cell_type": "markdown",
   "metadata": {
    "id": "bIi8StZI0q03"
   },
   "source": [
    "[Corrige los problemas obvios con los datos basándote en las observaciones iniciales.]"
   ]
  },
  {
   "cell_type": "code",
   "execution_count": 434,
   "metadata": {
    "id": "Y7SVmjGn0q03"
   },
   "outputs": [
    {
     "data": {
      "text/html": [
       "<div>\n",
       "<style scoped>\n",
       "    .dataframe tbody tr th:only-of-type {\n",
       "        vertical-align: middle;\n",
       "    }\n",
       "\n",
       "    .dataframe tbody tr th {\n",
       "        vertical-align: top;\n",
       "    }\n",
       "\n",
       "    .dataframe thead th {\n",
       "        text-align: right;\n",
       "    }\n",
       "</style>\n",
       "<table border=\"1\" class=\"dataframe\">\n",
       "  <thead>\n",
       "    <tr style=\"text-align: right;\">\n",
       "      <th></th>\n",
       "      <th>messages_included</th>\n",
       "      <th>mb_per_month_included</th>\n",
       "      <th>minutes_included</th>\n",
       "      <th>usd_monthly_pay</th>\n",
       "      <th>usd_per_gb</th>\n",
       "      <th>usd_per_message</th>\n",
       "      <th>usd_per_minute</th>\n",
       "      <th>plan_name</th>\n",
       "    </tr>\n",
       "  </thead>\n",
       "  <tbody>\n",
       "    <tr>\n",
       "      <th>0</th>\n",
       "      <td>50</td>\n",
       "      <td>15360.0</td>\n",
       "      <td>500</td>\n",
       "      <td>20</td>\n",
       "      <td>10</td>\n",
       "      <td>0.03</td>\n",
       "      <td>0.03</td>\n",
       "      <td>surf</td>\n",
       "    </tr>\n",
       "    <tr>\n",
       "      <th>1</th>\n",
       "      <td>1000</td>\n",
       "      <td>30720.0</td>\n",
       "      <td>3000</td>\n",
       "      <td>70</td>\n",
       "      <td>7</td>\n",
       "      <td>0.01</td>\n",
       "      <td>0.01</td>\n",
       "      <td>ultimate</td>\n",
       "    </tr>\n",
       "  </tbody>\n",
       "</table>\n",
       "</div>"
      ],
      "text/plain": [
       "   messages_included  mb_per_month_included  minutes_included  \\\n",
       "0                 50                15360.0               500   \n",
       "1               1000                30720.0              3000   \n",
       "\n",
       "   usd_monthly_pay  usd_per_gb  usd_per_message  usd_per_minute plan_name  \n",
       "0               20          10             0.03            0.03      surf  \n",
       "1               70           7             0.01            0.01  ultimate  "
      ]
     },
     "execution_count": 434,
     "metadata": {},
     "output_type": "execute_result"
    }
   ],
   "source": [
    "tarifas[\"mb_per_month_included\"] = tarifas[\"mb_per_month_included\"].astype(float)\n",
    "tarifas.head()"
   ]
  },
  {
   "cell_type": "markdown",
   "metadata": {
    "id": "LJir7bml0q03"
   },
   "source": [
    "## Enriquecer los datos"
   ]
  },
  {
   "cell_type": "code",
   "execution_count": 435,
   "metadata": {
    "id": "gfcIEuXV0q04"
   },
   "outputs": [
    {
     "data": {
      "text/html": [
       "<div>\n",
       "<style scoped>\n",
       "    .dataframe tbody tr th:only-of-type {\n",
       "        vertical-align: middle;\n",
       "    }\n",
       "\n",
       "    .dataframe tbody tr th {\n",
       "        vertical-align: top;\n",
       "    }\n",
       "\n",
       "    .dataframe thead th {\n",
       "        text-align: right;\n",
       "    }\n",
       "</style>\n",
       "<table border=\"1\" class=\"dataframe\">\n",
       "  <thead>\n",
       "    <tr style=\"text-align: right;\">\n",
       "      <th></th>\n",
       "      <th>messages_included</th>\n",
       "      <th>mb_per_month_included</th>\n",
       "      <th>minutes_included</th>\n",
       "      <th>usd_monthly_pay</th>\n",
       "      <th>usd_per_gb</th>\n",
       "      <th>usd_per_message</th>\n",
       "      <th>usd_per_minute</th>\n",
       "      <th>plan_name</th>\n",
       "    </tr>\n",
       "  </thead>\n",
       "  <tbody>\n",
       "    <tr>\n",
       "      <th>0</th>\n",
       "      <td>50</td>\n",
       "      <td>15.0</td>\n",
       "      <td>500</td>\n",
       "      <td>20</td>\n",
       "      <td>10</td>\n",
       "      <td>0.03</td>\n",
       "      <td>0.03</td>\n",
       "      <td>surf</td>\n",
       "    </tr>\n",
       "    <tr>\n",
       "      <th>1</th>\n",
       "      <td>1000</td>\n",
       "      <td>30.0</td>\n",
       "      <td>3000</td>\n",
       "      <td>70</td>\n",
       "      <td>7</td>\n",
       "      <td>0.01</td>\n",
       "      <td>0.01</td>\n",
       "      <td>ultimate</td>\n",
       "    </tr>\n",
       "  </tbody>\n",
       "</table>\n",
       "</div>"
      ],
      "text/plain": [
       "   messages_included  mb_per_month_included  minutes_included  \\\n",
       "0                 50                   15.0               500   \n",
       "1               1000                   30.0              3000   \n",
       "\n",
       "   usd_monthly_pay  usd_per_gb  usd_per_message  usd_per_minute plan_name  \n",
       "0               20          10             0.03            0.03      surf  \n",
       "1               70           7             0.01            0.01  ultimate  "
      ]
     },
     "execution_count": 435,
     "metadata": {},
     "output_type": "execute_result"
    }
   ],
   "source": [
    "tarifas[\"mb_per_month_included\"] = tarifas[\"mb_per_month_included\"]/1024\n",
    "tarifas.head()"
   ]
  },
  {
   "cell_type": "markdown",
   "metadata": {
    "id": "1n2X6WXf0q04"
   },
   "source": [
    "## Usuarios/as"
   ]
  },
  {
   "cell_type": "code",
   "execution_count": 436,
   "metadata": {
    "id": "2NgjWFqx0q05"
   },
   "outputs": [
    {
     "name": "stdout",
     "output_type": "stream",
     "text": [
      "<class 'pandas.core.frame.DataFrame'>\n",
      "RangeIndex: 500 entries, 0 to 499\n",
      "Data columns (total 8 columns):\n",
      " #   Column      Non-Null Count  Dtype \n",
      "---  ------      --------------  ----- \n",
      " 0   user_id     500 non-null    int64 \n",
      " 1   first_name  500 non-null    object\n",
      " 2   last_name   500 non-null    object\n",
      " 3   age         500 non-null    int64 \n",
      " 4   city        500 non-null    object\n",
      " 5   reg_date    500 non-null    object\n",
      " 6   plan        500 non-null    object\n",
      " 7   churn_date  34 non-null     object\n",
      "dtypes: int64(2), object(6)\n",
      "memory usage: 31.4+ KB\n"
     ]
    }
   ],
   "source": [
    "# Imprime la información general/resumida sobre el DataFrame de usuarios\n",
    "usuarios.info()"
   ]
  },
  {
   "cell_type": "code",
   "execution_count": 437,
   "metadata": {
    "id": "1IN1L9uh0q05"
   },
   "outputs": [
    {
     "data": {
      "text/html": [
       "<div>\n",
       "<style scoped>\n",
       "    .dataframe tbody tr th:only-of-type {\n",
       "        vertical-align: middle;\n",
       "    }\n",
       "\n",
       "    .dataframe tbody tr th {\n",
       "        vertical-align: top;\n",
       "    }\n",
       "\n",
       "    .dataframe thead th {\n",
       "        text-align: right;\n",
       "    }\n",
       "</style>\n",
       "<table border=\"1\" class=\"dataframe\">\n",
       "  <thead>\n",
       "    <tr style=\"text-align: right;\">\n",
       "      <th></th>\n",
       "      <th>user_id</th>\n",
       "      <th>first_name</th>\n",
       "      <th>last_name</th>\n",
       "      <th>age</th>\n",
       "      <th>city</th>\n",
       "      <th>reg_date</th>\n",
       "      <th>plan</th>\n",
       "      <th>churn_date</th>\n",
       "    </tr>\n",
       "  </thead>\n",
       "  <tbody>\n",
       "    <tr>\n",
       "      <th>208</th>\n",
       "      <td>1208</td>\n",
       "      <td>Enrique</td>\n",
       "      <td>Ramirez</td>\n",
       "      <td>44</td>\n",
       "      <td>San Diego-Chula Vista-Carlsbad, CA MSA</td>\n",
       "      <td>2018-07-17</td>\n",
       "      <td>surf</td>\n",
       "      <td>NaN</td>\n",
       "    </tr>\n",
       "    <tr>\n",
       "      <th>169</th>\n",
       "      <td>1169</td>\n",
       "      <td>Hai</td>\n",
       "      <td>Bean</td>\n",
       "      <td>67</td>\n",
       "      <td>New York-Newark-Jersey City, NY-NJ-PA MSA</td>\n",
       "      <td>2018-12-06</td>\n",
       "      <td>surf</td>\n",
       "      <td>NaN</td>\n",
       "    </tr>\n",
       "    <tr>\n",
       "      <th>212</th>\n",
       "      <td>1212</td>\n",
       "      <td>Alfredo</td>\n",
       "      <td>Pruitt</td>\n",
       "      <td>36</td>\n",
       "      <td>Austin-Round Rock-Georgetown, TX MSA</td>\n",
       "      <td>2018-07-27</td>\n",
       "      <td>surf</td>\n",
       "      <td>NaN</td>\n",
       "    </tr>\n",
       "    <tr>\n",
       "      <th>400</th>\n",
       "      <td>1400</td>\n",
       "      <td>Kenton</td>\n",
       "      <td>Hickman</td>\n",
       "      <td>72</td>\n",
       "      <td>Riverside-San Bernardino-Ontario, CA MSA</td>\n",
       "      <td>2018-03-08</td>\n",
       "      <td>surf</td>\n",
       "      <td>NaN</td>\n",
       "    </tr>\n",
       "    <tr>\n",
       "      <th>225</th>\n",
       "      <td>1225</td>\n",
       "      <td>Margarito</td>\n",
       "      <td>Barker</td>\n",
       "      <td>41</td>\n",
       "      <td>Columbia, SC MSA</td>\n",
       "      <td>2018-06-07</td>\n",
       "      <td>surf</td>\n",
       "      <td>NaN</td>\n",
       "    </tr>\n",
       "  </tbody>\n",
       "</table>\n",
       "</div>"
      ],
      "text/plain": [
       "     user_id first_name last_name  age  \\\n",
       "208     1208    Enrique   Ramirez   44   \n",
       "169     1169        Hai      Bean   67   \n",
       "212     1212    Alfredo    Pruitt   36   \n",
       "400     1400     Kenton   Hickman   72   \n",
       "225     1225  Margarito    Barker   41   \n",
       "\n",
       "                                          city    reg_date  plan churn_date  \n",
       "208     San Diego-Chula Vista-Carlsbad, CA MSA  2018-07-17  surf        NaN  \n",
       "169  New York-Newark-Jersey City, NY-NJ-PA MSA  2018-12-06  surf        NaN  \n",
       "212       Austin-Round Rock-Georgetown, TX MSA  2018-07-27  surf        NaN  \n",
       "400   Riverside-San Bernardino-Ontario, CA MSA  2018-03-08  surf        NaN  \n",
       "225                           Columbia, SC MSA  2018-06-07  surf        NaN  "
      ]
     },
     "execution_count": 437,
     "metadata": {},
     "output_type": "execute_result"
    }
   ],
   "source": [
    "# Imprime una muestra de datos para usuarios\n",
    "usuarios.sample(5)"
   ]
  },
  {
   "cell_type": "markdown",
   "metadata": {
    "id": "dCZoUq4f0q06"
   },
   "source": [
    "Este archivo contiene la información general de los usuarios de Megaline, incluyendo datos clave como el identificador del cliente, su plan tarifario, ciudad de residencia y la fecha de inicio del servicio.\n",
    "\n",
    "📅 Formato de fecha:\n",
    "La columna de fecha (first_date) debe ser transformada al formato día/mes/año (DD/MM/AAAA) para una mejor interpretación y consistencia con el formato regional.\n",
    "\n",
    "🗑️ Columna churn_date:\n",
    "Esta columna indica la fecha en la que un usuario dejó de utilizar el servicio. Sin embargo, la mayoría de los registros presentan valores ausentes (NaN), lo que significa que esos usuarios seguían activos al momento de extraer los datos. Solo 34 usuarios tienen una fecha registrada de cancelación, por lo que se considera irrelevante para el análisis general y puede eliminarse del conjunto de datos."
   ]
  },
  {
   "cell_type": "markdown",
   "metadata": {
    "id": "BX5FQh_I0q06"
   },
   "source": [
    "### Corregir los datos"
   ]
  },
  {
   "cell_type": "code",
   "execution_count": 438,
   "metadata": {
    "id": "yUqX-K0C0q07"
   },
   "outputs": [
    {
     "data": {
      "text/html": [
       "<div>\n",
       "<style scoped>\n",
       "    .dataframe tbody tr th:only-of-type {\n",
       "        vertical-align: middle;\n",
       "    }\n",
       "\n",
       "    .dataframe tbody tr th {\n",
       "        vertical-align: top;\n",
       "    }\n",
       "\n",
       "    .dataframe thead th {\n",
       "        text-align: right;\n",
       "    }\n",
       "</style>\n",
       "<table border=\"1\" class=\"dataframe\">\n",
       "  <thead>\n",
       "    <tr style=\"text-align: right;\">\n",
       "      <th></th>\n",
       "      <th>user_id</th>\n",
       "      <th>first_name</th>\n",
       "      <th>last_name</th>\n",
       "      <th>age</th>\n",
       "      <th>city</th>\n",
       "      <th>reg_date</th>\n",
       "      <th>plan</th>\n",
       "      <th>churn_date</th>\n",
       "    </tr>\n",
       "  </thead>\n",
       "  <tbody>\n",
       "    <tr>\n",
       "      <th>0</th>\n",
       "      <td>1000</td>\n",
       "      <td>Anamaria</td>\n",
       "      <td>Bauer</td>\n",
       "      <td>45</td>\n",
       "      <td>Atlanta-Sandy Springs-Roswell, GA MSA</td>\n",
       "      <td>24-12-18</td>\n",
       "      <td>ultimate</td>\n",
       "      <td>NaN</td>\n",
       "    </tr>\n",
       "    <tr>\n",
       "      <th>1</th>\n",
       "      <td>1001</td>\n",
       "      <td>Mickey</td>\n",
       "      <td>Wilkerson</td>\n",
       "      <td>28</td>\n",
       "      <td>Seattle-Tacoma-Bellevue, WA MSA</td>\n",
       "      <td>13-08-18</td>\n",
       "      <td>surf</td>\n",
       "      <td>NaN</td>\n",
       "    </tr>\n",
       "    <tr>\n",
       "      <th>2</th>\n",
       "      <td>1002</td>\n",
       "      <td>Carlee</td>\n",
       "      <td>Hoffman</td>\n",
       "      <td>36</td>\n",
       "      <td>Las Vegas-Henderson-Paradise, NV MSA</td>\n",
       "      <td>21-10-18</td>\n",
       "      <td>surf</td>\n",
       "      <td>NaN</td>\n",
       "    </tr>\n",
       "    <tr>\n",
       "      <th>3</th>\n",
       "      <td>1003</td>\n",
       "      <td>Reynaldo</td>\n",
       "      <td>Jenkins</td>\n",
       "      <td>52</td>\n",
       "      <td>Tulsa, OK MSA</td>\n",
       "      <td>28-01-18</td>\n",
       "      <td>surf</td>\n",
       "      <td>NaN</td>\n",
       "    </tr>\n",
       "    <tr>\n",
       "      <th>4</th>\n",
       "      <td>1004</td>\n",
       "      <td>Leonila</td>\n",
       "      <td>Thompson</td>\n",
       "      <td>40</td>\n",
       "      <td>Seattle-Tacoma-Bellevue, WA MSA</td>\n",
       "      <td>23-05-18</td>\n",
       "      <td>surf</td>\n",
       "      <td>NaN</td>\n",
       "    </tr>\n",
       "  </tbody>\n",
       "</table>\n",
       "</div>"
      ],
      "text/plain": [
       "   user_id first_name  last_name  age                                   city  \\\n",
       "0     1000   Anamaria      Bauer   45  Atlanta-Sandy Springs-Roswell, GA MSA   \n",
       "1     1001     Mickey  Wilkerson   28        Seattle-Tacoma-Bellevue, WA MSA   \n",
       "2     1002     Carlee    Hoffman   36   Las Vegas-Henderson-Paradise, NV MSA   \n",
       "3     1003   Reynaldo    Jenkins   52                          Tulsa, OK MSA   \n",
       "4     1004    Leonila   Thompson   40        Seattle-Tacoma-Bellevue, WA MSA   \n",
       "\n",
       "   reg_date      plan churn_date  \n",
       "0  24-12-18  ultimate        NaN  \n",
       "1  13-08-18      surf        NaN  \n",
       "2  21-10-18      surf        NaN  \n",
       "3  28-01-18      surf        NaN  \n",
       "4  23-05-18      surf        NaN  "
      ]
     },
     "execution_count": 438,
     "metadata": {},
     "output_type": "execute_result"
    }
   ],
   "source": [
    "# Convertir la columna 'reg_date' de string a numérico utilizando .loc para acceso adecuado\n",
    "# ya que me lanzaba un warning que debía usarlo\n",
    "usuarios.loc[:, 'reg_date'] = pd.to_datetime(usuarios['reg_date'], errors='coerce')\n",
    "# Cambiar el formato de la fecha a dd-mm-aa\n",
    "usuarios.loc[:, 'reg_date'] = usuarios['reg_date'].dt.strftime('%d-%m-%y')\n",
    "# imprimir\n",
    "usuarios.head(5)"
   ]
  },
  {
   "cell_type": "markdown",
   "metadata": {
    "id": "ycwuARJp0q07"
   },
   "source": [
    "### Enriquecer los datos"
   ]
  },
  {
   "cell_type": "markdown",
   "metadata": {
    "id": "96NIh4CJ0q08"
   },
   "source": [
    "Como se puede observar, en el archivo usuarios tenemos 466 valores ausentes en la columna correspondiente al churn_date (fecha en la que el usuario dejó de usar el servicio). Dado que los valores ausentes representan solo un pequeño número de usuarios que se han dado de baja, hemos decidido eliminar la columna para evitar que afecte el análisis general. Sin embargo, para no perder completamente esta información, hemos extraído los registros con valores ausentes y los hemos guardado en un nuevo DataFrame, de manera que podamos recuperarlos si es necesario en el futuro."
   ]
  },
  {
   "cell_type": "code",
   "execution_count": 439,
   "metadata": {
    "id": "iq0AaBS90q08"
   },
   "outputs": [
    {
     "name": "stdout",
     "output_type": "stream",
     "text": [
      "user_id         0\n",
      "first_name      0\n",
      "last_name       0\n",
      "age             0\n",
      "city            0\n",
      "reg_date        0\n",
      "plan            0\n",
      "churn_date    466\n",
      "dtype: int64\n"
     ]
    },
    {
     "data": {
      "text/html": [
       "<div>\n",
       "<style scoped>\n",
       "    .dataframe tbody tr th:only-of-type {\n",
       "        vertical-align: middle;\n",
       "    }\n",
       "\n",
       "    .dataframe tbody tr th {\n",
       "        vertical-align: top;\n",
       "    }\n",
       "\n",
       "    .dataframe thead th {\n",
       "        text-align: right;\n",
       "    }\n",
       "</style>\n",
       "<table border=\"1\" class=\"dataframe\">\n",
       "  <thead>\n",
       "    <tr style=\"text-align: right;\">\n",
       "      <th></th>\n",
       "      <th>user_id</th>\n",
       "      <th>first_name</th>\n",
       "      <th>last_name</th>\n",
       "      <th>age</th>\n",
       "      <th>city</th>\n",
       "      <th>reg_date</th>\n",
       "      <th>plan</th>\n",
       "    </tr>\n",
       "  </thead>\n",
       "  <tbody>\n",
       "    <tr>\n",
       "      <th>0</th>\n",
       "      <td>1000</td>\n",
       "      <td>Anamaria</td>\n",
       "      <td>Bauer</td>\n",
       "      <td>45</td>\n",
       "      <td>Atlanta-Sandy Springs-Roswell, GA MSA</td>\n",
       "      <td>24-12-18</td>\n",
       "      <td>ultimate</td>\n",
       "    </tr>\n",
       "    <tr>\n",
       "      <th>1</th>\n",
       "      <td>1001</td>\n",
       "      <td>Mickey</td>\n",
       "      <td>Wilkerson</td>\n",
       "      <td>28</td>\n",
       "      <td>Seattle-Tacoma-Bellevue, WA MSA</td>\n",
       "      <td>13-08-18</td>\n",
       "      <td>surf</td>\n",
       "    </tr>\n",
       "    <tr>\n",
       "      <th>2</th>\n",
       "      <td>1002</td>\n",
       "      <td>Carlee</td>\n",
       "      <td>Hoffman</td>\n",
       "      <td>36</td>\n",
       "      <td>Las Vegas-Henderson-Paradise, NV MSA</td>\n",
       "      <td>21-10-18</td>\n",
       "      <td>surf</td>\n",
       "    </tr>\n",
       "    <tr>\n",
       "      <th>3</th>\n",
       "      <td>1003</td>\n",
       "      <td>Reynaldo</td>\n",
       "      <td>Jenkins</td>\n",
       "      <td>52</td>\n",
       "      <td>Tulsa, OK MSA</td>\n",
       "      <td>28-01-18</td>\n",
       "      <td>surf</td>\n",
       "    </tr>\n",
       "    <tr>\n",
       "      <th>4</th>\n",
       "      <td>1004</td>\n",
       "      <td>Leonila</td>\n",
       "      <td>Thompson</td>\n",
       "      <td>40</td>\n",
       "      <td>Seattle-Tacoma-Bellevue, WA MSA</td>\n",
       "      <td>23-05-18</td>\n",
       "      <td>surf</td>\n",
       "    </tr>\n",
       "  </tbody>\n",
       "</table>\n",
       "</div>"
      ],
      "text/plain": [
       "   user_id first_name  last_name  age                                   city  \\\n",
       "0     1000   Anamaria      Bauer   45  Atlanta-Sandy Springs-Roswell, GA MSA   \n",
       "1     1001     Mickey  Wilkerson   28        Seattle-Tacoma-Bellevue, WA MSA   \n",
       "2     1002     Carlee    Hoffman   36   Las Vegas-Henderson-Paradise, NV MSA   \n",
       "3     1003   Reynaldo    Jenkins   52                          Tulsa, OK MSA   \n",
       "4     1004    Leonila   Thompson   40        Seattle-Tacoma-Bellevue, WA MSA   \n",
       "\n",
       "   reg_date      plan  \n",
       "0  24-12-18  ultimate  \n",
       "1  13-08-18      surf  \n",
       "2  21-10-18      surf  \n",
       "3  28-01-18      surf  \n",
       "4  23-05-18      surf  "
      ]
     },
     "execution_count": 439,
     "metadata": {},
     "output_type": "execute_result"
    }
   ],
   "source": [
    "print(usuarios.isnull().sum())\n",
    "usuarios_mod = usuarios.drop(labels=['churn_date'], axis='columns')\n",
    "usuarios_mod.head(5)"
   ]
  },
  {
   "cell_type": "code",
   "execution_count": 440,
   "metadata": {},
   "outputs": [
    {
     "name": "stdout",
     "output_type": "stream",
     "text": [
      "0\n"
     ]
    }
   ],
   "source": [
    "print(usuarios.duplicated().sum())"
   ]
  },
  {
   "cell_type": "markdown",
   "metadata": {
    "id": "o7MeKCid0q08"
   },
   "source": [
    "## Llamadas"
   ]
  },
  {
   "cell_type": "code",
   "execution_count": 441,
   "metadata": {
    "id": "6dDlnoDm0q08"
   },
   "outputs": [
    {
     "name": "stdout",
     "output_type": "stream",
     "text": [
      "<class 'pandas.core.frame.DataFrame'>\n",
      "RangeIndex: 137735 entries, 0 to 137734\n",
      "Data columns (total 4 columns):\n",
      " #   Column     Non-Null Count   Dtype  \n",
      "---  ------     --------------   -----  \n",
      " 0   id         137735 non-null  object \n",
      " 1   user_id    137735 non-null  int64  \n",
      " 2   call_date  137735 non-null  object \n",
      " 3   duration   137735 non-null  float64\n",
      "dtypes: float64(1), int64(1), object(2)\n",
      "memory usage: 4.2+ MB\n"
     ]
    }
   ],
   "source": [
    "# Imprime la información general/resumida sobre el DataFrame de las llamadas\n",
    "llamadas.info()"
   ]
  },
  {
   "cell_type": "code",
   "execution_count": 442,
   "metadata": {
    "id": "kuh1vlNB0q09"
   },
   "outputs": [
    {
     "data": {
      "text/html": [
       "<div>\n",
       "<style scoped>\n",
       "    .dataframe tbody tr th:only-of-type {\n",
       "        vertical-align: middle;\n",
       "    }\n",
       "\n",
       "    .dataframe tbody tr th {\n",
       "        vertical-align: top;\n",
       "    }\n",
       "\n",
       "    .dataframe thead th {\n",
       "        text-align: right;\n",
       "    }\n",
       "</style>\n",
       "<table border=\"1\" class=\"dataframe\">\n",
       "  <thead>\n",
       "    <tr style=\"text-align: right;\">\n",
       "      <th></th>\n",
       "      <th>id</th>\n",
       "      <th>user_id</th>\n",
       "      <th>call_date</th>\n",
       "      <th>duration</th>\n",
       "    </tr>\n",
       "  </thead>\n",
       "  <tbody>\n",
       "    <tr>\n",
       "      <th>0</th>\n",
       "      <td>1000_93</td>\n",
       "      <td>1000</td>\n",
       "      <td>2018-12-27</td>\n",
       "      <td>8.52</td>\n",
       "    </tr>\n",
       "    <tr>\n",
       "      <th>1</th>\n",
       "      <td>1000_145</td>\n",
       "      <td>1000</td>\n",
       "      <td>2018-12-27</td>\n",
       "      <td>13.66</td>\n",
       "    </tr>\n",
       "    <tr>\n",
       "      <th>2</th>\n",
       "      <td>1000_247</td>\n",
       "      <td>1000</td>\n",
       "      <td>2018-12-27</td>\n",
       "      <td>14.48</td>\n",
       "    </tr>\n",
       "    <tr>\n",
       "      <th>3</th>\n",
       "      <td>1000_309</td>\n",
       "      <td>1000</td>\n",
       "      <td>2018-12-28</td>\n",
       "      <td>5.76</td>\n",
       "    </tr>\n",
       "    <tr>\n",
       "      <th>4</th>\n",
       "      <td>1000_380</td>\n",
       "      <td>1000</td>\n",
       "      <td>2018-12-30</td>\n",
       "      <td>4.22</td>\n",
       "    </tr>\n",
       "  </tbody>\n",
       "</table>\n",
       "</div>"
      ],
      "text/plain": [
       "         id  user_id   call_date  duration\n",
       "0   1000_93     1000  2018-12-27      8.52\n",
       "1  1000_145     1000  2018-12-27     13.66\n",
       "2  1000_247     1000  2018-12-27     14.48\n",
       "3  1000_309     1000  2018-12-28      5.76\n",
       "4  1000_380     1000  2018-12-30      4.22"
      ]
     },
     "execution_count": 442,
     "metadata": {},
     "output_type": "execute_result"
    }
   ],
   "source": [
    "# Imprime una muestra de datos para las llamadas\n",
    "llamadas.head(5)"
   ]
  },
  {
   "cell_type": "markdown",
   "metadata": {
    "id": "DOAxYJSx0q09"
   },
   "source": [
    "El archivo megaline_calls.csv contiene información sobre las llamadas realizadas por los usuarios. La única modificación necesaria es la columna call_date, que debe cambiar su formato de fecha de YYYY-MM-DD a dd/mm/aa para ajustarse a los requisitos del proyecto. El resto de las columnas no requieren cambios."
   ]
  },
  {
   "cell_type": "markdown",
   "metadata": {
    "id": "S7hzxmbX0q0-"
   },
   "source": [
    "### Corregir los datos"
   ]
  },
  {
   "cell_type": "markdown",
   "metadata": {
    "id": "YxWyAjD20q0-"
   },
   "source": [
    "[Corrige los problemas obvios con los datos basándote en las observaciones iniciales.]"
   ]
  },
  {
   "cell_type": "code",
   "execution_count": 443,
   "metadata": {},
   "outputs": [
    {
     "name": "stdout",
     "output_type": "stream",
     "text": [
      "<class 'pandas.core.frame.DataFrame'>\n",
      "RangeIndex: 137735 entries, 0 to 137734\n",
      "Data columns (total 4 columns):\n",
      " #   Column     Non-Null Count   Dtype         \n",
      "---  ------     --------------   -----         \n",
      " 0   id         137735 non-null  object        \n",
      " 1   user_id    137735 non-null  int64         \n",
      " 2   call_date  137735 non-null  datetime64[ns]\n",
      " 3   duration   137735 non-null  float64       \n",
      "dtypes: datetime64[ns](1), float64(1), int64(1), object(1)\n",
      "memory usage: 4.2+ MB\n"
     ]
    }
   ],
   "source": [
    "#Convertir call_date en dtype datetime64\n",
    "llamadas.loc[:, 'call_date'] = pd.to_datetime(llamadas['call_date'], errors='coerce')\n",
    "# Redondear hacia arriba y convertir 'duration' a enteros\n",
    "llamadas.info()"
   ]
  },
  {
   "cell_type": "markdown",
   "metadata": {
    "id": "KrMgTrlG0q0_"
   },
   "source": [
    "### Enriquecer los datos"
   ]
  },
  {
   "cell_type": "code",
   "execution_count": 444,
   "metadata": {},
   "outputs": [
    {
     "data": {
      "text/html": [
       "<div>\n",
       "<style scoped>\n",
       "    .dataframe tbody tr th:only-of-type {\n",
       "        vertical-align: middle;\n",
       "    }\n",
       "\n",
       "    .dataframe tbody tr th {\n",
       "        vertical-align: top;\n",
       "    }\n",
       "\n",
       "    .dataframe thead th {\n",
       "        text-align: right;\n",
       "    }\n",
       "</style>\n",
       "<table border=\"1\" class=\"dataframe\">\n",
       "  <thead>\n",
       "    <tr style=\"text-align: right;\">\n",
       "      <th></th>\n",
       "      <th>id</th>\n",
       "      <th>user_id</th>\n",
       "      <th>call_date</th>\n",
       "      <th>duration</th>\n",
       "    </tr>\n",
       "  </thead>\n",
       "  <tbody>\n",
       "    <tr>\n",
       "      <th>54532</th>\n",
       "      <td>1196_420</td>\n",
       "      <td>1196</td>\n",
       "      <td>2018-01-15</td>\n",
       "      <td>0.00</td>\n",
       "    </tr>\n",
       "    <tr>\n",
       "      <th>20792</th>\n",
       "      <td>1077_759</td>\n",
       "      <td>1077</td>\n",
       "      <td>2018-01-15</td>\n",
       "      <td>10.69</td>\n",
       "    </tr>\n",
       "    <tr>\n",
       "      <th>20111</th>\n",
       "      <td>1077_78</td>\n",
       "      <td>1077</td>\n",
       "      <td>2018-01-15</td>\n",
       "      <td>9.15</td>\n",
       "    </tr>\n",
       "    <tr>\n",
       "      <th>54207</th>\n",
       "      <td>1196_84</td>\n",
       "      <td>1196</td>\n",
       "      <td>2018-01-15</td>\n",
       "      <td>10.91</td>\n",
       "    </tr>\n",
       "    <tr>\n",
       "      <th>20764</th>\n",
       "      <td>1077_731</td>\n",
       "      <td>1077</td>\n",
       "      <td>2018-01-15</td>\n",
       "      <td>0.00</td>\n",
       "    </tr>\n",
       "  </tbody>\n",
       "</table>\n",
       "</div>"
      ],
      "text/plain": [
       "             id  user_id  call_date  duration\n",
       "54532  1196_420     1196 2018-01-15      0.00\n",
       "20792  1077_759     1077 2018-01-15     10.69\n",
       "20111   1077_78     1077 2018-01-15      9.15\n",
       "54207   1196_84     1196 2018-01-15     10.91\n",
       "20764  1077_731     1077 2018-01-15      0.00"
      ]
     },
     "execution_count": 444,
     "metadata": {},
     "output_type": "execute_result"
    }
   ],
   "source": [
    "#ordenarlos por message_date para mejorar su visibilidad\n",
    "llamadas = llamadas.sort_values(by='call_date')\n",
    "llamadas.head()"
   ]
  },
  {
   "cell_type": "markdown",
   "metadata": {
    "id": "mOUZSi180q0_"
   },
   "source": [
    "## Mensajes"
   ]
  },
  {
   "cell_type": "code",
   "execution_count": 445,
   "metadata": {
    "id": "R-bYJpdV0q1A"
   },
   "outputs": [
    {
     "name": "stdout",
     "output_type": "stream",
     "text": [
      "<class 'pandas.core.frame.DataFrame'>\n",
      "RangeIndex: 76051 entries, 0 to 76050\n",
      "Data columns (total 3 columns):\n",
      " #   Column        Non-Null Count  Dtype \n",
      "---  ------        --------------  ----- \n",
      " 0   id            76051 non-null  object\n",
      " 1   user_id       76051 non-null  int64 \n",
      " 2   message_date  76051 non-null  object\n",
      "dtypes: int64(1), object(2)\n",
      "memory usage: 1.7+ MB\n"
     ]
    }
   ],
   "source": [
    "# Imprime la información general/resumida sobre el DataFrame de los mensajes\n",
    "mensajes.info()"
   ]
  },
  {
   "cell_type": "code",
   "execution_count": 446,
   "metadata": {
    "id": "mCEl2iGE0q1A"
   },
   "outputs": [
    {
     "data": {
      "text/html": [
       "<div>\n",
       "<style scoped>\n",
       "    .dataframe tbody tr th:only-of-type {\n",
       "        vertical-align: middle;\n",
       "    }\n",
       "\n",
       "    .dataframe tbody tr th {\n",
       "        vertical-align: top;\n",
       "    }\n",
       "\n",
       "    .dataframe thead th {\n",
       "        text-align: right;\n",
       "    }\n",
       "</style>\n",
       "<table border=\"1\" class=\"dataframe\">\n",
       "  <thead>\n",
       "    <tr style=\"text-align: right;\">\n",
       "      <th></th>\n",
       "      <th>id</th>\n",
       "      <th>user_id</th>\n",
       "      <th>message_date</th>\n",
       "    </tr>\n",
       "  </thead>\n",
       "  <tbody>\n",
       "    <tr>\n",
       "      <th>45445</th>\n",
       "      <td>1308_86</td>\n",
       "      <td>1308</td>\n",
       "      <td>2018-12-25</td>\n",
       "    </tr>\n",
       "    <tr>\n",
       "      <th>36824</th>\n",
       "      <td>1246_128</td>\n",
       "      <td>1246</td>\n",
       "      <td>2018-02-19</td>\n",
       "    </tr>\n",
       "    <tr>\n",
       "      <th>5648</th>\n",
       "      <td>1054_12</td>\n",
       "      <td>1054</td>\n",
       "      <td>2018-09-03</td>\n",
       "    </tr>\n",
       "    <tr>\n",
       "      <th>51680</th>\n",
       "      <td>1335_270</td>\n",
       "      <td>1335</td>\n",
       "      <td>2018-07-16</td>\n",
       "    </tr>\n",
       "    <tr>\n",
       "      <th>4122</th>\n",
       "      <td>1043_145</td>\n",
       "      <td>1043</td>\n",
       "      <td>2018-08-13</td>\n",
       "    </tr>\n",
       "  </tbody>\n",
       "</table>\n",
       "</div>"
      ],
      "text/plain": [
       "             id  user_id message_date\n",
       "45445   1308_86     1308   2018-12-25\n",
       "36824  1246_128     1246   2018-02-19\n",
       "5648    1054_12     1054   2018-09-03\n",
       "51680  1335_270     1335   2018-07-16\n",
       "4122   1043_145     1043   2018-08-13"
      ]
     },
     "execution_count": 446,
     "metadata": {},
     "output_type": "execute_result"
    }
   ],
   "source": [
    "# Imprime una muestra de datos para los mensajes\n",
    "mensajes.sample(5)"
   ]
  },
  {
   "cell_type": "markdown",
   "metadata": {
    "id": "04xDj7KH0q1A"
   },
   "source": [
    "El archivo messages contiene información sobre los mensajes enviados por los usuarios. Al igual que el archivo de llamadas, todos los datos están completos en cada categoría y no hay datos ausentes. La única modificación necesaria es el formato de la fecha, que debe ser convertido de su formato original al formato dd/mm/aa para cumplir con los requisitos del proyecto."
   ]
  },
  {
   "cell_type": "markdown",
   "metadata": {
    "id": "Sprfak900q1B"
   },
   "source": [
    "### Corregir los datos"
   ]
  },
  {
   "cell_type": "markdown",
   "metadata": {
    "id": "eGw7d9j10q1B"
   },
   "source": [
    "De manera similar, el archivo de mensajes no está organizado por user_id o un identificador único. Es importante ordenar este archivo por user_id o id para asegurar que los mensajes estén correctamente asignados a cada usuario y facilitar su análisis."
   ]
  },
  {
   "cell_type": "code",
   "execution_count": 548,
   "metadata": {},
   "outputs": [
    {
     "name": "stdout",
     "output_type": "stream",
     "text": [
      "<class 'pandas.core.frame.DataFrame'>\n",
      "Int64Index: 76051 entries, 10897 to 14069\n",
      "Data columns (total 4 columns):\n",
      " #   Column        Non-Null Count  Dtype         \n",
      "---  ------        --------------  -----         \n",
      " 0   id            76051 non-null  object        \n",
      " 1   user_id       76051 non-null  int64         \n",
      " 2   message_date  76051 non-null  datetime64[ns]\n",
      " 3   month         76051 non-null  int64         \n",
      "dtypes: datetime64[ns](1), int64(2), object(1)\n",
      "memory usage: 2.9+ MB\n"
     ]
    }
   ],
   "source": [
    "#Convertir message_date en dtype datetime64\n",
    "mensajes.loc[:, 'message_date'] = pd.to_datetime(mensajes['message_date'], errors='coerce')\n",
    "mensajes.info()"
   ]
  },
  {
   "cell_type": "markdown",
   "metadata": {
    "id": "HvLid7iD0q1B"
   },
   "source": [
    "### Enriquecer los datos"
   ]
  },
  {
   "cell_type": "markdown",
   "metadata": {
    "id": "zYEXZac10q1C"
   },
   "source": [
    "De manera similar, el archivo de mensajes no está organizado por user_id o un identificador único. Es importante ordenar este archivo por user_id o id para asegurar que los mensajes estén correctamente asignados a cada usuario y facilitar su análisis."
   ]
  },
  {
   "cell_type": "code",
   "execution_count": 448,
   "metadata": {},
   "outputs": [
    {
     "data": {
      "text/html": [
       "<div>\n",
       "<style scoped>\n",
       "    .dataframe tbody tr th:only-of-type {\n",
       "        vertical-align: middle;\n",
       "    }\n",
       "\n",
       "    .dataframe tbody tr th {\n",
       "        vertical-align: top;\n",
       "    }\n",
       "\n",
       "    .dataframe thead th {\n",
       "        text-align: right;\n",
       "    }\n",
       "</style>\n",
       "<table border=\"1\" class=\"dataframe\">\n",
       "  <thead>\n",
       "    <tr style=\"text-align: right;\">\n",
       "      <th></th>\n",
       "      <th>id</th>\n",
       "      <th>user_id</th>\n",
       "      <th>message_date</th>\n",
       "    </tr>\n",
       "  </thead>\n",
       "  <tbody>\n",
       "    <tr>\n",
       "      <th>10897</th>\n",
       "      <td>1077_168</td>\n",
       "      <td>1077</td>\n",
       "      <td>2018-01-15</td>\n",
       "    </tr>\n",
       "    <tr>\n",
       "      <th>10731</th>\n",
       "      <td>1077_2</td>\n",
       "      <td>1077</td>\n",
       "      <td>2018-01-15</td>\n",
       "    </tr>\n",
       "    <tr>\n",
       "      <th>10944</th>\n",
       "      <td>1077_215</td>\n",
       "      <td>1077</td>\n",
       "      <td>2018-01-16</td>\n",
       "    </tr>\n",
       "    <tr>\n",
       "      <th>11144</th>\n",
       "      <td>1077_415</td>\n",
       "      <td>1077</td>\n",
       "      <td>2018-01-16</td>\n",
       "    </tr>\n",
       "    <tr>\n",
       "      <th>31693</th>\n",
       "      <td>1196_177</td>\n",
       "      <td>1196</td>\n",
       "      <td>2018-01-16</td>\n",
       "    </tr>\n",
       "  </tbody>\n",
       "</table>\n",
       "</div>"
      ],
      "text/plain": [
       "             id  user_id message_date\n",
       "10897  1077_168     1077   2018-01-15\n",
       "10731    1077_2     1077   2018-01-15\n",
       "10944  1077_215     1077   2018-01-16\n",
       "11144  1077_415     1077   2018-01-16\n",
       "31693  1196_177     1196   2018-01-16"
      ]
     },
     "execution_count": 448,
     "metadata": {},
     "output_type": "execute_result"
    }
   ],
   "source": [
    "mensajes = mensajes.sort_values(by='message_date')\n",
    "mensajes.head()"
   ]
  },
  {
   "cell_type": "markdown",
   "metadata": {
    "id": "bStkaxn40q1C"
   },
   "source": [
    "## Internet"
   ]
  },
  {
   "cell_type": "code",
   "execution_count": 449,
   "metadata": {
    "id": "e-Uz5qyn0q1C"
   },
   "outputs": [
    {
     "name": "stdout",
     "output_type": "stream",
     "text": [
      "<class 'pandas.core.frame.DataFrame'>\n",
      "RangeIndex: 104825 entries, 0 to 104824\n",
      "Data columns (total 4 columns):\n",
      " #   Column        Non-Null Count   Dtype  \n",
      "---  ------        --------------   -----  \n",
      " 0   id            104825 non-null  object \n",
      " 1   user_id       104825 non-null  int64  \n",
      " 2   session_date  104825 non-null  object \n",
      " 3   mb_used       104825 non-null  float64\n",
      "dtypes: float64(1), int64(1), object(2)\n",
      "memory usage: 3.2+ MB\n"
     ]
    }
   ],
   "source": [
    "# Imprime la información general/resumida sobre el DataFrame de internet\n",
    "internet.info()\n"
   ]
  },
  {
   "cell_type": "code",
   "execution_count": 450,
   "metadata": {
    "id": "9r3x_XLw0q1C"
   },
   "outputs": [
    {
     "data": {
      "text/html": [
       "<div>\n",
       "<style scoped>\n",
       "    .dataframe tbody tr th:only-of-type {\n",
       "        vertical-align: middle;\n",
       "    }\n",
       "\n",
       "    .dataframe tbody tr th {\n",
       "        vertical-align: top;\n",
       "    }\n",
       "\n",
       "    .dataframe thead th {\n",
       "        text-align: right;\n",
       "    }\n",
       "</style>\n",
       "<table border=\"1\" class=\"dataframe\">\n",
       "  <thead>\n",
       "    <tr style=\"text-align: right;\">\n",
       "      <th></th>\n",
       "      <th>id</th>\n",
       "      <th>user_id</th>\n",
       "      <th>session_date</th>\n",
       "      <th>mb_used</th>\n",
       "    </tr>\n",
       "  </thead>\n",
       "  <tbody>\n",
       "    <tr>\n",
       "      <th>0</th>\n",
       "      <td>1000_13</td>\n",
       "      <td>1000</td>\n",
       "      <td>2018-12-29</td>\n",
       "      <td>89.86</td>\n",
       "    </tr>\n",
       "    <tr>\n",
       "      <th>1</th>\n",
       "      <td>1000_204</td>\n",
       "      <td>1000</td>\n",
       "      <td>2018-12-31</td>\n",
       "      <td>0.00</td>\n",
       "    </tr>\n",
       "    <tr>\n",
       "      <th>2</th>\n",
       "      <td>1000_379</td>\n",
       "      <td>1000</td>\n",
       "      <td>2018-12-28</td>\n",
       "      <td>660.40</td>\n",
       "    </tr>\n",
       "    <tr>\n",
       "      <th>3</th>\n",
       "      <td>1000_413</td>\n",
       "      <td>1000</td>\n",
       "      <td>2018-12-26</td>\n",
       "      <td>270.99</td>\n",
       "    </tr>\n",
       "    <tr>\n",
       "      <th>4</th>\n",
       "      <td>1000_442</td>\n",
       "      <td>1000</td>\n",
       "      <td>2018-12-27</td>\n",
       "      <td>880.22</td>\n",
       "    </tr>\n",
       "  </tbody>\n",
       "</table>\n",
       "</div>"
      ],
      "text/plain": [
       "         id  user_id session_date  mb_used\n",
       "0   1000_13     1000   2018-12-29    89.86\n",
       "1  1000_204     1000   2018-12-31     0.00\n",
       "2  1000_379     1000   2018-12-28   660.40\n",
       "3  1000_413     1000   2018-12-26   270.99\n",
       "4  1000_442     1000   2018-12-27   880.22"
      ]
     },
     "execution_count": 450,
     "metadata": {},
     "output_type": "execute_result"
    }
   ],
   "source": [
    "# Imprime una muestra de datos para el tráfico de internet\n",
    "internet.head()\n"
   ]
  },
  {
   "cell_type": "markdown",
   "metadata": {
    "id": "EzOG5ik30q1D"
   },
   "source": [
    "No se encuentran valores ausentes en el DataFrame. Lo único que requiere modificación es la columna session_date, la cual debe ser convertida a formato datetime64 para asegurar que los datos sean manipulados correctamente como fechas."
   ]
  },
  {
   "cell_type": "markdown",
   "metadata": {
    "id": "yA0tkPFg0q1D"
   },
   "source": [
    "### Corregir los datos"
   ]
  },
  {
   "cell_type": "code",
   "execution_count": 451,
   "metadata": {},
   "outputs": [
    {
     "name": "stdout",
     "output_type": "stream",
     "text": [
      "<class 'pandas.core.frame.DataFrame'>\n",
      "RangeIndex: 104825 entries, 0 to 104824\n",
      "Data columns (total 4 columns):\n",
      " #   Column        Non-Null Count   Dtype         \n",
      "---  ------        --------------   -----         \n",
      " 0   id            104825 non-null  object        \n",
      " 1   user_id       104825 non-null  int64         \n",
      " 2   session_date  104825 non-null  datetime64[ns]\n",
      " 3   mb_used       104825 non-null  float64       \n",
      "dtypes: datetime64[ns](1), float64(1), int64(1), object(1)\n",
      "memory usage: 3.2+ MB\n"
     ]
    }
   ],
   "source": [
    "#Convertir call_date en dtype datetime64\n",
    "internet.loc[:, 'session_date'] = pd.to_datetime(internet['session_date'], errors='coerce')\n",
    "internet.info()"
   ]
  },
  {
   "cell_type": "markdown",
   "metadata": {
    "id": "e8_mLF4a0q1E"
   },
   "source": [
    "### Enriquecer los datos"
   ]
  },
  {
   "cell_type": "markdown",
   "metadata": {
    "id": "xhNdn2tE0q1E"
   },
   "source": [
    "En el archivo internet, hemos ordenado los datos por la columna de fecha para asegurar que la información esté organizada cronológicamente. Esto facilita el análisis de la actividad de los usuarios a lo largo del tiempo y permite una mejor comprensión de las tendencias y patrones en el uso de los servicios de internet."
   ]
  },
  {
   "cell_type": "code",
   "execution_count": 452,
   "metadata": {
    "id": "ESiYPIEK0q1E"
   },
   "outputs": [
    {
     "data": {
      "text/html": [
       "<div>\n",
       "<style scoped>\n",
       "    .dataframe tbody tr th:only-of-type {\n",
       "        vertical-align: middle;\n",
       "    }\n",
       "\n",
       "    .dataframe tbody tr th {\n",
       "        vertical-align: top;\n",
       "    }\n",
       "\n",
       "    .dataframe thead th {\n",
       "        text-align: right;\n",
       "    }\n",
       "</style>\n",
       "<table border=\"1\" class=\"dataframe\">\n",
       "  <thead>\n",
       "    <tr style=\"text-align: right;\">\n",
       "      <th></th>\n",
       "      <th>id</th>\n",
       "      <th>user_id</th>\n",
       "      <th>session_date</th>\n",
       "      <th>mb_used</th>\n",
       "    </tr>\n",
       "  </thead>\n",
       "  <tbody>\n",
       "    <tr>\n",
       "      <th>17220</th>\n",
       "      <td>1077_340</td>\n",
       "      <td>1077</td>\n",
       "      <td>2018-01-15</td>\n",
       "      <td>287.25</td>\n",
       "    </tr>\n",
       "    <tr>\n",
       "      <th>17098</th>\n",
       "      <td>1077_218</td>\n",
       "      <td>1077</td>\n",
       "      <td>2018-01-15</td>\n",
       "      <td>906.65</td>\n",
       "    </tr>\n",
       "    <tr>\n",
       "      <th>17135</th>\n",
       "      <td>1077_255</td>\n",
       "      <td>1077</td>\n",
       "      <td>2018-01-16</td>\n",
       "      <td>922.71</td>\n",
       "    </tr>\n",
       "    <tr>\n",
       "      <th>17051</th>\n",
       "      <td>1077_171</td>\n",
       "      <td>1077</td>\n",
       "      <td>2018-01-16</td>\n",
       "      <td>853.38</td>\n",
       "    </tr>\n",
       "    <tr>\n",
       "      <th>44475</th>\n",
       "      <td>1196_488</td>\n",
       "      <td>1196</td>\n",
       "      <td>2018-01-17</td>\n",
       "      <td>0.00</td>\n",
       "    </tr>\n",
       "  </tbody>\n",
       "</table>\n",
       "</div>"
      ],
      "text/plain": [
       "             id  user_id session_date  mb_used\n",
       "17220  1077_340     1077   2018-01-15   287.25\n",
       "17098  1077_218     1077   2018-01-15   906.65\n",
       "17135  1077_255     1077   2018-01-16   922.71\n",
       "17051  1077_171     1077   2018-01-16   853.38\n",
       "44475  1196_488     1196   2018-01-17     0.00"
      ]
     },
     "execution_count": 452,
     "metadata": {},
     "output_type": "execute_result"
    }
   ],
   "source": [
    "#Ordenar los datos por medio de la session_date\n",
    "internet = internet.sort_values(by='session_date')\n",
    "internet.head()"
   ]
  },
  {
   "cell_type": "markdown",
   "metadata": {
    "id": "3UA2cqIW0q1E"
   },
   "source": [
    "## Estudiar las condiciones de las tarifas"
   ]
  },
  {
   "cell_type": "code",
   "execution_count": 453,
   "metadata": {
    "id": "i409op8p0q1F"
   },
   "outputs": [
    {
     "data": {
      "text/html": [
       "<div>\n",
       "<style scoped>\n",
       "    .dataframe tbody tr th:only-of-type {\n",
       "        vertical-align: middle;\n",
       "    }\n",
       "\n",
       "    .dataframe tbody tr th {\n",
       "        vertical-align: top;\n",
       "    }\n",
       "\n",
       "    .dataframe thead th {\n",
       "        text-align: right;\n",
       "    }\n",
       "</style>\n",
       "<table border=\"1\" class=\"dataframe\">\n",
       "  <thead>\n",
       "    <tr style=\"text-align: right;\">\n",
       "      <th></th>\n",
       "      <th>messages_included</th>\n",
       "      <th>mb_per_month_included</th>\n",
       "      <th>minutes_included</th>\n",
       "      <th>usd_monthly_pay</th>\n",
       "      <th>usd_per_gb</th>\n",
       "      <th>usd_per_message</th>\n",
       "      <th>usd_per_minute</th>\n",
       "      <th>plan_name</th>\n",
       "    </tr>\n",
       "  </thead>\n",
       "  <tbody>\n",
       "    <tr>\n",
       "      <th>0</th>\n",
       "      <td>50</td>\n",
       "      <td>15.0</td>\n",
       "      <td>500</td>\n",
       "      <td>20</td>\n",
       "      <td>10</td>\n",
       "      <td>0.03</td>\n",
       "      <td>0.03</td>\n",
       "      <td>surf</td>\n",
       "    </tr>\n",
       "    <tr>\n",
       "      <th>1</th>\n",
       "      <td>1000</td>\n",
       "      <td>30.0</td>\n",
       "      <td>3000</td>\n",
       "      <td>70</td>\n",
       "      <td>7</td>\n",
       "      <td>0.01</td>\n",
       "      <td>0.01</td>\n",
       "      <td>ultimate</td>\n",
       "    </tr>\n",
       "  </tbody>\n",
       "</table>\n",
       "</div>"
      ],
      "text/plain": [
       "   messages_included  mb_per_month_included  minutes_included  \\\n",
       "0                 50                   15.0               500   \n",
       "1               1000                   30.0              3000   \n",
       "\n",
       "   usd_monthly_pay  usd_per_gb  usd_per_message  usd_per_minute plan_name  \n",
       "0               20          10             0.03            0.03      surf  \n",
       "1               70           7             0.01            0.01  ultimate  "
      ]
     },
     "execution_count": 453,
     "metadata": {},
     "output_type": "execute_result"
    }
   ],
   "source": [
    "# Imprime las condiciones de la tarifa y asegúrate de que te quedan claras\n",
    "tarifas.head()"
   ]
  },
  {
   "cell_type": "markdown",
   "metadata": {
    "id": "hMR1tP5d0q1F"
   },
   "source": [
    "## Agregar datos por usuario"
   ]
  },
  {
   "cell_type": "code",
   "execution_count": 456,
   "metadata": {
    "id": "A332cedB0q1G"
   },
   "outputs": [
    {
     "data": {
      "text/html": [
       "<div>\n",
       "<style scoped>\n",
       "    .dataframe tbody tr th:only-of-type {\n",
       "        vertical-align: middle;\n",
       "    }\n",
       "\n",
       "    .dataframe tbody tr th {\n",
       "        vertical-align: top;\n",
       "    }\n",
       "\n",
       "    .dataframe thead th {\n",
       "        text-align: right;\n",
       "    }\n",
       "</style>\n",
       "<table border=\"1\" class=\"dataframe\">\n",
       "  <thead>\n",
       "    <tr style=\"text-align: right;\">\n",
       "      <th></th>\n",
       "      <th>user_id</th>\n",
       "      <th>month</th>\n",
       "      <th>month_calls</th>\n",
       "    </tr>\n",
       "  </thead>\n",
       "  <tbody>\n",
       "    <tr>\n",
       "      <th>0</th>\n",
       "      <td>1000</td>\n",
       "      <td>12</td>\n",
       "      <td>16</td>\n",
       "    </tr>\n",
       "    <tr>\n",
       "      <th>1</th>\n",
       "      <td>1001</td>\n",
       "      <td>8</td>\n",
       "      <td>27</td>\n",
       "    </tr>\n",
       "    <tr>\n",
       "      <th>2</th>\n",
       "      <td>1001</td>\n",
       "      <td>9</td>\n",
       "      <td>49</td>\n",
       "    </tr>\n",
       "    <tr>\n",
       "      <th>3</th>\n",
       "      <td>1001</td>\n",
       "      <td>10</td>\n",
       "      <td>65</td>\n",
       "    </tr>\n",
       "    <tr>\n",
       "      <th>4</th>\n",
       "      <td>1001</td>\n",
       "      <td>11</td>\n",
       "      <td>64</td>\n",
       "    </tr>\n",
       "  </tbody>\n",
       "</table>\n",
       "</div>"
      ],
      "text/plain": [
       "   user_id  month  month_calls\n",
       "0     1000     12           16\n",
       "1     1001      8           27\n",
       "2     1001      9           49\n",
       "3     1001     10           65\n",
       "4     1001     11           64"
      ]
     },
     "execution_count": 456,
     "metadata": {},
     "output_type": "execute_result"
    }
   ],
   "source": [
    "# Calcula el número de llamadas hechas por cada usuario al mes. Guarda el resultado.\n",
    "# confirmar de que 'call_date' está en formato de fecha\n",
    "llamadas['call_date'] = pd.to_datetime(llamadas['call_date'], errors='coerce')\n",
    "# Extraer el mes de la fecha\n",
    "llamadas['month'] = llamadas['call_date'].dt.month\n",
    "# Agrupar por usuario y mes, y calcular la duración total de las llamadas\n",
    "llamadas_x_mes = llamadas.groupby(by=['user_id','month'])['call_date']\n",
    "#Contar cuanto es por mes y agregamos el nombre de la columna de la suma\n",
    "llamadas_mes_cuenta = llamadas_x_mes.count().reset_index()\n",
    "#agrego el nombre correcto\n",
    "llamadas_mes_cuenta.rename(columns={'call_date': 'month_calls'}, inplace=True)\n",
    "# Verificar el resultado\n",
    "llamadas_mes_cuenta.head(5)"
   ]
  },
  {
   "cell_type": "code",
   "execution_count": 457,
   "metadata": {},
   "outputs": [
    {
     "data": {
      "text/html": [
       "<div>\n",
       "<style scoped>\n",
       "    .dataframe tbody tr th:only-of-type {\n",
       "        vertical-align: middle;\n",
       "    }\n",
       "\n",
       "    .dataframe tbody tr th {\n",
       "        vertical-align: top;\n",
       "    }\n",
       "\n",
       "    .dataframe thead th {\n",
       "        text-align: right;\n",
       "    }\n",
       "</style>\n",
       "<table border=\"1\" class=\"dataframe\">\n",
       "  <thead>\n",
       "    <tr style=\"text-align: right;\">\n",
       "      <th></th>\n",
       "      <th>user_id</th>\n",
       "      <th>month</th>\n",
       "      <th>month_duration</th>\n",
       "    </tr>\n",
       "  </thead>\n",
       "  <tbody>\n",
       "    <tr>\n",
       "      <th>0</th>\n",
       "      <td>1000</td>\n",
       "      <td>12</td>\n",
       "      <td>116.83</td>\n",
       "    </tr>\n",
       "    <tr>\n",
       "      <th>1</th>\n",
       "      <td>1001</td>\n",
       "      <td>8</td>\n",
       "      <td>171.14</td>\n",
       "    </tr>\n",
       "    <tr>\n",
       "      <th>2</th>\n",
       "      <td>1001</td>\n",
       "      <td>9</td>\n",
       "      <td>297.69</td>\n",
       "    </tr>\n",
       "    <tr>\n",
       "      <th>3</th>\n",
       "      <td>1001</td>\n",
       "      <td>10</td>\n",
       "      <td>374.11</td>\n",
       "    </tr>\n",
       "    <tr>\n",
       "      <th>4</th>\n",
       "      <td>1001</td>\n",
       "      <td>11</td>\n",
       "      <td>404.59</td>\n",
       "    </tr>\n",
       "  </tbody>\n",
       "</table>\n",
       "</div>"
      ],
      "text/plain": [
       "   user_id  month  month_duration\n",
       "0     1000     12          116.83\n",
       "1     1001      8          171.14\n",
       "2     1001      9          297.69\n",
       "3     1001     10          374.11\n",
       "4     1001     11          404.59"
      ]
     },
     "execution_count": 457,
     "metadata": {},
     "output_type": "execute_result"
    }
   ],
   "source": [
    "# Calcula la cantidad de minutos usados por cada usuario al mes. Guarda el resultado.\n",
    "# confirmar de que 'call_date' está en formato de fecha\n",
    "llamadas['call_date'] = pd.to_datetime(llamadas['call_date'], errors='coerce')\n",
    "# Extraer el mes de la fecha\n",
    "llamadas['month'] = llamadas['call_date'].dt.month\n",
    "# Agrupar por usuario y mes, y calcular la duración total de las llamadas\n",
    "minutos_mes = llamadas.groupby(by=['user_id','month'])['duration']\n",
    "#Contar cuanto es por mes y agregamos el nombre de la columna de la suma\n",
    "minutos_x_mes = minutos_mes.sum().reset_index()\n",
    "#agrego el nombre correcto\n",
    "minutos_x_mes.rename(columns={'duration': 'month_duration'}, inplace=True)\n",
    "# Verificar el resultado\n",
    "minutos_x_mes.head(5)"
   ]
  },
  {
   "cell_type": "code",
   "execution_count": 459,
   "metadata": {
    "id": "CcQvNHn60q1G"
   },
   "outputs": [
    {
     "data": {
      "text/html": [
       "<div>\n",
       "<style scoped>\n",
       "    .dataframe tbody tr th:only-of-type {\n",
       "        vertical-align: middle;\n",
       "    }\n",
       "\n",
       "    .dataframe tbody tr th {\n",
       "        vertical-align: top;\n",
       "    }\n",
       "\n",
       "    .dataframe thead th {\n",
       "        text-align: right;\n",
       "    }\n",
       "</style>\n",
       "<table border=\"1\" class=\"dataframe\">\n",
       "  <thead>\n",
       "    <tr style=\"text-align: right;\">\n",
       "      <th></th>\n",
       "      <th>user_id</th>\n",
       "      <th>month</th>\n",
       "      <th>month_messages</th>\n",
       "    </tr>\n",
       "  </thead>\n",
       "  <tbody>\n",
       "    <tr>\n",
       "      <th>0</th>\n",
       "      <td>1000</td>\n",
       "      <td>12</td>\n",
       "      <td>11</td>\n",
       "    </tr>\n",
       "    <tr>\n",
       "      <th>1</th>\n",
       "      <td>1001</td>\n",
       "      <td>8</td>\n",
       "      <td>30</td>\n",
       "    </tr>\n",
       "    <tr>\n",
       "      <th>2</th>\n",
       "      <td>1001</td>\n",
       "      <td>9</td>\n",
       "      <td>44</td>\n",
       "    </tr>\n",
       "    <tr>\n",
       "      <th>3</th>\n",
       "      <td>1001</td>\n",
       "      <td>10</td>\n",
       "      <td>53</td>\n",
       "    </tr>\n",
       "    <tr>\n",
       "      <th>4</th>\n",
       "      <td>1001</td>\n",
       "      <td>11</td>\n",
       "      <td>36</td>\n",
       "    </tr>\n",
       "  </tbody>\n",
       "</table>\n",
       "</div>"
      ],
      "text/plain": [
       "   user_id  month  month_messages\n",
       "0     1000     12              11\n",
       "1     1001      8              30\n",
       "2     1001      9              44\n",
       "3     1001     10              53\n",
       "4     1001     11              36"
      ]
     },
     "execution_count": 459,
     "metadata": {},
     "output_type": "execute_result"
    }
   ],
   "source": [
    "# Calcula el número de mensajes enviados por cada usuario al mes. Guarda el resultado.\n",
    "# confirmar de que 'message_date' está en formato de fecha\n",
    "mensajes['message_date'] = pd.to_datetime(mensajes['message_date'], errors='coerce')\n",
    "# Extraer el mes de la fecha\n",
    "mensajes['month'] = mensajes['message_date'].dt.month\n",
    "# Agrupar por usuario y mes, \n",
    "mensajes_x_mes = mensajes.groupby(by=['user_id','month'])['message_date']\n",
    "#Contar cuantos mensajes se enviaron por mes\n",
    "mensajes_mes_cuenta = mensajes_x_mes.count().reset_index()\n",
    "#agrego el nombre correcto\n",
    "mensajes_mes_cuenta.rename(columns={'message_date': 'month_messages'}, inplace=True)\n",
    "# Verificar el resultado\n",
    "mensajes_mes_cuenta.head(5)\n"
   ]
  },
  {
   "cell_type": "code",
   "execution_count": 462,
   "metadata": {
    "id": "H1AqN2eG0q1H"
   },
   "outputs": [
    {
     "data": {
      "text/html": [
       "<div>\n",
       "<style scoped>\n",
       "    .dataframe tbody tr th:only-of-type {\n",
       "        vertical-align: middle;\n",
       "    }\n",
       "\n",
       "    .dataframe tbody tr th {\n",
       "        vertical-align: top;\n",
       "    }\n",
       "\n",
       "    .dataframe thead th {\n",
       "        text-align: right;\n",
       "    }\n",
       "</style>\n",
       "<table border=\"1\" class=\"dataframe\">\n",
       "  <thead>\n",
       "    <tr style=\"text-align: right;\">\n",
       "      <th></th>\n",
       "      <th>user_id</th>\n",
       "      <th>month</th>\n",
       "      <th>month_trafic</th>\n",
       "    </tr>\n",
       "  </thead>\n",
       "  <tbody>\n",
       "    <tr>\n",
       "      <th>0</th>\n",
       "      <td>1000</td>\n",
       "      <td>12</td>\n",
       "      <td>1901.47</td>\n",
       "    </tr>\n",
       "    <tr>\n",
       "      <th>1</th>\n",
       "      <td>1001</td>\n",
       "      <td>8</td>\n",
       "      <td>6919.15</td>\n",
       "    </tr>\n",
       "    <tr>\n",
       "      <th>2</th>\n",
       "      <td>1001</td>\n",
       "      <td>9</td>\n",
       "      <td>13314.82</td>\n",
       "    </tr>\n",
       "    <tr>\n",
       "      <th>3</th>\n",
       "      <td>1001</td>\n",
       "      <td>10</td>\n",
       "      <td>22330.49</td>\n",
       "    </tr>\n",
       "    <tr>\n",
       "      <th>4</th>\n",
       "      <td>1001</td>\n",
       "      <td>11</td>\n",
       "      <td>18504.30</td>\n",
       "    </tr>\n",
       "  </tbody>\n",
       "</table>\n",
       "</div>"
      ],
      "text/plain": [
       "   user_id  month  month_trafic\n",
       "0     1000     12       1901.47\n",
       "1     1001      8       6919.15\n",
       "2     1001      9      13314.82\n",
       "3     1001     10      22330.49\n",
       "4     1001     11      18504.30"
      ]
     },
     "execution_count": 462,
     "metadata": {},
     "output_type": "execute_result"
    }
   ],
   "source": [
    "# Calcula el volumen del tráfico de Internet usado por cada usuario al mes. Guarda el resultado.\n",
    "# confirmar de que 'session_date' está en formato de fecha\n",
    "internet['session_date'] = pd.to_datetime(internet['session_date'], errors='coerce')\n",
    "# Extraer por meses\n",
    "internet['month'] = internet['session_date'].dt.month\n",
    "# Agrupar por usuario y mes, \n",
    "volumen_x_mes = internet.groupby(by=['user_id','month'])['mb_used']\n",
    "#Contar cuantos mensajes se enviaron por mes\n",
    "volumen_mes_total = volumen_x_mes.sum().reset_index()\n",
    "#agrego el nombre correcto\n",
    "volumen_mes_total.rename(columns={'mb_used': 'month_trafic'}, inplace=True)\n",
    "# Verificar el resultado\n",
    "volumen_mes_total.head(5)\n"
   ]
  },
  {
   "cell_type": "code",
   "execution_count": 463,
   "metadata": {
    "id": "FW99ykyf0q1H"
   },
   "outputs": [
    {
     "data": {
      "text/html": [
       "<div>\n",
       "<style scoped>\n",
       "    .dataframe tbody tr th:only-of-type {\n",
       "        vertical-align: middle;\n",
       "    }\n",
       "\n",
       "    .dataframe tbody tr th {\n",
       "        vertical-align: top;\n",
       "    }\n",
       "\n",
       "    .dataframe thead th {\n",
       "        text-align: right;\n",
       "    }\n",
       "</style>\n",
       "<table border=\"1\" class=\"dataframe\">\n",
       "  <thead>\n",
       "    <tr style=\"text-align: right;\">\n",
       "      <th></th>\n",
       "      <th>user_id</th>\n",
       "      <th>month</th>\n",
       "      <th>month_calls</th>\n",
       "      <th>month_duration</th>\n",
       "    </tr>\n",
       "  </thead>\n",
       "  <tbody>\n",
       "    <tr>\n",
       "      <th>0</th>\n",
       "      <td>1000</td>\n",
       "      <td>12</td>\n",
       "      <td>16</td>\n",
       "      <td>116.83</td>\n",
       "    </tr>\n",
       "    <tr>\n",
       "      <th>1</th>\n",
       "      <td>1001</td>\n",
       "      <td>8</td>\n",
       "      <td>27</td>\n",
       "      <td>171.14</td>\n",
       "    </tr>\n",
       "    <tr>\n",
       "      <th>2</th>\n",
       "      <td>1001</td>\n",
       "      <td>9</td>\n",
       "      <td>49</td>\n",
       "      <td>297.69</td>\n",
       "    </tr>\n",
       "    <tr>\n",
       "      <th>3</th>\n",
       "      <td>1001</td>\n",
       "      <td>10</td>\n",
       "      <td>65</td>\n",
       "      <td>374.11</td>\n",
       "    </tr>\n",
       "    <tr>\n",
       "      <th>4</th>\n",
       "      <td>1001</td>\n",
       "      <td>11</td>\n",
       "      <td>64</td>\n",
       "      <td>404.59</td>\n",
       "    </tr>\n",
       "  </tbody>\n",
       "</table>\n",
       "</div>"
      ],
      "text/plain": [
       "   user_id  month  month_calls  month_duration\n",
       "0     1000     12           16          116.83\n",
       "1     1001      8           27          171.14\n",
       "2     1001      9           49          297.69\n",
       "3     1001     10           65          374.11\n",
       "4     1001     11           64          404.59"
      ]
     },
     "execution_count": 463,
     "metadata": {},
     "output_type": "execute_result"
    }
   ],
   "source": [
    "# Fusiona los datos de llamadas, minutos, mensajes e Internet con base en user_id y month\n",
    "#paso 1 fusionando las llamadas y minutos, para formar un DF\n",
    "llam_y_min = llamadas_mes_cuenta.merge(minutos_x_mes, on=['user_id', 'month'], how='outer')\n",
    "llam_y_min.head(5)"
   ]
  },
  {
   "cell_type": "code",
   "execution_count": 464,
   "metadata": {},
   "outputs": [
    {
     "data": {
      "text/html": [
       "<div>\n",
       "<style scoped>\n",
       "    .dataframe tbody tr th:only-of-type {\n",
       "        vertical-align: middle;\n",
       "    }\n",
       "\n",
       "    .dataframe tbody tr th {\n",
       "        vertical-align: top;\n",
       "    }\n",
       "\n",
       "    .dataframe thead th {\n",
       "        text-align: right;\n",
       "    }\n",
       "</style>\n",
       "<table border=\"1\" class=\"dataframe\">\n",
       "  <thead>\n",
       "    <tr style=\"text-align: right;\">\n",
       "      <th></th>\n",
       "      <th>user_id</th>\n",
       "      <th>month</th>\n",
       "      <th>month_messages</th>\n",
       "      <th>month_trafic</th>\n",
       "    </tr>\n",
       "  </thead>\n",
       "  <tbody>\n",
       "    <tr>\n",
       "      <th>0</th>\n",
       "      <td>1000</td>\n",
       "      <td>12</td>\n",
       "      <td>11.0</td>\n",
       "      <td>1901.47</td>\n",
       "    </tr>\n",
       "    <tr>\n",
       "      <th>1</th>\n",
       "      <td>1001</td>\n",
       "      <td>8</td>\n",
       "      <td>30.0</td>\n",
       "      <td>6919.15</td>\n",
       "    </tr>\n",
       "    <tr>\n",
       "      <th>2</th>\n",
       "      <td>1001</td>\n",
       "      <td>9</td>\n",
       "      <td>44.0</td>\n",
       "      <td>13314.82</td>\n",
       "    </tr>\n",
       "    <tr>\n",
       "      <th>3</th>\n",
       "      <td>1001</td>\n",
       "      <td>10</td>\n",
       "      <td>53.0</td>\n",
       "      <td>22330.49</td>\n",
       "    </tr>\n",
       "    <tr>\n",
       "      <th>4</th>\n",
       "      <td>1001</td>\n",
       "      <td>11</td>\n",
       "      <td>36.0</td>\n",
       "      <td>18504.30</td>\n",
       "    </tr>\n",
       "  </tbody>\n",
       "</table>\n",
       "</div>"
      ],
      "text/plain": [
       "   user_id  month  month_messages  month_trafic\n",
       "0     1000     12            11.0       1901.47\n",
       "1     1001      8            30.0       6919.15\n",
       "2     1001      9            44.0      13314.82\n",
       "3     1001     10            53.0      22330.49\n",
       "4     1001     11            36.0      18504.30"
      ]
     },
     "execution_count": 464,
     "metadata": {},
     "output_type": "execute_result"
    }
   ],
   "source": [
    "#paso 2 fusionando mensajes e internet para tener un nuevo DF\n",
    "wifi_y_men = mensajes_mes_cuenta.merge(volumen_mes_total, on=['user_id', 'month'], how='outer')\n",
    "wifi_y_men.head(5)"
   ]
  },
  {
   "cell_type": "code",
   "execution_count": 465,
   "metadata": {},
   "outputs": [
    {
     "data": {
      "text/html": [
       "<div>\n",
       "<style scoped>\n",
       "    .dataframe tbody tr th:only-of-type {\n",
       "        vertical-align: middle;\n",
       "    }\n",
       "\n",
       "    .dataframe tbody tr th {\n",
       "        vertical-align: top;\n",
       "    }\n",
       "\n",
       "    .dataframe thead th {\n",
       "        text-align: right;\n",
       "    }\n",
       "</style>\n",
       "<table border=\"1\" class=\"dataframe\">\n",
       "  <thead>\n",
       "    <tr style=\"text-align: right;\">\n",
       "      <th></th>\n",
       "      <th>user_id</th>\n",
       "      <th>month</th>\n",
       "      <th>month_calls</th>\n",
       "      <th>month_duration</th>\n",
       "      <th>month_messages</th>\n",
       "      <th>month_trafic</th>\n",
       "    </tr>\n",
       "  </thead>\n",
       "  <tbody>\n",
       "    <tr>\n",
       "      <th>0</th>\n",
       "      <td>1000</td>\n",
       "      <td>12</td>\n",
       "      <td>16.0</td>\n",
       "      <td>116.83</td>\n",
       "      <td>11.0</td>\n",
       "      <td>1901.47</td>\n",
       "    </tr>\n",
       "    <tr>\n",
       "      <th>1</th>\n",
       "      <td>1001</td>\n",
       "      <td>8</td>\n",
       "      <td>27.0</td>\n",
       "      <td>171.14</td>\n",
       "      <td>30.0</td>\n",
       "      <td>6919.15</td>\n",
       "    </tr>\n",
       "    <tr>\n",
       "      <th>2</th>\n",
       "      <td>1001</td>\n",
       "      <td>9</td>\n",
       "      <td>49.0</td>\n",
       "      <td>297.69</td>\n",
       "      <td>44.0</td>\n",
       "      <td>13314.82</td>\n",
       "    </tr>\n",
       "    <tr>\n",
       "      <th>3</th>\n",
       "      <td>1001</td>\n",
       "      <td>10</td>\n",
       "      <td>65.0</td>\n",
       "      <td>374.11</td>\n",
       "      <td>53.0</td>\n",
       "      <td>22330.49</td>\n",
       "    </tr>\n",
       "    <tr>\n",
       "      <th>4</th>\n",
       "      <td>1001</td>\n",
       "      <td>11</td>\n",
       "      <td>64.0</td>\n",
       "      <td>404.59</td>\n",
       "      <td>36.0</td>\n",
       "      <td>18504.30</td>\n",
       "    </tr>\n",
       "  </tbody>\n",
       "</table>\n",
       "</div>"
      ],
      "text/plain": [
       "   user_id  month  month_calls  month_duration  month_messages  month_trafic\n",
       "0     1000     12         16.0          116.83            11.0       1901.47\n",
       "1     1001      8         27.0          171.14            30.0       6919.15\n",
       "2     1001      9         49.0          297.69            44.0      13314.82\n",
       "3     1001     10         65.0          374.11            53.0      22330.49\n",
       "4     1001     11         64.0          404.59            36.0      18504.30"
      ]
     },
     "execution_count": 465,
     "metadata": {},
     "output_type": "execute_result"
    }
   ],
   "source": [
    "#Paso 3 fusionando Paso 1 y Paso 2\n",
    "fusion_dfs = llam_y_min.merge(wifi_y_men, on=['user_id', 'month'], how='outer')\n",
    "fusion_dfs.head(5)"
   ]
  },
  {
   "cell_type": "code",
   "execution_count": 546,
   "metadata": {
    "id": "0dNOXHag0q1H"
   },
   "outputs": [
    {
     "data": {
      "text/html": [
       "<div>\n",
       "<style scoped>\n",
       "    .dataframe tbody tr th:only-of-type {\n",
       "        vertical-align: middle;\n",
       "    }\n",
       "\n",
       "    .dataframe tbody tr th {\n",
       "        vertical-align: top;\n",
       "    }\n",
       "\n",
       "    .dataframe thead th {\n",
       "        text-align: right;\n",
       "    }\n",
       "</style>\n",
       "<table border=\"1\" class=\"dataframe\">\n",
       "  <thead>\n",
       "    <tr style=\"text-align: right;\">\n",
       "      <th></th>\n",
       "      <th>user_id</th>\n",
       "      <th>month</th>\n",
       "      <th>month_calls</th>\n",
       "      <th>month_duration</th>\n",
       "      <th>month_messages</th>\n",
       "      <th>month_trafic</th>\n",
       "      <th>plan_name</th>\n",
       "      <th>city</th>\n",
       "      <th>messages_included</th>\n",
       "      <th>mb_per_month_included</th>\n",
       "      <th>minutes_included</th>\n",
       "      <th>usd_monthly_pay</th>\n",
       "      <th>usd_per_gb</th>\n",
       "      <th>usd_per_message</th>\n",
       "      <th>usd_per_minute</th>\n",
       "    </tr>\n",
       "  </thead>\n",
       "  <tbody>\n",
       "    <tr>\n",
       "      <th>0</th>\n",
       "      <td>1000</td>\n",
       "      <td>12.0</td>\n",
       "      <td>16.0</td>\n",
       "      <td>116.83</td>\n",
       "      <td>11.0</td>\n",
       "      <td>1901.47</td>\n",
       "      <td>ultimate</td>\n",
       "      <td>Atlanta-Sandy Springs-Roswell, GA MSA</td>\n",
       "      <td>1000</td>\n",
       "      <td>30.0</td>\n",
       "      <td>3000</td>\n",
       "      <td>70</td>\n",
       "      <td>7</td>\n",
       "      <td>0.01</td>\n",
       "      <td>0.01</td>\n",
       "    </tr>\n",
       "    <tr>\n",
       "      <th>1</th>\n",
       "      <td>1006</td>\n",
       "      <td>11.0</td>\n",
       "      <td>2.0</td>\n",
       "      <td>9.32</td>\n",
       "      <td>15.0</td>\n",
       "      <td>2068.37</td>\n",
       "      <td>ultimate</td>\n",
       "      <td>San Francisco-Oakland-Berkeley, CA MSA</td>\n",
       "      <td>1000</td>\n",
       "      <td>30.0</td>\n",
       "      <td>3000</td>\n",
       "      <td>70</td>\n",
       "      <td>7</td>\n",
       "      <td>0.01</td>\n",
       "      <td>0.01</td>\n",
       "    </tr>\n",
       "    <tr>\n",
       "      <th>2</th>\n",
       "      <td>1006</td>\n",
       "      <td>12.0</td>\n",
       "      <td>9.0</td>\n",
       "      <td>54.79</td>\n",
       "      <td>139.0</td>\n",
       "      <td>32118.82</td>\n",
       "      <td>ultimate</td>\n",
       "      <td>San Francisco-Oakland-Berkeley, CA MSA</td>\n",
       "      <td>1000</td>\n",
       "      <td>30.0</td>\n",
       "      <td>3000</td>\n",
       "      <td>70</td>\n",
       "      <td>7</td>\n",
       "      <td>0.01</td>\n",
       "      <td>0.01</td>\n",
       "    </tr>\n",
       "    <tr>\n",
       "      <th>3</th>\n",
       "      <td>1008</td>\n",
       "      <td>10.0</td>\n",
       "      <td>71.0</td>\n",
       "      <td>450.21</td>\n",
       "      <td>21.0</td>\n",
       "      <td>17106.99</td>\n",
       "      <td>ultimate</td>\n",
       "      <td>Orlando-Kissimmee-Sanford, FL MSA</td>\n",
       "      <td>1000</td>\n",
       "      <td>30.0</td>\n",
       "      <td>3000</td>\n",
       "      <td>70</td>\n",
       "      <td>7</td>\n",
       "      <td>0.01</td>\n",
       "      <td>0.01</td>\n",
       "    </tr>\n",
       "    <tr>\n",
       "      <th>4</th>\n",
       "      <td>1008</td>\n",
       "      <td>11.0</td>\n",
       "      <td>63.0</td>\n",
       "      <td>422.81</td>\n",
       "      <td>37.0</td>\n",
       "      <td>23676.72</td>\n",
       "      <td>ultimate</td>\n",
       "      <td>Orlando-Kissimmee-Sanford, FL MSA</td>\n",
       "      <td>1000</td>\n",
       "      <td>30.0</td>\n",
       "      <td>3000</td>\n",
       "      <td>70</td>\n",
       "      <td>7</td>\n",
       "      <td>0.01</td>\n",
       "      <td>0.01</td>\n",
       "    </tr>\n",
       "  </tbody>\n",
       "</table>\n",
       "</div>"
      ],
      "text/plain": [
       "   user_id  month  month_calls  month_duration  month_messages  month_trafic  \\\n",
       "0     1000   12.0         16.0          116.83            11.0       1901.47   \n",
       "1     1006   11.0          2.0            9.32            15.0       2068.37   \n",
       "2     1006   12.0          9.0           54.79           139.0      32118.82   \n",
       "3     1008   10.0         71.0          450.21            21.0      17106.99   \n",
       "4     1008   11.0         63.0          422.81            37.0      23676.72   \n",
       "\n",
       "  plan_name                                    city  messages_included  \\\n",
       "0  ultimate   Atlanta-Sandy Springs-Roswell, GA MSA               1000   \n",
       "1  ultimate  San Francisco-Oakland-Berkeley, CA MSA               1000   \n",
       "2  ultimate  San Francisco-Oakland-Berkeley, CA MSA               1000   \n",
       "3  ultimate       Orlando-Kissimmee-Sanford, FL MSA               1000   \n",
       "4  ultimate       Orlando-Kissimmee-Sanford, FL MSA               1000   \n",
       "\n",
       "   mb_per_month_included  minutes_included  usd_monthly_pay  usd_per_gb  \\\n",
       "0                   30.0              3000               70           7   \n",
       "1                   30.0              3000               70           7   \n",
       "2                   30.0              3000               70           7   \n",
       "3                   30.0              3000               70           7   \n",
       "4                   30.0              3000               70           7   \n",
       "\n",
       "   usd_per_message  usd_per_minute  \n",
       "0             0.01            0.01  \n",
       "1             0.01            0.01  \n",
       "2             0.01            0.01  \n",
       "3             0.01            0.01  \n",
       "4             0.01            0.01  "
      ]
     },
     "execution_count": 546,
     "metadata": {},
     "output_type": "execute_result"
    }
   ],
   "source": [
    "# Añade la información de la tarifa\n",
    "#Paso 1 sacar el plan de usuarios con el user_id\n",
    "usuarios_plan = usuarios.loc[:,['user_id','plan', 'city']]\n",
    "#paso 2: agregar el plan a DF fusion_dfs \n",
    "fusion_plan = fusion_dfs.merge(usuarios_plan, on='user_id', how='outer')\n",
    "fusion_plan.head(5)\n",
    "#Rellamar la columna de plan con plan_name para que pueda unificar la información\n",
    "fusion_plan.rename(columns={'plan': 'plan_name'}, inplace=True)\n",
    "# ahora debemos agreguar la información de las tarifas dependiendo del plan.\n",
    "fusion_tarifas = fusion_plan.merge(tarifas, on='plan_name', how='outer')\n",
    "fusion_tarifas.head(5)"
   ]
  },
  {
   "cell_type": "code",
   "execution_count": 482,
   "metadata": {},
   "outputs": [],
   "source": [
    "fusion_tarifas.fillna(0, inplace=True)"
   ]
  },
  {
   "cell_type": "code",
   "execution_count": 483,
   "metadata": {
    "id": "5FGCf_c60q1I"
   },
   "outputs": [
    {
     "data": {
      "text/html": [
       "<div>\n",
       "<style scoped>\n",
       "    .dataframe tbody tr th:only-of-type {\n",
       "        vertical-align: middle;\n",
       "    }\n",
       "\n",
       "    .dataframe tbody tr th {\n",
       "        vertical-align: top;\n",
       "    }\n",
       "\n",
       "    .dataframe thead th {\n",
       "        text-align: right;\n",
       "    }\n",
       "</style>\n",
       "<table border=\"1\" class=\"dataframe\">\n",
       "  <thead>\n",
       "    <tr style=\"text-align: right;\">\n",
       "      <th></th>\n",
       "      <th>user_id</th>\n",
       "      <th>month</th>\n",
       "      <th>exceso_min</th>\n",
       "      <th>excess_costo_min</th>\n",
       "      <th>plan_name</th>\n",
       "    </tr>\n",
       "  </thead>\n",
       "  <tbody>\n",
       "    <tr>\n",
       "      <th>0</th>\n",
       "      <td>1000</td>\n",
       "      <td>12.0</td>\n",
       "      <td>2883.17</td>\n",
       "      <td>86.4951</td>\n",
       "      <td>ultimate</td>\n",
       "    </tr>\n",
       "    <tr>\n",
       "      <th>1</th>\n",
       "      <td>1006</td>\n",
       "      <td>11.0</td>\n",
       "      <td>2990.68</td>\n",
       "      <td>89.7204</td>\n",
       "      <td>ultimate</td>\n",
       "    </tr>\n",
       "    <tr>\n",
       "      <th>2</th>\n",
       "      <td>1006</td>\n",
       "      <td>12.0</td>\n",
       "      <td>2945.21</td>\n",
       "      <td>88.3563</td>\n",
       "      <td>ultimate</td>\n",
       "    </tr>\n",
       "    <tr>\n",
       "      <th>3</th>\n",
       "      <td>1008</td>\n",
       "      <td>10.0</td>\n",
       "      <td>2549.79</td>\n",
       "      <td>76.4937</td>\n",
       "      <td>ultimate</td>\n",
       "    </tr>\n",
       "    <tr>\n",
       "      <th>4</th>\n",
       "      <td>1008</td>\n",
       "      <td>11.0</td>\n",
       "      <td>2577.19</td>\n",
       "      <td>77.3157</td>\n",
       "      <td>ultimate</td>\n",
       "    </tr>\n",
       "  </tbody>\n",
       "</table>\n",
       "</div>"
      ],
      "text/plain": [
       "   user_id  month  exceso_min  excess_costo_min plan_name\n",
       "0     1000   12.0     2883.17           86.4951  ultimate\n",
       "1     1006   11.0     2990.68           89.7204  ultimate\n",
       "2     1006   12.0     2945.21           88.3563  ultimate\n",
       "3     1008   10.0     2549.79           76.4937  ultimate\n",
       "4     1008   11.0     2577.19           77.3157  ultimate"
      ]
     },
     "execution_count": 483,
     "metadata": {},
     "output_type": "execute_result"
    }
   ],
   "source": [
    "# Calcula el ingreso mensual para cada usuario\n",
    "# Hacer la resta para conocer si hay minutos en exceso\n",
    "fusion_tarifas['exceso_min'] = fusion_tarifas['minutes_included'] - fusion_tarifas['month_duration']\n",
    "#Hacer una condición por el tipo de plan y fusion_tarifas['exceso_min'] es menor a fusion_tarifas['minutes_included']\n",
    "if [fusion_tarifas['plan_name'] == 'surf'] and [fusion_tarifas['exceso_min'] < fusion_tarifas['minutes_included']]:\n",
    "    fusion_tarifas['excess_costo_min'] = fusion_tarifas['exceso_min'] * 0.03  # debe multiplicarlo con 3 centavos por minuto\n",
    "elif fusion_tarifas['plan_name'] == 'ultimate' and [fusion_tarifas['exceso_minutos'] < fusion_tarifas['minutes_included']]:\n",
    "    fusion_tarifas['excess_costo_min'] = fusion_tarifas['exceso_min'] * 0.01  # 1 centavo por minuto\n",
    "else:\n",
    "    fusion_tarifas['excess_costo_min'] = 0\n",
    "#sacar las columnas que queremos conocer y lo imprimimos\n",
    "costo_usd_min = fusion_tarifas.loc[:, ['user_id', 'month', 'exceso_min', 'excess_costo_min', 'plan_name']]\n",
    "costo_usd_min.head(5)"
   ]
  },
  {
   "cell_type": "code",
   "execution_count": 484,
   "metadata": {},
   "outputs": [
    {
     "data": {
      "text/html": [
       "<div>\n",
       "<style scoped>\n",
       "    .dataframe tbody tr th:only-of-type {\n",
       "        vertical-align: middle;\n",
       "    }\n",
       "\n",
       "    .dataframe tbody tr th {\n",
       "        vertical-align: top;\n",
       "    }\n",
       "\n",
       "    .dataframe thead th {\n",
       "        text-align: right;\n",
       "    }\n",
       "</style>\n",
       "<table border=\"1\" class=\"dataframe\">\n",
       "  <thead>\n",
       "    <tr style=\"text-align: right;\">\n",
       "      <th></th>\n",
       "      <th>user_id</th>\n",
       "      <th>month</th>\n",
       "      <th>exceso_msj</th>\n",
       "      <th>excess_costo_msj</th>\n",
       "    </tr>\n",
       "  </thead>\n",
       "  <tbody>\n",
       "    <tr>\n",
       "      <th>0</th>\n",
       "      <td>1000</td>\n",
       "      <td>12.0</td>\n",
       "      <td>989.0</td>\n",
       "      <td>29.67</td>\n",
       "    </tr>\n",
       "    <tr>\n",
       "      <th>1</th>\n",
       "      <td>1006</td>\n",
       "      <td>11.0</td>\n",
       "      <td>985.0</td>\n",
       "      <td>29.55</td>\n",
       "    </tr>\n",
       "    <tr>\n",
       "      <th>2</th>\n",
       "      <td>1006</td>\n",
       "      <td>12.0</td>\n",
       "      <td>861.0</td>\n",
       "      <td>25.83</td>\n",
       "    </tr>\n",
       "    <tr>\n",
       "      <th>3</th>\n",
       "      <td>1008</td>\n",
       "      <td>10.0</td>\n",
       "      <td>979.0</td>\n",
       "      <td>29.37</td>\n",
       "    </tr>\n",
       "    <tr>\n",
       "      <th>4</th>\n",
       "      <td>1008</td>\n",
       "      <td>11.0</td>\n",
       "      <td>963.0</td>\n",
       "      <td>28.89</td>\n",
       "    </tr>\n",
       "  </tbody>\n",
       "</table>\n",
       "</div>"
      ],
      "text/plain": [
       "   user_id  month  exceso_msj  excess_costo_msj\n",
       "0     1000   12.0       989.0             29.67\n",
       "1     1006   11.0       985.0             29.55\n",
       "2     1006   12.0       861.0             25.83\n",
       "3     1008   10.0       979.0             29.37\n",
       "4     1008   11.0       963.0             28.89"
      ]
     },
     "execution_count": 484,
     "metadata": {},
     "output_type": "execute_result"
    }
   ],
   "source": [
    "# Exceso de mensajes por usuario. Paso 1 Hacer la resta para conocer si hay minutos en exceso\n",
    "fusion_tarifas['exceso_msj'] = fusion_tarifas['messages_included'] - fusion_tarifas['month_messages']\n",
    "#Hacer una condición por el tipo de plan y fusion_tarifas['exceso_msj'] es menor a fusion_tarifas['messages_included']\n",
    "if [fusion_tarifas['plan_name'] == 'surf'] and [fusion_tarifas['exceso_msj'] < fusion_tarifas['messages_included']]:\n",
    "    fusion_tarifas['excess_costo_msj'] = fusion_tarifas['exceso_msj'] * 0.03  # debe multiplicarlo con 3 centavos por mensaje\n",
    "elif fusion_tarifas['plan_name'] == 'ultimate' and [fusion_tarifas['exceso_minutos'] < fusion_tarifas['messages_included']]:\n",
    "    fusion_tarifas['excess_costo_msj'] = fusion_tarifas['exceso_msj'] * 0.01  # 1 centavo por mensaje extra\n",
    "else:\n",
    "    fusion_tarifas['excess_costo'] = 0\n",
    "#sacar las columnas que queremos conocer y lo imprimimos\n",
    "costo_usd_msj = fusion_tarifas.loc[:, ['user_id', 'month', 'exceso_msj', 'excess_costo_msj']]\n",
    "costo_usd_msj.head(5)"
   ]
  },
  {
   "cell_type": "code",
   "execution_count": 485,
   "metadata": {},
   "outputs": [
    {
     "data": {
      "text/html": [
       "<div>\n",
       "<style scoped>\n",
       "    .dataframe tbody tr th:only-of-type {\n",
       "        vertical-align: middle;\n",
       "    }\n",
       "\n",
       "    .dataframe tbody tr th {\n",
       "        vertical-align: top;\n",
       "    }\n",
       "\n",
       "    .dataframe thead th {\n",
       "        text-align: right;\n",
       "    }\n",
       "</style>\n",
       "<table border=\"1\" class=\"dataframe\">\n",
       "  <thead>\n",
       "    <tr style=\"text-align: right;\">\n",
       "      <th></th>\n",
       "      <th>user_id</th>\n",
       "      <th>month</th>\n",
       "      <th>exceso_wifi</th>\n",
       "      <th>excess_costo_wifi</th>\n",
       "    </tr>\n",
       "  </thead>\n",
       "  <tbody>\n",
       "    <tr>\n",
       "      <th>0</th>\n",
       "      <td>1000</td>\n",
       "      <td>12.0</td>\n",
       "      <td>28.143096</td>\n",
       "      <td>281.430957</td>\n",
       "    </tr>\n",
       "    <tr>\n",
       "      <th>1</th>\n",
       "      <td>1006</td>\n",
       "      <td>11.0</td>\n",
       "      <td>27.980107</td>\n",
       "      <td>279.801074</td>\n",
       "    </tr>\n",
       "    <tr>\n",
       "      <th>2</th>\n",
       "      <td>1006</td>\n",
       "      <td>12.0</td>\n",
       "      <td>-1.366035</td>\n",
       "      <td>-13.660352</td>\n",
       "    </tr>\n",
       "    <tr>\n",
       "      <th>3</th>\n",
       "      <td>1008</td>\n",
       "      <td>10.0</td>\n",
       "      <td>13.293955</td>\n",
       "      <td>132.939551</td>\n",
       "    </tr>\n",
       "    <tr>\n",
       "      <th>4</th>\n",
       "      <td>1008</td>\n",
       "      <td>11.0</td>\n",
       "      <td>6.878203</td>\n",
       "      <td>68.782031</td>\n",
       "    </tr>\n",
       "  </tbody>\n",
       "</table>\n",
       "</div>"
      ],
      "text/plain": [
       "   user_id  month  exceso_wifi  excess_costo_wifi\n",
       "0     1000   12.0    28.143096         281.430957\n",
       "1     1006   11.0    27.980107         279.801074\n",
       "2     1006   12.0    -1.366035         -13.660352\n",
       "3     1008   10.0    13.293955         132.939551\n",
       "4     1008   11.0     6.878203          68.782031"
      ]
     },
     "execution_count": 485,
     "metadata": {},
     "output_type": "execute_result"
    }
   ],
   "source": [
    "# Exceso de internet por usuario\n",
    "fusion_tarifas['exceso_wifi'] = (fusion_tarifas['mb_per_month_included'] - (fusion_tarifas['month_trafic'] / 1024))\n",
    "#Hacer una condición por el tipo de plan y fusion_tarifas['exceso_msj'] es menor a fusion_tarifas['messages_included']\n",
    "if [fusion_tarifas['plan_name'] == 'surf'] and [fusion_tarifas['exceso_wifi'] < fusion_tarifas['mb_per_month_included']]:\n",
    "    fusion_tarifas['excess_costo_wifi'] = fusion_tarifas['exceso_wifi'] * 10  # debe multiplicarlo con 3 centavos por mensaje\n",
    "elif fusion_tarifas['plan_name'] == 'ultimate' and [fusion_tarifas['exceso_wifi'] < fusion_tarifas['mb_per_month_included']]:\n",
    "    fusion_tarifas['excess_costo_wifi'] = fusion_tarifas['exceso_wifi'] * 7  # 1 centavo por mensaje extra\n",
    "else:\n",
    "    fusion_tarifas['excess_costo_wifi'] = 0\n",
    "#sacar las columnas que queremos conocer y lo imprimimos\n",
    "costo_usd_wifi = fusion_tarifas.loc[:, ['user_id', 'month', 'exceso_wifi', 'excess_costo_wifi']]\n",
    "costo_usd_wifi.head(5)"
   ]
  },
  {
   "cell_type": "code",
   "execution_count": 526,
   "metadata": {},
   "outputs": [
    {
     "data": {
      "text/html": [
       "<div>\n",
       "<style scoped>\n",
       "    .dataframe tbody tr th:only-of-type {\n",
       "        vertical-align: middle;\n",
       "    }\n",
       "\n",
       "    .dataframe tbody tr th {\n",
       "        vertical-align: top;\n",
       "    }\n",
       "\n",
       "    .dataframe thead th {\n",
       "        text-align: right;\n",
       "    }\n",
       "</style>\n",
       "<table border=\"1\" class=\"dataframe\">\n",
       "  <thead>\n",
       "    <tr style=\"text-align: right;\">\n",
       "      <th></th>\n",
       "      <th>user_id</th>\n",
       "      <th>month</th>\n",
       "      <th>exceso_usd</th>\n",
       "      <th>plan_name</th>\n",
       "      <th>ingresos_mensuales</th>\n",
       "      <th>city</th>\n",
       "    </tr>\n",
       "  </thead>\n",
       "  <tbody>\n",
       "    <tr>\n",
       "      <th>848</th>\n",
       "      <td>1049</td>\n",
       "      <td>10.0</td>\n",
       "      <td>97.084861</td>\n",
       "      <td>surf</td>\n",
       "      <td>117.084861</td>\n",
       "      <td>New York-Newark-Jersey City, NY-NJ-PA MSA</td>\n",
       "    </tr>\n",
       "    <tr>\n",
       "      <th>493</th>\n",
       "      <td>1380</td>\n",
       "      <td>10.0</td>\n",
       "      <td>213.272660</td>\n",
       "      <td>ultimate</td>\n",
       "      <td>283.272660</td>\n",
       "      <td>San Jose-Sunnyvale-Santa Clara, CA MSA</td>\n",
       "    </tr>\n",
       "    <tr>\n",
       "      <th>1365</th>\n",
       "      <td>1201</td>\n",
       "      <td>8.0</td>\n",
       "      <td>-198.244823</td>\n",
       "      <td>surf</td>\n",
       "      <td>0.000000</td>\n",
       "      <td>Bridgeport-Stamford-Norwalk, CT MSA</td>\n",
       "    </tr>\n",
       "    <tr>\n",
       "      <th>1960</th>\n",
       "      <td>1381</td>\n",
       "      <td>10.0</td>\n",
       "      <td>-100.580105</td>\n",
       "      <td>surf</td>\n",
       "      <td>0.000000</td>\n",
       "      <td>Austin-Round Rock-Georgetown, TX MSA</td>\n",
       "    </tr>\n",
       "    <tr>\n",
       "      <th>1317</th>\n",
       "      <td>1181</td>\n",
       "      <td>12.0</td>\n",
       "      <td>-20.156811</td>\n",
       "      <td>surf</td>\n",
       "      <td>0.000000</td>\n",
       "      <td>New York-Newark-Jersey City, NY-NJ-PA MSA</td>\n",
       "    </tr>\n",
       "  </tbody>\n",
       "</table>\n",
       "</div>"
      ],
      "text/plain": [
       "      user_id  month  exceso_usd plan_name  ingresos_mensuales  \\\n",
       "848      1049   10.0   97.084861      surf          117.084861   \n",
       "493      1380   10.0  213.272660  ultimate          283.272660   \n",
       "1365     1201    8.0 -198.244823      surf            0.000000   \n",
       "1960     1381   10.0 -100.580105      surf            0.000000   \n",
       "1317     1181   12.0  -20.156811      surf            0.000000   \n",
       "\n",
       "                                           city  \n",
       "848   New York-Newark-Jersey City, NY-NJ-PA MSA  \n",
       "493      San Jose-Sunnyvale-Santa Clara, CA MSA  \n",
       "1365        Bridgeport-Stamford-Norwalk, CT MSA  \n",
       "1960       Austin-Round Rock-Georgetown, TX MSA  \n",
       "1317  New York-Newark-Jersey City, NY-NJ-PA MSA  "
      ]
     },
     "execution_count": 526,
     "metadata": {},
     "output_type": "execute_result"
    }
   ],
   "source": [
    "#Sacando el total por usuario de cada exceso en USD\n",
    "fusion_tarifas['exceso_usd'] = fusion_tarifas['excess_costo_wifi'] + fusion_tarifas['excess_costo_msj'] + fusion_tarifas['excess_costo_min'] \n",
    "fusion_tarifas['ingresos_mensuales'] = fusion_tarifas['exceso_usd'] + fusion_tarifas['usd_monthly_pay']\n",
    "fusion_tarifas['ingresos_mensuales'] = fusion_tarifas['ingresos_mensuales'].apply(lambda x: max(0, x))\n",
    "ingresos_mensuales= fusion_tarifas.loc[:, ['user_id', 'month', 'exceso_usd', 'plan_name', 'ingresos_mensuales', 'city']]\n",
    "ingresos_mensuales.sample(5)"
   ]
  },
  {
   "cell_type": "code",
   "execution_count": 527,
   "metadata": {},
   "outputs": [
    {
     "data": {
      "text/html": [
       "<div>\n",
       "<style scoped>\n",
       "    .dataframe tbody tr th:only-of-type {\n",
       "        vertical-align: middle;\n",
       "    }\n",
       "\n",
       "    .dataframe tbody tr th {\n",
       "        vertical-align: top;\n",
       "    }\n",
       "\n",
       "    .dataframe thead th {\n",
       "        text-align: right;\n",
       "    }\n",
       "</style>\n",
       "<table border=\"1\" class=\"dataframe\">\n",
       "  <thead>\n",
       "    <tr style=\"text-align: right;\">\n",
       "      <th></th>\n",
       "      <th>user_id</th>\n",
       "      <th>month</th>\n",
       "      <th>exceso_usd</th>\n",
       "      <th>plan_name</th>\n",
       "      <th>ingresos_mensuales</th>\n",
       "      <th>city</th>\n",
       "    </tr>\n",
       "  </thead>\n",
       "  <tbody>\n",
       "    <tr>\n",
       "      <th>1265</th>\n",
       "      <td>1171</td>\n",
       "      <td>4.0</td>\n",
       "      <td>-48.402139</td>\n",
       "      <td>surf</td>\n",
       "      <td>0.00000</td>\n",
       "      <td>Boston-Cambridge-Newton, MA-NH MSA</td>\n",
       "    </tr>\n",
       "    <tr>\n",
       "      <th>1192</th>\n",
       "      <td>1147</td>\n",
       "      <td>7.0</td>\n",
       "      <td>-215.297481</td>\n",
       "      <td>surf</td>\n",
       "      <td>0.00000</td>\n",
       "      <td>Urban Honolulu, HI MSA</td>\n",
       "    </tr>\n",
       "    <tr>\n",
       "      <th>184</th>\n",
       "      <td>1128</td>\n",
       "      <td>9.0</td>\n",
       "      <td>211.126480</td>\n",
       "      <td>ultimate</td>\n",
       "      <td>281.12648</td>\n",
       "      <td>Knoxville, TN MSA</td>\n",
       "    </tr>\n",
       "    <tr>\n",
       "      <th>1268</th>\n",
       "      <td>1171</td>\n",
       "      <td>7.0</td>\n",
       "      <td>-40.842872</td>\n",
       "      <td>surf</td>\n",
       "      <td>0.00000</td>\n",
       "      <td>Boston-Cambridge-Newton, MA-NH MSA</td>\n",
       "    </tr>\n",
       "    <tr>\n",
       "      <th>506</th>\n",
       "      <td>1384</td>\n",
       "      <td>6.0</td>\n",
       "      <td>263.513830</td>\n",
       "      <td>ultimate</td>\n",
       "      <td>333.51383</td>\n",
       "      <td>Philadelphia-Camden-Wilmington, PA-NJ-DE-MD MSA</td>\n",
       "    </tr>\n",
       "  </tbody>\n",
       "</table>\n",
       "</div>"
      ],
      "text/plain": [
       "      user_id  month  exceso_usd plan_name  ingresos_mensuales  \\\n",
       "1265     1171    4.0  -48.402139      surf             0.00000   \n",
       "1192     1147    7.0 -215.297481      surf             0.00000   \n",
       "184      1128    9.0  211.126480  ultimate           281.12648   \n",
       "1268     1171    7.0  -40.842872      surf             0.00000   \n",
       "506      1384    6.0  263.513830  ultimate           333.51383   \n",
       "\n",
       "                                                 city  \n",
       "1265               Boston-Cambridge-Newton, MA-NH MSA  \n",
       "1192                           Urban Honolulu, HI MSA  \n",
       "184                                 Knoxville, TN MSA  \n",
       "1268               Boston-Cambridge-Newton, MA-NH MSA  \n",
       "506   Philadelphia-Camden-Wilmington, PA-NJ-DE-MD MSA  "
      ]
     },
     "execution_count": 527,
     "metadata": {},
     "output_type": "execute_result"
    }
   ],
   "source": [
    "#Aunque en los DF originales no habia ausentes, al momento de hacer los cálculos, \n",
    "# algunas filas no tenian información, así que eliminarmos los asusentes para que no afecte el nuevo DF.\n",
    "ingresos_mensuales[['month','exceso_usd', 'ingresos_mensuales']].fillna(0)\n",
    "ingresos_mensuales.sample(5)"
   ]
  },
  {
   "cell_type": "markdown",
   "metadata": {
    "id": "-jtyHzJb0q1I"
   },
   "source": [
    "## Estudia el comportamiento de usuario"
   ]
  },
  {
   "cell_type": "markdown",
   "metadata": {
    "id": "vtW4CJEe0q1J"
   },
   "source": [
    "### Llamadas"
   ]
  },
  {
   "cell_type": "code",
   "execution_count": 528,
   "metadata": {
    "id": "Jf5v5--k0q1J",
    "scrolled": true
   },
   "outputs": [
    {
     "data": {
      "image/png": "[encoded data removed]",
      "text/plain": [
       "<Figure size 1200x800 with 1 Axes>"
      ]
     },
     "metadata": {},
     "output_type": "display_data"
    }
   ],
   "source": [
    "# Compara la duración promedio de llamadas por cada plan y por cada mes. Traza un gráfico de barras para visualizarla.\n",
    "#Paso 1 agrupar por plan_name\n",
    "ultimate_llamadas = fusion_tarifas.query(\"plan_name == 'ultimate'\")[['month', 'month_calls', 'plan_name']]\n",
    "surf_llamadas = fusion_tarifas.query(\"plan_name == 'surf'\")[['month', 'month_calls', 'plan_name']]\n",
    "#Paso 2 unirlas por medio de month\n",
    "grupo_calls_meses = ultimate_llamadas.merge(surf_llamadas, on='month')\n",
    "#Paso 3 Sacar el promedio de grupo_planes_meses\n",
    "avg_llamadas = grupo_calls_meses.groupby(by=['plan_name_x', 'plan_name_y', 'month'])['month_calls_x', 'month_calls_y'].mean()\n",
    "#Paso 5 graficar\n",
    "avg_llamadas.plot(kind='barh', figsize=(12, 8))\n",
    "plt.title('Duración promedio de llamadas por plan y mes', fontsize=14)\n",
    "plt.xlabel('Total de llamadas', fontsize=12)\n",
    "plt.ylabel('Promedio Mensual de Llamadas Realizadas por Plan', fontsize=12)\n",
    "plt.legend(['ultimate', 'surf'])\n",
    "plt.show() "
   ]
  },
  {
   "cell_type": "code",
   "execution_count": 529,
   "metadata": {},
   "outputs": [
    {
     "data": {
      "image/png": "[encoded data removed]",
      "text/plain": [
       "<Figure size 640x480 with 1 Axes>"
      ]
     },
     "metadata": {},
     "output_type": "display_data"
    }
   ],
   "source": [
    "fusion_tarifas.query(\"plan_name == 'surf'\")['month_duration'].plot(kind='hist', alpha=0.5, label='surf')\n",
    "fusion_tarifas.query(\"plan_name == 'ultimate'\")['month_duration'].plot(kind='hist', alpha=0.5, label='ultimate')\n",
    "plt.legend()\n",
    "plt.xlabel('Minutos')\n",
    "plt.title('Histograma por planes')\n",
    "plt.show()"
   ]
  },
  {
   "cell_type": "code",
   "execution_count": 530,
   "metadata": {
    "id": "oSndbAnt0q1K"
   },
   "outputs": [
    {
     "name": "stdout",
     "output_type": "stream",
     "text": [
      "                 mean           var\n",
      "plan_name                          \n",
      "surf       403.224345  49568.849927\n",
      "ultimate   403.948923  52263.047679\n"
     ]
    }
   ],
   "source": [
    "# Calcula la media y la varianza de la duración mensual de llamadas.\n",
    "media_varianza_por_plan = fusion_tarifas.groupby('plan_name')['month_duration'].agg(['mean', 'var'])\n",
    "print(media_varianza_por_plan)"
   ]
  },
  {
   "cell_type": "code",
   "execution_count": 531,
   "metadata": {
    "id": "nZzoRUKc0q1K"
   },
   "outputs": [
    {
     "data": {
      "text/plain": [
       "<AxesSubplot:xlabel='plan_name', ylabel='month_duration'>"
      ]
     },
     "execution_count": 531,
     "metadata": {},
     "output_type": "execute_result"
    },
    {
     "data": {
      "image/png": "[encoded data removed]",
      "text/plain": [
       "<Figure size 640x480 with 1 Axes>"
      ]
     },
     "metadata": {},
     "output_type": "display_data"
    }
   ],
   "source": [
    "# Traza un diagrama de caja para visualizar la distribución de la duración mensual de llamadas\n",
    "sns.boxplot(data=fusion_tarifas, x='plan_name', y='month_duration')"
   ]
  },
  {
   "cell_type": "markdown",
   "metadata": {},
   "source": [
    "Los usuarios de surf y ultimate tienen una duración mensual de llamadas muy parecida. Sin embargo, los usuarios de surf tienden a hacer un poco más de minutos en promedio.\n",
    "\n",
    "Los usuarios de ultimate tienen más variedad en la duración de sus llamadas (algunos llaman mucho, otros poco). En cambio, los usuarios de surf tienen una duración de llamadas más uniforme.\n",
    "\n",
    "¿Varía el comportamiento según el plan?\n",
    "Sí, el comportamiento de los usuarios cambia un poco según el plan:\n",
    "\n",
    "Los usuarios de surf tienden a hacer llamadas un poco más largas en promedio. Pero, los usuarios de ultimate tienen más variabilidad en la duración de sus llamadas, mientras que en surf las duraciones de llamadas son más similares entre los usuarios."
   ]
  },
  {
   "cell_type": "markdown",
   "metadata": {
    "id": "8idKy8Wh0q1L"
   },
   "source": [
    "### Mensajes"
   ]
  },
  {
   "cell_type": "code",
   "execution_count": 532,
   "metadata": {
    "id": "NXLxiTit0q1L"
   },
   "outputs": [
    {
     "name": "stdout",
     "output_type": "stream",
     "text": [
      "                mean          var\n",
      "plan_name                        \n",
      "surf       31.041165  1126.118076\n",
      "ultimate   37.343923  1209.827612\n"
     ]
    },
    {
     "data": {
      "text/plain": [
       "<AxesSubplot:xlabel='plan_name', ylabel='month_messages'>"
      ]
     },
     "execution_count": 532,
     "metadata": {},
     "output_type": "execute_result"
    },
    {
     "data": {
      "image/png": "[encoded data removed]",
      "text/plain": [
       "<Figure size 640x480 with 1 Axes>"
      ]
     },
     "metadata": {},
     "output_type": "display_data"
    }
   ],
   "source": [
    "# Comprara el número de mensajes que tienden a enviar cada mes los usuarios de cada plan\n",
    "mensajes_x_planes = fusion_tarifas.groupby('plan_name')['month_messages'].agg(['mean', 'var'])\n",
    "print(mensajes_x_planes)\n",
    "sns.boxplot(data=fusion_tarifas, x='plan_name', y='month_messages')"
   ]
  },
  {
   "cell_type": "code",
   "execution_count": 533,
   "metadata": {
    "id": "GRI_R7xF0q1L"
   },
   "outputs": [
    {
     "name": "stdout",
     "output_type": "stream",
     "text": [
      "                   mean           var\n",
      "plan_name                            \n",
      "surf       16495.364110  6.501076e+07\n",
      "ultimate   17119.590856  6.294168e+07\n"
     ]
    }
   ],
   "source": [
    "# Compara la cantidad de tráfico de Internet consumido por usuarios por plan\n",
    "wifi_x_planes = fusion_tarifas.groupby('plan_name')['month_trafic'].agg(['mean', 'var'])\n",
    "print(wifi_x_planes)"
   ]
  },
  {
   "cell_type": "markdown",
   "metadata": {},
   "source": [
    "Basandonos en el promedio, los usuarios del plan ultimate envían más mensajes en promedio que los del plan surf. Esto indica que los usuarios de ultimate tienden a estar más activos enviando mensajes cada mes.\n",
    "\n",
    "La variabilidad (o dispersión) en el número de mensajes enviados es similar en ambos planes. Esto significa que no hay mucha diferencia en cómo los usuarios de surf y ultimate distribuyen la cantidad de mensajes enviados. En otras palabras, ambos planes tienen un comportamiento bastante consistente.\n",
    "\n",
    "¿Varía el comportamiento según el plan?\n",
    "Sí, el comportamiento de los usuarios cambia un poco según el plan:\n",
    "\n",
    "Los usuarios de ultimate tienden a enviar más mensajes que los de surf.\n",
    "\n",
    "Pero, en general, la manera en que los usuarios de ambos planes envían mensajes es bastante similar, ya que la dispersión (o variabilidad) de los mensajes es casi igual en ambos planes."
   ]
  },
  {
   "cell_type": "markdown",
   "metadata": {
    "id": "42YSypXz0q1M"
   },
   "source": [
    "### Internet"
   ]
  },
  {
   "cell_type": "code",
   "execution_count": 534,
   "metadata": {
    "id": "lSuKPtjh0q1M"
   },
   "outputs": [
    {
     "data": {
      "text/plain": [
       "<AxesSubplot:xlabel='plan_name', ylabel='month_trafic'>"
      ]
     },
     "execution_count": 534,
     "metadata": {},
     "output_type": "execute_result"
    },
    {
     "data": {
      "image/png": "[encoded data removed]",
      "text/plain": [
       "<Figure size 640x480 with 1 Axes>"
      ]
     },
     "metadata": {},
     "output_type": "display_data"
    }
   ],
   "source": [
    "sns.boxplot(data=fusion_tarifas, x='plan_name', y='month_trafic')"
   ]
  },
  {
   "cell_type": "markdown",
   "metadata": {},
   "source": [
    "Los usuarios de ultimate consumen más datos en promedio que los de surf.\n",
    "\n",
    "La variabilidad en el consumo de datos es bastante similar en ambos planes, lo que sugiere que los usuarios tienen un comportamiento uniforme en cuanto al uso de datos, independientemente del plan."
   ]
  },
  {
   "cell_type": "markdown",
   "metadata": {
    "id": "tCijq3260q1N"
   },
   "source": [
    "## Ingreso"
   ]
  },
  {
   "cell_type": "code",
   "execution_count": 535,
   "metadata": {
    "id": "0Y1v8ZUz0q1P"
   },
   "outputs": [
    {
     "name": "stdout",
     "output_type": "stream",
     "text": [
      "                 mean          var\n",
      "plan_name                         \n",
      "surf        36.827418  2634.764343\n",
      "ultimate   309.577710  6362.197443\n"
     ]
    }
   ],
   "source": [
    "avg_ingresos_mensuales = fusion_tarifas.groupby('plan_name')['ingresos_mensuales'].agg(['mean', 'var'])\n",
    "print(avg_ingresos_mensuales)"
   ]
  },
  {
   "cell_type": "code",
   "execution_count": 536,
   "metadata": {
    "id": "bYmwxyVh0q1P"
   },
   "outputs": [
    {
     "data": {
      "text/plain": [
       "<AxesSubplot:xlabel='plan_name', ylabel='ingresos_mensuales'>"
      ]
     },
     "execution_count": 536,
     "metadata": {},
     "output_type": "execute_result"
    },
    {
     "data": {
      "image/png": "[encoded data removed]",
      "text/plain": [
       "<Figure size 640x480 with 1 Axes>"
      ]
     },
     "metadata": {},
     "output_type": "display_data"
    }
   ],
   "source": [
    "sns.boxplot(data=fusion_tarifas, x='plan_name', y='ingresos_mensuales')"
   ]
  },
  {
   "cell_type": "markdown",
   "metadata": {
    "id": "KAFidcXZ0q1P"
   },
   "source": [
    "Los ingresos promedio de los usuarios del plan ultimate son considerablemente más altos que los del plan surf, lo cual es lógico considerando que el plan ultimate es un plan más caro.\n",
    "\n",
    "Aunque los usuarios de ultimate generan más ingresos en promedio, los ingresos en este plan varían más entre los usuarios. Esto podría ser el resultado de algunos usuarios que superan ampliamente los límites del plan o que optan por servicios adicionales, mientras que otros no utilizan tantos recursos.\n",
    "\n",
    "En resumen, los usuarios de ultimate generan más ingresos de forma promedio, pero los ingresos son más variables, mientras que los usuarios de surf tienen ingresos más consistentes pero más bajos en comparación."
   ]
  },
  {
   "cell_type": "markdown",
   "metadata": {
    "id": "ajJ7VKeI0q1Q"
   },
   "source": [
    "## Prueba las hipótesis estadísticas"
   ]
  },
  {
   "cell_type": "markdown",
   "metadata": {},
   "source": [
    "Ho = Si Valor p < alpha, entonces surf es mejor que ultimate\n",
    "\n",
    "H1 = Si Valor p > alpha, entonces ultimate es mejor que surf"
   ]
  },
  {
   "cell_type": "code",
   "execution_count": 543,
   "metadata": {
    "id": "nFoPNlPq0q1R"
   },
   "outputs": [
    {
     "name": "stdout",
     "output_type": "stream",
     "text": [
      "Valor p:  0.0\n",
      "Rechazamos la Hipotesis Nula\n"
     ]
    }
   ],
   "source": [
    "# Prueba las hipótesis\n",
    "# Paso 1 Separar por planes\n",
    "ingresos_x_surf = fusion_tarifas.query(\"plan_name == 'surf'\")['ingresos_mensuales']\n",
    "ingresos_x_ultimate = fusion_tarifas.query(\"plan_name == 'ultimate'\")['ingresos_mensuales']\n",
    "# Paso 2 agregar alpha 5%\n",
    "alpha = 0.05\n",
    "#paso 3 Realizar una prueba porque H₁ es que v2.0 < v1.7\n",
    "results = st.ttest_ind(ingresos_x_surf, ingresos_x_ultimate)\n",
    "#Paso 4 Imprimir el resultado\n",
    "print('Valor p: ', results.pvalue)\n",
    "#Paso 5 comparar Valor P con el umbral\n",
    "if results.pvalue < alpha:\n",
    "    print('Rechazamos la Hipotesis Nula')\n",
    "else:\n",
    "    print('No podemos rechazar la Hipotesis Nula')"
   ]
  },
  {
   "cell_type": "markdown",
   "metadata": {},
   "source": [
    "Ho = Si Valor p < alpha, entonces New York-Newark-Jersey City, NY-NJ-PA MSA es mejor que Atlanta-Sandy Springs-Roswell, GA MSA \n",
    "\n",
    "H1 = Si Valor p > alpha, entonces Atlanta-Sandy Springs-Roswell, GA MSA es mejor que New York-Newark-Jersey City, NY-NJ-PA MSA"
   ]
  },
  {
   "cell_type": "code",
   "execution_count": 541,
   "metadata": {
    "id": "Cqcj7wrZ0q1S"
   },
   "outputs": [
    {
     "name": "stdout",
     "output_type": "stream",
     "text": [
      "Valor p:  1.0285623205870841e-08\n",
      "Rechazamos la Hipotesis Nula\n"
     ]
    }
   ],
   "source": [
    "# Prueba las hipótesis\n",
    "# Paso 1 Separar por planes\n",
    "ingresos_x_NY = fusion_tarifas.query(\"city == 'New York-Newark-Jersey City, NY-NJ-PA MSA'\")['ingresos_mensuales']\n",
    "ingresos_x_NJ = fusion_tarifas.query(\"city == 'Atlanta-Sandy Springs-Roswell, GA MSA'\")['ingresos_mensuales']\n",
    "# Paso 2 agregar alpha 5%\n",
    "alpha = 0.05\n",
    "#paso 3 Realizar una prueba porque H₁ es que v2.0 < v1.7\n",
    "results = st.ttest_ind(ingresos_x_NY, ingresos_x_NJ)\n",
    "#Paso 4 Imprimir el resultado\n",
    "print('Valor p: ', results.pvalue)\n",
    "#Paso 5 comparar Valor P con el umbral\n",
    "if results.pvalue < alpha:\n",
    "    print('Rechazamos la Hipotesis Nula')\n",
    "else:\n",
    "    print('No podemos rechazar la Hipotesis Nula')"
   ]
  },
  {
   "cell_type": "markdown",
   "metadata": {
    "id": "bbTR8UQO0q1T"
   },
   "source": [
    "## Conclusión general\n",
    "\n",
    "Tras analizar los datos, los usuarios de la tarifa Ultimate tienen un ingreso promedio más alto que los de la tarifa Surf.\n",
    "\n",
    "En cuanto a la dispersión de los ingresos, los usuarios de Ultimate muestran una mayor variabilidad, lo que indica que algunos usuarios de este plan generan muchos más ingresos que otros, mientras que los usuarios de Surf tienen un comportamiento más uniforme.\n",
    "\n",
    "Ultimate parece ser una opción más rentable en promedio, pero Surf tiene un comportamiento más consistente, lo que podría indicar que es un plan más estable en cuanto a la generación de ingresos, aunque en menor medida."
   ]
  }
 ],
 "metadata": {
  "ExecuteTimeLog": [
   {
    "duration": 828,
    "start_time": "2021-11-16T09:21:11.304Z"
   },
   {
    "duration": 893,
    "start_time": "2021-11-16T09:21:17.728Z"
   },
   {
    "duration": 1150,
    "start_time": "2021-11-16T09:21:29.568Z"
   },
   {
    "duration": 3,
    "start_time": "2021-11-16T09:24:14.495Z"
   },
   {
    "duration": 120,
    "start_time": "2021-11-16T09:24:46.630Z"
   },
   {
    "duration": 3,
    "start_time": "2021-11-16T09:28:27.882Z"
   },
   {
    "duration": 4,
    "start_time": "2021-11-16T09:29:54.281Z"
   },
   {
    "duration": 3,
    "start_time": "2021-11-16T09:30:45.936Z"
   },
   {
    "duration": 4,
    "start_time": "2021-11-16T09:31:06.300Z"
   },
   {
    "duration": 113,
    "start_time": "2021-11-16T09:31:37.208Z"
   },
   {
    "duration": 143,
    "start_time": "2021-11-16T09:31:48.656Z"
   },
   {
    "duration": 98,
    "start_time": "2021-11-16T09:31:55.678Z"
   },
   {
    "duration": 3,
    "start_time": "2021-11-16T09:32:08.535Z"
   },
   {
    "duration": 111,
    "start_time": "2021-11-16T09:32:10.120Z"
   },
   {
    "duration": 3,
    "start_time": "2021-11-16T09:32:15.732Z"
   },
   {
    "duration": 4,
    "start_time": "2021-11-16T09:32:29.423Z"
   },
   {
    "duration": 3,
    "start_time": "2021-11-16T10:03:03.074Z"
   },
   {
    "duration": 3,
    "start_time": "2021-11-16T10:10:01.288Z"
   },
   {
    "duration": 3,
    "start_time": "2021-11-16T10:10:46.923Z"
   },
   {
    "duration": 121,
    "start_time": "2021-11-16T10:37:46.494Z"
   },
   {
    "duration": 125,
    "start_time": "2021-11-16T10:38:20.632Z"
   },
   {
    "duration": 112,
    "start_time": "2021-11-16T10:46:53.001Z"
   },
   {
    "duration": 110,
    "start_time": "2021-11-16T10:48:25.775Z"
   },
   {
    "duration": 3,
    "start_time": "2021-11-16T10:50:18.720Z"
   },
   {
    "duration": 4,
    "start_time": "2021-11-16T10:50:37.649Z"
   },
   {
    "duration": 2,
    "start_time": "2021-11-16T10:50:51.884Z"
   },
   {
    "duration": 3,
    "start_time": "2021-11-16T10:51:56.237Z"
   },
   {
    "duration": 101,
    "start_time": "2021-11-16T10:53:13.791Z"
   },
   {
    "duration": 3,
    "start_time": "2021-11-16T10:55:59.186Z"
   },
   {
    "duration": 3,
    "start_time": "2021-11-16T10:56:10.751Z"
   },
   {
    "duration": 3,
    "start_time": "2021-11-16T10:56:49.038Z"
   },
   {
    "duration": 3,
    "start_time": "2021-11-16T10:56:49.174Z"
   },
   {
    "duration": 4,
    "start_time": "2021-11-16T10:56:49.414Z"
   },
   {
    "duration": 3,
    "start_time": "2021-11-16T10:56:49.680Z"
   },
   {
    "duration": 3,
    "start_time": "2021-11-16T10:56:50.370Z"
   },
   {
    "duration": 114,
    "start_time": "2021-11-16T10:59:34.518Z"
   },
   {
    "duration": 3,
    "start_time": "2021-11-16T11:01:41.201Z"
   },
   {
    "duration": 116,
    "start_time": "2021-11-16T11:01:48.754Z"
   },
   {
    "duration": 3,
    "start_time": "2021-11-16T11:02:16.685Z"
   },
   {
    "duration": 3,
    "start_time": "2021-11-16T11:02:19.479Z"
   },
   {
    "duration": 3,
    "start_time": "2021-11-16T11:02:47.067Z"
   },
   {
    "duration": 3,
    "start_time": "2021-11-16T11:02:49.353Z"
   },
   {
    "duration": 3,
    "start_time": "2021-11-16T11:03:07.835Z"
   },
   {
    "duration": 3,
    "start_time": "2021-11-16T11:03:07.953Z"
   },
   {
    "duration": 112,
    "start_time": "2021-11-16T11:07:52.072Z"
   },
   {
    "duration": 187,
    "start_time": "2021-11-16T11:09:23.468Z"
   },
   {
    "duration": 4,
    "start_time": "2021-11-16T11:10:01.455Z"
   },
   {
    "duration": 3,
    "start_time": "2021-11-16T11:10:05.069Z"
   },
   {
    "duration": 4,
    "start_time": "2021-11-16T11:10:13.376Z"
   },
   {
    "duration": 3,
    "start_time": "2021-11-16T11:10:14.434Z"
   },
   {
    "duration": 3,
    "start_time": "2021-11-16T11:10:22.853Z"
   },
   {
    "duration": 4,
    "start_time": "2021-11-16T11:27:29.279Z"
   },
   {
    "duration": 4,
    "start_time": "2021-11-16T11:29:08.919Z"
   },
   {
    "duration": 118,
    "start_time": "2021-11-16T11:29:46.703Z"
   },
   {
    "duration": 437,
    "start_time": "2021-11-16T11:36:02.181Z"
   },
   {
    "duration": 157,
    "start_time": "2021-11-16T11:36:14.388Z"
   },
   {
    "duration": 207,
    "start_time": "2021-11-16T11:47:15.898Z"
   },
   {
    "duration": 3,
    "start_time": "2021-11-16T11:53:52.092Z"
   },
   {
    "duration": 3,
    "start_time": "2021-11-16T11:53:52.236Z"
   },
   {
    "duration": 3,
    "start_time": "2021-11-16T11:59:12.005Z"
   },
   {
    "duration": 112,
    "start_time": "2021-11-16T12:00:33.446Z"
   },
   {
    "duration": 3,
    "start_time": "2021-11-16T12:02:14.453Z"
   },
   {
    "duration": 3,
    "start_time": "2021-11-16T12:02:39.512Z"
   },
   {
    "duration": 106,
    "start_time": "2021-11-16T12:03:03.460Z"
   },
   {
    "duration": 3,
    "start_time": "2021-11-17T20:37:21.139Z"
   },
   {
    "duration": 3,
    "start_time": "2021-11-17T20:37:22.229Z"
   },
   {
    "duration": 3,
    "start_time": "2021-11-17T20:38:38.806Z"
   },
   {
    "duration": 3,
    "start_time": "2021-11-17T20:38:41.958Z"
   },
   {
    "duration": 3,
    "start_time": "2021-11-17T20:43:46.551Z"
   },
   {
    "duration": 4,
    "start_time": "2021-11-17T20:58:21.835Z"
   },
   {
    "duration": 3,
    "start_time": "2021-11-17T20:59:21.872Z"
   },
   {
    "duration": 4,
    "start_time": "2021-11-17T20:59:45.352Z"
   },
   {
    "duration": 4,
    "start_time": "2021-11-17T20:59:49.646Z"
   },
   {
    "duration": 159,
    "start_time": "2021-11-17T21:02:26.949Z"
   },
   {
    "duration": 3,
    "start_time": "2021-11-17T21:03:53.461Z"
   },
   {
    "duration": 3,
    "start_time": "2021-11-17T21:03:53.694Z"
   },
   {
    "duration": 3,
    "start_time": "2021-11-17T21:05:28.145Z"
   },
   {
    "duration": 116,
    "start_time": "2021-11-17T21:05:57.787Z"
   },
   {
    "duration": 3,
    "start_time": "2021-11-17T21:06:37.993Z"
   },
   {
    "duration": 3,
    "start_time": "2021-11-17T21:06:38.261Z"
   },
   {
    "duration": 3,
    "start_time": "2021-11-17T21:11:54.358Z"
   },
   {
    "duration": 3,
    "start_time": "2021-11-17T21:12:43.846Z"
   },
   {
    "duration": 4,
    "start_time": "2021-11-17T21:13:08.773Z"
   },
   {
    "duration": 3,
    "start_time": "2021-11-17T21:14:44.441Z"
   },
   {
    "duration": 3,
    "start_time": "2021-11-17T21:15:42.059Z"
   },
   {
    "duration": 4,
    "start_time": "2021-11-17T21:15:51.995Z"
   },
   {
    "duration": 3,
    "start_time": "2021-11-17T21:15:53.923Z"
   },
   {
    "duration": 3,
    "start_time": "2021-11-17T21:15:55.282Z"
   },
   {
    "duration": 3,
    "start_time": "2021-11-17T21:16:28.492Z"
   },
   {
    "duration": 3,
    "start_time": "2021-11-17T21:16:32.603Z"
   },
   {
    "duration": 3,
    "start_time": "2021-11-17T21:17:06.941Z"
   },
   {
    "duration": 98,
    "start_time": "2021-11-17T21:18:05.733Z"
   },
   {
    "duration": 4,
    "start_time": "2021-11-17T21:21:35.255Z"
   },
   {
    "duration": 3,
    "start_time": "2021-11-17T21:21:37.804Z"
   },
   {
    "duration": 4,
    "start_time": "2021-11-17T21:23:06.071Z"
   },
   {
    "duration": 3,
    "start_time": "2021-11-17T21:23:24.799Z"
   },
   {
    "duration": 3,
    "start_time": "2021-11-17T21:23:32.591Z"
   },
   {
    "duration": 98,
    "start_time": "2021-11-17T21:28:31.559Z"
   },
   {
    "duration": 3,
    "start_time": "2021-11-17T21:28:45.448Z"
   },
   {
    "duration": 3,
    "start_time": "2021-11-17T21:29:17.303Z"
   },
   {
    "duration": 3,
    "start_time": "2021-11-17T21:29:29.617Z"
   },
   {
    "duration": 3,
    "start_time": "2021-11-17T21:29:32.681Z"
   },
   {
    "duration": 3,
    "start_time": "2021-11-17T21:36:11.474Z"
   },
   {
    "duration": 3,
    "start_time": "2021-11-17T21:36:14.791Z"
   },
   {
    "duration": 3,
    "start_time": "2021-11-17T21:36:53.943Z"
   },
   {
    "duration": 3,
    "start_time": "2021-11-17T21:36:56.165Z"
   },
   {
    "duration": 4,
    "start_time": "2021-11-17T21:37:16.590Z"
   },
   {
    "duration": 3,
    "start_time": "2021-11-17T21:37:22.702Z"
   },
   {
    "duration": 4,
    "start_time": "2021-11-17T21:38:03.479Z"
   },
   {
    "duration": 3,
    "start_time": "2021-11-17T21:38:08.601Z"
   },
   {
    "duration": 3,
    "start_time": "2021-11-17T21:38:12.928Z"
   },
   {
    "duration": 3,
    "start_time": "2021-11-17T21:38:48.896Z"
   },
   {
    "duration": 2,
    "start_time": "2021-11-17T21:38:49.171Z"
   },
   {
    "duration": 4,
    "start_time": "2021-11-17T21:39:57.889Z"
   },
   {
    "duration": 3,
    "start_time": "2021-11-17T21:39:58.057Z"
   },
   {
    "duration": 3,
    "start_time": "2021-11-17T21:41:20.108Z"
   },
   {
    "duration": 3,
    "start_time": "2021-11-17T21:41:20.629Z"
   },
   {
    "duration": 3,
    "start_time": "2021-11-17T21:42:49.136Z"
   },
   {
    "duration": 3,
    "start_time": "2021-11-17T21:43:15.137Z"
   },
   {
    "duration": 4,
    "start_time": "2021-11-17T21:43:16.766Z"
   },
   {
    "duration": 4,
    "start_time": "2021-11-17T21:43:31.711Z"
   },
   {
    "duration": 3,
    "start_time": "2021-11-17T21:43:36.312Z"
   },
   {
    "duration": 4,
    "start_time": "2021-11-17T21:45:08.825Z"
   },
   {
    "duration": 4,
    "start_time": "2021-11-17T21:45:10.119Z"
   },
   {
    "duration": 4,
    "start_time": "2021-11-17T21:45:13.748Z"
   },
   {
    "duration": 3,
    "start_time": "2021-11-17T21:45:22.219Z"
   },
   {
    "duration": 3,
    "start_time": "2021-11-17T21:45:33.412Z"
   },
   {
    "duration": 2,
    "start_time": "2021-11-17T21:46:01.885Z"
   },
   {
    "duration": 3,
    "start_time": "2021-11-17T21:46:03.628Z"
   },
   {
    "duration": 107,
    "start_time": "2021-11-17T21:47:32.512Z"
   },
   {
    "duration": 103,
    "start_time": "2021-11-17T21:50:36.243Z"
   },
   {
    "duration": 3,
    "start_time": "2021-11-18T06:28:31.440Z"
   },
   {
    "duration": 3,
    "start_time": "2021-11-18T06:29:00.168Z"
   },
   {
    "duration": 3,
    "start_time": "2021-11-18T06:31:27.008Z"
   },
   {
    "duration": 2,
    "start_time": "2021-11-18T06:35:34.288Z"
   },
   {
    "duration": 2,
    "start_time": "2021-11-18T06:38:04.527Z"
   },
   {
    "duration": 8,
    "start_time": "2025-04-23T00:53:01.906Z"
   },
   {
    "duration": 3,
    "start_time": "2025-04-23T00:53:16.109Z"
   },
   {
    "duration": 376,
    "start_time": "2025-04-23T00:56:58.722Z"
   },
   {
    "duration": 9,
    "start_time": "2025-04-23T00:59:17.429Z"
   },
   {
    "duration": 10,
    "start_time": "2025-04-23T00:59:35.145Z"
   },
   {
    "duration": 9,
    "start_time": "2025-04-23T01:00:05.854Z"
   },
   {
    "duration": 120,
    "start_time": "2025-04-23T01:01:04.167Z"
   },
   {
    "duration": 8,
    "start_time": "2025-04-23T01:01:18.092Z"
   },
   {
    "duration": 190,
    "start_time": "2025-04-23T01:03:40.304Z"
   },
   {
    "duration": 9,
    "start_time": "2025-04-23T01:03:43.083Z"
   },
   {
    "duration": 8,
    "start_time": "2025-04-23T01:03:45.090Z"
   },
   {
    "duration": 103,
    "start_time": "2025-04-23T01:22:46.736Z"
   },
   {
    "duration": 9,
    "start_time": "2025-04-23T01:22:56.034Z"
   },
   {
    "duration": 13,
    "start_time": "2025-04-23T01:24:09.357Z"
   },
   {
    "duration": 160,
    "start_time": "2025-04-23T01:24:20.259Z"
   },
   {
    "duration": 12,
    "start_time": "2025-04-23T01:24:27.156Z"
   },
   {
    "duration": 4,
    "start_time": "2025-04-23T01:24:30.465Z"
   },
   {
    "duration": 153,
    "start_time": "2025-04-23T01:24:31.690Z"
   },
   {
    "duration": 13,
    "start_time": "2025-04-23T01:24:36.001Z"
   },
   {
    "duration": 209,
    "start_time": "2025-04-23T01:24:49.432Z"
   },
   {
    "duration": 10,
    "start_time": "2025-04-23T01:24:52.112Z"
   },
   {
    "duration": 9,
    "start_time": "2025-04-23T01:24:54.424Z"
   },
   {
    "duration": 8,
    "start_time": "2025-04-23T01:25:00.698Z"
   },
   {
    "duration": 13,
    "start_time": "2025-04-23T01:25:04.575Z"
   },
   {
    "duration": 12,
    "start_time": "2025-04-23T01:25:08.529Z"
   },
   {
    "duration": 11,
    "start_time": "2025-04-23T01:25:29.641Z"
   },
   {
    "duration": 12,
    "start_time": "2025-04-23T01:25:57.436Z"
   },
   {
    "duration": 3,
    "start_time": "2025-04-23T01:29:12.576Z"
   },
   {
    "duration": 8,
    "start_time": "2025-04-23T01:29:24.767Z"
   },
   {
    "duration": 23,
    "start_time": "2025-04-23T01:30:42.273Z"
   },
   {
    "duration": 10,
    "start_time": "2025-04-23T01:31:57.390Z"
   },
   {
    "duration": 7,
    "start_time": "2025-04-23T01:31:59.812Z"
   },
   {
    "duration": 8,
    "start_time": "2025-04-23T01:37:04.985Z"
   },
   {
    "duration": 7,
    "start_time": "2025-04-23T01:37:10.579Z"
   },
   {
    "duration": 218,
    "start_time": "2025-04-23T01:43:08.060Z"
   },
   {
    "duration": 71,
    "start_time": "2025-04-23T01:48:14.366Z"
   },
   {
    "duration": 14,
    "start_time": "2025-04-23T02:03:12.589Z"
   },
   {
    "duration": 18,
    "start_time": "2025-04-23T02:03:23.467Z"
   },
   {
    "duration": 10,
    "start_time": "2025-04-23T02:03:43.280Z"
   },
   {
    "duration": 16,
    "start_time": "2025-04-23T02:04:55.164Z"
   },
   {
    "duration": 7,
    "start_time": "2025-04-23T02:05:04.048Z"
   },
   {
    "duration": 12,
    "start_time": "2025-04-23T02:25:19.713Z"
   },
   {
    "duration": 8,
    "start_time": "2025-04-23T02:25:28.636Z"
   },
   {
    "duration": 10,
    "start_time": "2025-04-23T02:27:37.855Z"
   },
   {
    "duration": 8,
    "start_time": "2025-04-23T02:28:00.227Z"
   },
   {
    "duration": 6,
    "start_time": "2025-04-23T02:29:50.460Z"
   },
   {
    "duration": 3,
    "start_time": "2025-04-23T02:30:59.117Z"
   },
   {
    "duration": 3,
    "start_time": "2025-04-23T02:31:19.049Z"
   },
   {
    "duration": 3,
    "start_time": "2025-04-23T02:36:54.975Z"
   },
   {
    "duration": 8,
    "start_time": "2025-04-23T02:43:31.215Z"
   },
   {
    "duration": 2455,
    "start_time": "2025-04-23T12:54:29.441Z"
   },
   {
    "duration": 221,
    "start_time": "2025-04-23T12:54:31.898Z"
   },
   {
    "duration": 9,
    "start_time": "2025-04-23T12:54:32.121Z"
   },
   {
    "duration": 10,
    "start_time": "2025-04-23T12:54:32.132Z"
   },
   {
    "duration": 8,
    "start_time": "2025-04-23T12:54:32.144Z"
   },
   {
    "duration": 10,
    "start_time": "2025-04-23T12:54:32.154Z"
   },
   {
    "duration": 7,
    "start_time": "2025-04-23T12:54:32.167Z"
   },
   {
    "duration": 8,
    "start_time": "2025-04-23T12:54:32.176Z"
   },
   {
    "duration": 4,
    "start_time": "2025-04-23T12:54:32.185Z"
   },
   {
    "duration": 9,
    "start_time": "2025-04-23T12:54:32.191Z"
   },
   {
    "duration": 48,
    "start_time": "2025-04-23T12:54:32.201Z"
   },
   {
    "duration": 9,
    "start_time": "2025-04-23T12:54:32.251Z"
   },
   {
    "duration": 11,
    "start_time": "2025-04-23T12:54:32.261Z"
   },
   {
    "duration": 589,
    "start_time": "2025-04-23T12:59:41.811Z"
   },
   {
    "duration": 445,
    "start_time": "2025-04-23T13:00:03.265Z"
   },
   {
    "duration": 15,
    "start_time": "2025-04-23T13:00:23.767Z"
   },
   {
    "duration": 42,
    "start_time": "2025-04-23T13:00:57.143Z"
   },
   {
    "duration": 41,
    "start_time": "2025-04-23T13:03:36.225Z"
   },
   {
    "duration": 2,
    "start_time": "2025-04-23T13:04:04.687Z"
   },
   {
    "duration": 207,
    "start_time": "2025-04-23T13:04:04.692Z"
   },
   {
    "duration": 9,
    "start_time": "2025-04-23T13:04:04.900Z"
   },
   {
    "duration": 8,
    "start_time": "2025-04-23T13:04:04.911Z"
   },
   {
    "duration": 7,
    "start_time": "2025-04-23T13:04:04.922Z"
   },
   {
    "duration": 9,
    "start_time": "2025-04-23T13:04:04.942Z"
   },
   {
    "duration": 8,
    "start_time": "2025-04-23T13:04:04.953Z"
   },
   {
    "duration": 9,
    "start_time": "2025-04-23T13:04:04.962Z"
   },
   {
    "duration": 3,
    "start_time": "2025-04-23T13:04:04.973Z"
   },
   {
    "duration": 10,
    "start_time": "2025-04-23T13:04:04.978Z"
   },
   {
    "duration": 15,
    "start_time": "2025-04-23T13:04:04.989Z"
   },
   {
    "duration": 8,
    "start_time": "2025-04-23T13:04:05.043Z"
   },
   {
    "duration": 11,
    "start_time": "2025-04-23T13:04:05.053Z"
   },
   {
    "duration": 7,
    "start_time": "2025-04-23T13:04:05.067Z"
   },
   {
    "duration": 2,
    "start_time": "2025-04-23T13:04:05.076Z"
   },
   {
    "duration": 3,
    "start_time": "2025-04-23T13:04:05.080Z"
   },
   {
    "duration": 8,
    "start_time": "2025-04-23T13:04:05.084Z"
   },
   {
    "duration": 3,
    "start_time": "2025-04-23T13:04:05.093Z"
   },
   {
    "duration": 5,
    "start_time": "2025-04-23T13:04:05.097Z"
   },
   {
    "duration": 3,
    "start_time": "2025-04-23T13:04:05.103Z"
   },
   {
    "duration": 37,
    "start_time": "2025-04-23T13:04:05.107Z"
   },
   {
    "duration": 3,
    "start_time": "2025-04-23T13:04:05.146Z"
   },
   {
    "duration": 3,
    "start_time": "2025-04-23T13:04:05.151Z"
   },
   {
    "duration": 3,
    "start_time": "2025-04-23T13:04:05.155Z"
   },
   {
    "duration": 3,
    "start_time": "2025-04-23T13:04:05.160Z"
   },
   {
    "duration": 3,
    "start_time": "2025-04-23T13:04:05.164Z"
   },
   {
    "duration": 3,
    "start_time": "2025-04-23T13:04:05.170Z"
   },
   {
    "duration": 2,
    "start_time": "2025-04-23T13:04:05.177Z"
   },
   {
    "duration": 9,
    "start_time": "2025-04-23T13:04:05.181Z"
   },
   {
    "duration": 5,
    "start_time": "2025-04-23T13:04:05.192Z"
   },
   {
    "duration": 3,
    "start_time": "2025-04-23T13:04:05.199Z"
   },
   {
    "duration": 3,
    "start_time": "2025-04-23T13:04:05.203Z"
   },
   {
    "duration": 4,
    "start_time": "2025-04-23T13:04:15.260Z"
   },
   {
    "duration": 4,
    "start_time": "2025-04-23T13:04:16.462Z"
   },
   {
    "duration": 6,
    "start_time": "2025-04-23T13:06:00.968Z"
   },
   {
    "duration": 30,
    "start_time": "2025-04-23T13:06:21.254Z"
   },
   {
    "duration": 41,
    "start_time": "2025-04-23T13:09:31.250Z"
   },
   {
    "duration": 2,
    "start_time": "2025-04-23T13:09:44.554Z"
   },
   {
    "duration": 162,
    "start_time": "2025-04-23T13:09:44.559Z"
   },
   {
    "duration": 8,
    "start_time": "2025-04-23T13:09:44.723Z"
   },
   {
    "duration": 7,
    "start_time": "2025-04-23T13:09:44.732Z"
   },
   {
    "duration": 8,
    "start_time": "2025-04-23T13:09:44.743Z"
   },
   {
    "duration": 8,
    "start_time": "2025-04-23T13:09:44.753Z"
   },
   {
    "duration": 8,
    "start_time": "2025-04-23T13:09:44.762Z"
   },
   {
    "duration": 8,
    "start_time": "2025-04-23T13:09:44.771Z"
   },
   {
    "duration": 11,
    "start_time": "2025-04-23T13:09:44.780Z"
   },
   {
    "duration": 11,
    "start_time": "2025-04-23T13:09:44.792Z"
   },
   {
    "duration": 14,
    "start_time": "2025-04-23T13:09:44.843Z"
   },
   {
    "duration": 9,
    "start_time": "2025-04-23T13:09:44.858Z"
   },
   {
    "duration": 41,
    "start_time": "2025-04-23T13:09:44.868Z"
   },
   {
    "duration": 0,
    "start_time": "2025-04-23T13:09:44.911Z"
   },
   {
    "duration": 0,
    "start_time": "2025-04-23T13:09:44.912Z"
   },
   {
    "duration": 0,
    "start_time": "2025-04-23T13:09:44.913Z"
   },
   {
    "duration": 0,
    "start_time": "2025-04-23T13:09:44.915Z"
   },
   {
    "duration": 0,
    "start_time": "2025-04-23T13:09:44.942Z"
   },
   {
    "duration": 0,
    "start_time": "2025-04-23T13:09:44.943Z"
   },
   {
    "duration": 0,
    "start_time": "2025-04-23T13:09:44.944Z"
   },
   {
    "duration": 0,
    "start_time": "2025-04-23T13:09:44.945Z"
   },
   {
    "duration": 0,
    "start_time": "2025-04-23T13:09:44.947Z"
   },
   {
    "duration": 0,
    "start_time": "2025-04-23T13:09:44.948Z"
   },
   {
    "duration": 0,
    "start_time": "2025-04-23T13:09:44.949Z"
   },
   {
    "duration": 0,
    "start_time": "2025-04-23T13:09:44.950Z"
   },
   {
    "duration": 0,
    "start_time": "2025-04-23T13:09:44.951Z"
   },
   {
    "duration": 0,
    "start_time": "2025-04-23T13:09:44.952Z"
   },
   {
    "duration": 0,
    "start_time": "2025-04-23T13:09:44.953Z"
   },
   {
    "duration": 0,
    "start_time": "2025-04-23T13:09:44.954Z"
   },
   {
    "duration": 0,
    "start_time": "2025-04-23T13:09:44.955Z"
   },
   {
    "duration": 0,
    "start_time": "2025-04-23T13:09:44.957Z"
   },
   {
    "duration": 0,
    "start_time": "2025-04-23T13:09:44.958Z"
   },
   {
    "duration": 1,
    "start_time": "2025-04-23T13:09:44.959Z"
   },
   {
    "duration": 40,
    "start_time": "2025-04-23T13:10:12.149Z"
   },
   {
    "duration": 419,
    "start_time": "2025-04-23T13:10:23.134Z"
   },
   {
    "duration": 8,
    "start_time": "2025-04-23T13:11:00.287Z"
   },
   {
    "duration": 21,
    "start_time": "2025-04-23T13:12:06.814Z"
   },
   {
    "duration": 234,
    "start_time": "2025-04-23T13:12:13.993Z"
   },
   {
    "duration": 2470,
    "start_time": "2025-04-23T23:30:05.447Z"
   },
   {
    "duration": 223,
    "start_time": "2025-04-23T23:30:07.920Z"
   },
   {
    "duration": 9,
    "start_time": "2025-04-23T23:30:08.145Z"
   },
   {
    "duration": 9,
    "start_time": "2025-04-23T23:30:08.156Z"
   },
   {
    "duration": 8,
    "start_time": "2025-04-23T23:30:08.167Z"
   },
   {
    "duration": 9,
    "start_time": "2025-04-23T23:30:08.177Z"
   },
   {
    "duration": 8,
    "start_time": "2025-04-23T23:30:08.187Z"
   },
   {
    "duration": 10,
    "start_time": "2025-04-23T23:30:08.196Z"
   },
   {
    "duration": 45,
    "start_time": "2025-04-23T23:30:08.208Z"
   },
   {
    "duration": 9,
    "start_time": "2025-04-23T23:30:08.256Z"
   },
   {
    "duration": 15,
    "start_time": "2025-04-23T23:30:08.267Z"
   },
   {
    "duration": 9,
    "start_time": "2025-04-23T23:30:08.284Z"
   },
   {
    "duration": 464,
    "start_time": "2025-04-23T23:30:08.294Z"
   },
   {
    "duration": 12,
    "start_time": "2025-04-23T23:30:08.759Z"
   },
   {
    "duration": 6,
    "start_time": "2025-04-23T23:30:08.774Z"
   },
   {
    "duration": 270,
    "start_time": "2025-04-23T23:30:08.782Z"
   },
   {
    "duration": 3,
    "start_time": "2025-04-23T23:30:09.054Z"
   },
   {
    "duration": 4,
    "start_time": "2025-04-23T23:30:09.058Z"
   },
   {
    "duration": 8,
    "start_time": "2025-04-23T23:30:09.064Z"
   },
   {
    "duration": 2,
    "start_time": "2025-04-23T23:30:09.074Z"
   },
   {
    "duration": 3,
    "start_time": "2025-04-23T23:30:09.078Z"
   },
   {
    "duration": 3,
    "start_time": "2025-04-23T23:30:09.083Z"
   },
   {
    "duration": 3,
    "start_time": "2025-04-23T23:30:09.087Z"
   },
   {
    "duration": 3,
    "start_time": "2025-04-23T23:30:09.091Z"
   },
   {
    "duration": 3,
    "start_time": "2025-04-23T23:30:09.096Z"
   },
   {
    "duration": 2,
    "start_time": "2025-04-23T23:30:09.102Z"
   },
   {
    "duration": 3,
    "start_time": "2025-04-23T23:30:09.142Z"
   },
   {
    "duration": 2,
    "start_time": "2025-04-23T23:30:09.149Z"
   },
   {
    "duration": 2,
    "start_time": "2025-04-23T23:30:09.153Z"
   },
   {
    "duration": 3,
    "start_time": "2025-04-23T23:30:09.157Z"
   },
   {
    "duration": 3,
    "start_time": "2025-04-23T23:30:09.162Z"
   },
   {
    "duration": 3,
    "start_time": "2025-04-23T23:30:09.167Z"
   },
   {
    "duration": 3,
    "start_time": "2025-04-23T23:30:09.171Z"
   },
   {
    "duration": 2,
    "start_time": "2025-04-23T23:30:09.176Z"
   },
   {
    "duration": 4,
    "start_time": "2025-04-23T23:33:03.223Z"
   },
   {
    "duration": 3,
    "start_time": "2025-04-23T23:33:05.701Z"
   },
   {
    "duration": 216,
    "start_time": "2025-04-23T23:33:22.038Z"
   },
   {
    "duration": 4,
    "start_time": "2025-04-23T23:33:40.508Z"
   },
   {
    "duration": 9,
    "start_time": "2025-04-23T23:43:47.768Z"
   },
   {
    "duration": 4,
    "start_time": "2025-04-23T23:44:44.930Z"
   },
   {
    "duration": 14,
    "start_time": "2025-04-23T23:50:41.498Z"
   },
   {
    "duration": 8,
    "start_time": "2025-04-23T23:52:35.683Z"
   },
   {
    "duration": 7,
    "start_time": "2025-04-23T23:53:00.954Z"
   },
   {
    "duration": 7,
    "start_time": "2025-04-23T23:53:22.998Z"
   },
   {
    "duration": 19,
    "start_time": "2025-04-23T23:58:14.148Z"
   },
   {
    "duration": 8,
    "start_time": "2025-04-23T23:58:16.497Z"
   },
   {
    "duration": 419,
    "start_time": "2025-04-24T00:00:06.453Z"
   },
   {
    "duration": 19,
    "start_time": "2025-04-24T00:02:09.518Z"
   },
   {
    "duration": 21,
    "start_time": "2025-04-24T00:02:23.961Z"
   },
   {
    "duration": 7,
    "start_time": "2025-04-24T00:03:09.484Z"
   },
   {
    "duration": 7,
    "start_time": "2025-04-24T00:03:21.373Z"
   },
   {
    "duration": 8,
    "start_time": "2025-04-24T00:03:55.733Z"
   },
   {
    "duration": 110,
    "start_time": "2025-04-24T00:05:01.704Z"
   },
   {
    "duration": 79,
    "start_time": "2025-04-24T00:06:14.381Z"
   },
   {
    "duration": 99,
    "start_time": "2025-04-24T00:06:39.887Z"
   },
   {
    "duration": 54,
    "start_time": "2025-04-24T00:07:18.378Z"
   },
   {
    "duration": 98,
    "start_time": "2025-04-24T00:07:34.041Z"
   },
   {
    "duration": 94,
    "start_time": "2025-04-24T00:07:41.910Z"
   },
   {
    "duration": 6,
    "start_time": "2025-04-24T00:07:59.136Z"
   },
   {
    "duration": 7,
    "start_time": "2025-04-24T00:08:18.230Z"
   },
   {
    "duration": 8,
    "start_time": "2025-04-24T00:08:20.688Z"
   },
   {
    "duration": 8,
    "start_time": "2025-04-24T00:08:31.529Z"
   },
   {
    "duration": 14,
    "start_time": "2025-04-24T00:09:23.509Z"
   },
   {
    "duration": 7,
    "start_time": "2025-04-24T00:09:34.565Z"
   },
   {
    "duration": 6,
    "start_time": "2025-04-24T00:09:43.840Z"
   },
   {
    "duration": 8,
    "start_time": "2025-04-24T00:10:58.585Z"
   },
   {
    "duration": 4,
    "start_time": "2025-04-24T00:14:20.736Z"
   },
   {
    "duration": 2,
    "start_time": "2025-04-24T00:14:32.420Z"
   },
   {
    "duration": 160,
    "start_time": "2025-04-24T00:14:32.424Z"
   },
   {
    "duration": 9,
    "start_time": "2025-04-24T00:14:32.585Z"
   },
   {
    "duration": 7,
    "start_time": "2025-04-24T00:14:32.596Z"
   },
   {
    "duration": 7,
    "start_time": "2025-04-24T00:14:32.605Z"
   },
   {
    "duration": 30,
    "start_time": "2025-04-24T00:14:32.613Z"
   },
   {
    "duration": 8,
    "start_time": "2025-04-24T00:14:32.645Z"
   },
   {
    "duration": 8,
    "start_time": "2025-04-24T00:14:32.654Z"
   },
   {
    "duration": 11,
    "start_time": "2025-04-24T00:14:32.665Z"
   },
   {
    "duration": 5,
    "start_time": "2025-04-24T00:14:52.488Z"
   },
   {
    "duration": 9,
    "start_time": "2025-04-24T00:16:39.817Z"
   },
   {
    "duration": 11,
    "start_time": "2025-04-24T00:16:56.259Z"
   },
   {
    "duration": 8,
    "start_time": "2025-04-24T00:22:15.557Z"
   },
   {
    "duration": 352,
    "start_time": "2025-04-24T00:31:55.913Z"
   },
   {
    "duration": 433,
    "start_time": "2025-04-24T00:32:09.127Z"
   },
   {
    "duration": 26,
    "start_time": "2025-04-24T00:35:06.918Z"
   },
   {
    "duration": 16,
    "start_time": "2025-04-24T00:35:19.496Z"
   },
   {
    "duration": 13,
    "start_time": "2025-04-24T00:35:35.078Z"
   },
   {
    "duration": 14,
    "start_time": "2025-04-24T00:36:14.003Z"
   },
   {
    "duration": 11,
    "start_time": "2025-04-24T00:36:56.172Z"
   },
   {
    "duration": 15,
    "start_time": "2025-04-24T00:37:18.003Z"
   },
   {
    "duration": 142,
    "start_time": "2025-04-24T00:38:21.303Z"
   },
   {
    "duration": 2,
    "start_time": "2025-04-24T00:39:07.158Z"
   },
   {
    "duration": 686,
    "start_time": "2025-04-24T00:39:07.163Z"
   },
   {
    "duration": 10,
    "start_time": "2025-04-24T00:39:07.851Z"
   },
   {
    "duration": 7,
    "start_time": "2025-04-24T00:39:07.864Z"
   },
   {
    "duration": 11,
    "start_time": "2025-04-24T00:39:07.873Z"
   },
   {
    "duration": 10,
    "start_time": "2025-04-24T00:39:07.886Z"
   },
   {
    "duration": 9,
    "start_time": "2025-04-24T00:39:07.898Z"
   },
   {
    "duration": 35,
    "start_time": "2025-04-24T00:39:07.910Z"
   },
   {
    "duration": 18,
    "start_time": "2025-04-24T00:39:07.949Z"
   },
   {
    "duration": 10,
    "start_time": "2025-04-24T00:39:07.969Z"
   },
   {
    "duration": 6,
    "start_time": "2025-04-24T00:39:07.981Z"
   },
   {
    "duration": 16,
    "start_time": "2025-04-24T00:39:07.988Z"
   },
   {
    "duration": 8,
    "start_time": "2025-04-24T00:39:08.006Z"
   },
   {
    "duration": 459,
    "start_time": "2025-04-24T00:39:08.046Z"
   },
   {
    "duration": 128,
    "start_time": "2025-04-24T00:39:08.507Z"
   },
   {
    "duration": 14,
    "start_time": "2025-04-24T00:39:08.638Z"
   },
   {
    "duration": 8,
    "start_time": "2025-04-24T00:39:08.653Z"
   },
   {
    "duration": 395,
    "start_time": "2025-04-24T00:39:08.662Z"
   },
   {
    "duration": 58,
    "start_time": "2025-04-24T00:39:09.062Z"
   },
   {
    "duration": 26,
    "start_time": "2025-04-24T00:39:09.122Z"
   },
   {
    "duration": 8,
    "start_time": "2025-04-24T00:39:09.150Z"
   },
   {
    "duration": 371,
    "start_time": "2025-04-24T00:39:09.159Z"
   },
   {
    "duration": 95,
    "start_time": "2025-04-24T00:39:09.532Z"
   },
   {
    "duration": 19,
    "start_time": "2025-04-24T00:39:09.631Z"
   },
   {
    "duration": 36,
    "start_time": "2025-04-24T00:39:12.832Z"
   },
   {
    "duration": 83,
    "start_time": "2025-04-24T00:39:14.566Z"
   },
   {
    "duration": 7,
    "start_time": "2025-04-24T00:41:15.071Z"
   },
   {
    "duration": 15,
    "start_time": "2025-04-24T00:41:28.725Z"
   },
   {
    "duration": 356,
    "start_time": "2025-04-24T00:41:40.606Z"
   },
   {
    "duration": 450,
    "start_time": "2025-04-24T00:41:54.059Z"
   },
   {
    "duration": 10,
    "start_time": "2025-04-24T00:42:03.246Z"
   },
   {
    "duration": 29,
    "start_time": "2025-04-24T00:42:05.976Z"
   },
   {
    "duration": 20,
    "start_time": "2025-04-24T00:44:44.259Z"
   },
   {
    "duration": 167,
    "start_time": "2025-04-24T00:44:45.493Z"
   },
   {
    "duration": 13,
    "start_time": "2025-04-24T00:44:51.783Z"
   },
   {
    "duration": 70,
    "start_time": "2025-04-24T00:44:53.747Z"
   },
   {
    "duration": 21,
    "start_time": "2025-04-24T00:45:22.538Z"
   },
   {
    "duration": 18,
    "start_time": "2025-04-24T00:46:04.978Z"
   },
   {
    "duration": 109,
    "start_time": "2025-04-24T00:49:41.191Z"
   },
   {
    "duration": 15,
    "start_time": "2025-04-24T00:49:58.245Z"
   },
   {
    "duration": 367,
    "start_time": "2025-04-24T00:50:09.593Z"
   },
   {
    "duration": 323,
    "start_time": "2025-04-24T00:50:30.826Z"
   },
   {
    "duration": 874,
    "start_time": "2025-04-24T00:50:45.429Z"
   },
   {
    "duration": 5,
    "start_time": "2025-04-24T00:51:09.249Z"
   },
   {
    "duration": 7,
    "start_time": "2025-04-24T00:51:14.700Z"
   },
   {
    "duration": 7,
    "start_time": "2025-04-24T00:58:33.496Z"
   },
   {
    "duration": 7,
    "start_time": "2025-04-24T00:58:48.217Z"
   },
   {
    "duration": 16,
    "start_time": "2025-04-24T01:00:45.816Z"
   },
   {
    "duration": 7,
    "start_time": "2025-04-24T01:01:02.319Z"
   },
   {
    "duration": 10,
    "start_time": "2025-04-24T01:01:15.940Z"
   },
   {
    "duration": 7,
    "start_time": "2025-04-24T01:01:44.007Z"
   },
   {
    "duration": 7,
    "start_time": "2025-04-24T01:03:07.876Z"
   },
   {
    "duration": 360,
    "start_time": "2025-04-24T01:03:28.288Z"
   },
   {
    "duration": 48,
    "start_time": "2025-04-24T01:04:56.309Z"
   },
   {
    "duration": 19,
    "start_time": "2025-04-24T01:05:48.023Z"
   },
   {
    "duration": 3,
    "start_time": "2025-04-24T01:05:59.118Z"
   },
   {
    "duration": 156,
    "start_time": "2025-04-24T01:05:59.122Z"
   },
   {
    "duration": 9,
    "start_time": "2025-04-24T01:05:59.280Z"
   },
   {
    "duration": 9,
    "start_time": "2025-04-24T01:05:59.291Z"
   },
   {
    "duration": 13,
    "start_time": "2025-04-24T01:05:59.303Z"
   },
   {
    "duration": 27,
    "start_time": "2025-04-24T01:05:59.319Z"
   },
   {
    "duration": 11,
    "start_time": "2025-04-24T01:05:59.348Z"
   },
   {
    "duration": 9,
    "start_time": "2025-04-24T01:05:59.361Z"
   },
   {
    "duration": 12,
    "start_time": "2025-04-24T01:05:59.371Z"
   },
   {
    "duration": 9,
    "start_time": "2025-04-24T01:05:59.385Z"
   },
   {
    "duration": 5,
    "start_time": "2025-04-24T01:05:59.396Z"
   },
   {
    "duration": 47,
    "start_time": "2025-04-24T01:05:59.403Z"
   },
   {
    "duration": 10,
    "start_time": "2025-04-24T01:05:59.451Z"
   },
   {
    "duration": 437,
    "start_time": "2025-04-24T01:05:59.464Z"
   },
   {
    "duration": 130,
    "start_time": "2025-04-24T01:05:59.902Z"
   },
   {
    "duration": 17,
    "start_time": "2025-04-24T01:06:00.034Z"
   },
   {
    "duration": 9,
    "start_time": "2025-04-24T01:06:00.053Z"
   },
   {
    "duration": 276,
    "start_time": "2025-04-24T01:06:00.063Z"
   },
   {
    "duration": 52,
    "start_time": "2025-04-24T01:06:00.342Z"
   },
   {
    "duration": 14,
    "start_time": "2025-04-24T01:06:00.396Z"
   },
   {
    "duration": 7,
    "start_time": "2025-04-24T01:06:00.411Z"
   },
   {
    "duration": 341,
    "start_time": "2025-04-24T01:06:00.442Z"
   },
   {
    "duration": 84,
    "start_time": "2025-04-24T01:06:00.785Z"
   },
   {
    "duration": 7,
    "start_time": "2025-04-24T01:06:00.871Z"
   },
   {
    "duration": 7,
    "start_time": "2025-04-24T01:06:00.880Z"
   },
   {
    "duration": 29,
    "start_time": "2025-04-24T01:06:02.530Z"
   },
   {
    "duration": 20,
    "start_time": "2025-04-24T01:17:58.782Z"
   },
   {
    "duration": 21,
    "start_time": "2025-04-24T01:18:49.546Z"
   },
   {
    "duration": 26,
    "start_time": "2025-04-24T01:19:54.849Z"
   },
   {
    "duration": 71,
    "start_time": "2025-04-24T01:22:40.093Z"
   },
   {
    "duration": 226,
    "start_time": "2025-04-24T01:22:47.748Z"
   },
   {
    "duration": 2,
    "start_time": "2025-04-24T01:23:06.641Z"
   },
   {
    "duration": 166,
    "start_time": "2025-04-24T01:23:06.646Z"
   },
   {
    "duration": 10,
    "start_time": "2025-04-24T01:23:06.813Z"
   },
   {
    "duration": 8,
    "start_time": "2025-04-24T01:23:06.824Z"
   },
   {
    "duration": 8,
    "start_time": "2025-04-24T01:23:06.843Z"
   },
   {
    "duration": 9,
    "start_time": "2025-04-24T01:23:06.853Z"
   },
   {
    "duration": 13,
    "start_time": "2025-04-24T01:23:06.864Z"
   },
   {
    "duration": 9,
    "start_time": "2025-04-24T01:23:06.878Z"
   },
   {
    "duration": 14,
    "start_time": "2025-04-24T01:23:06.889Z"
   },
   {
    "duration": 12,
    "start_time": "2025-04-24T01:23:06.905Z"
   },
   {
    "duration": 5,
    "start_time": "2025-04-24T01:23:06.943Z"
   },
   {
    "duration": 19,
    "start_time": "2025-04-24T01:23:06.950Z"
   },
   {
    "duration": 10,
    "start_time": "2025-04-24T01:23:06.971Z"
   },
   {
    "duration": 571,
    "start_time": "2025-04-24T01:23:06.985Z"
   },
   {
    "duration": 117,
    "start_time": "2025-04-24T01:23:07.558Z"
   },
   {
    "duration": 15,
    "start_time": "2025-04-24T01:23:07.677Z"
   },
   {
    "duration": 7,
    "start_time": "2025-04-24T01:23:07.694Z"
   },
   {
    "duration": 258,
    "start_time": "2025-04-24T01:23:07.707Z"
   },
   {
    "duration": 83,
    "start_time": "2025-04-24T01:23:07.967Z"
   },
   {
    "duration": 14,
    "start_time": "2025-04-24T01:23:08.052Z"
   },
   {
    "duration": 7,
    "start_time": "2025-04-24T01:23:08.067Z"
   },
   {
    "duration": 367,
    "start_time": "2025-04-24T01:23:08.076Z"
   },
   {
    "duration": 76,
    "start_time": "2025-04-24T01:23:08.445Z"
   },
   {
    "duration": 21,
    "start_time": "2025-04-24T01:23:08.523Z"
   },
   {
    "duration": 8,
    "start_time": "2025-04-24T01:23:08.545Z"
   },
   {
    "duration": 78,
    "start_time": "2025-04-24T01:23:10.852Z"
   },
   {
    "duration": 45,
    "start_time": "2025-04-24T01:23:12.915Z"
   },
   {
    "duration": 40,
    "start_time": "2025-04-24T01:23:13.859Z"
   },
   {
    "duration": 59,
    "start_time": "2025-04-24T01:23:15.185Z"
   },
   {
    "duration": 62,
    "start_time": "2025-04-24T01:28:04.710Z"
   },
   {
    "duration": 8,
    "start_time": "2025-04-24T01:31:40.296Z"
   },
   {
    "duration": 8,
    "start_time": "2025-04-24T01:31:43.958Z"
   },
   {
    "duration": 8,
    "start_time": "2025-04-24T01:31:51.234Z"
   },
   {
    "duration": 7,
    "start_time": "2025-04-24T01:32:43.334Z"
   },
   {
    "duration": 4,
    "start_time": "2025-04-24T01:32:49.064Z"
   },
   {
    "duration": 129,
    "start_time": "2025-04-24T01:33:11.530Z"
   },
   {
    "duration": 2,
    "start_time": "2025-04-24T01:33:23.612Z"
   },
   {
    "duration": 230,
    "start_time": "2025-04-24T01:33:23.616Z"
   },
   {
    "duration": 9,
    "start_time": "2025-04-24T01:33:23.848Z"
   },
   {
    "duration": 8,
    "start_time": "2025-04-24T01:33:23.860Z"
   },
   {
    "duration": 7,
    "start_time": "2025-04-24T01:33:23.869Z"
   },
   {
    "duration": 7,
    "start_time": "2025-04-24T01:33:23.878Z"
   },
   {
    "duration": 8,
    "start_time": "2025-04-24T01:33:23.887Z"
   },
   {
    "duration": 9,
    "start_time": "2025-04-24T01:33:23.896Z"
   },
   {
    "duration": 47,
    "start_time": "2025-04-24T01:33:23.907Z"
   },
   {
    "duration": 11,
    "start_time": "2025-04-24T01:33:23.955Z"
   },
   {
    "duration": 6,
    "start_time": "2025-04-24T01:33:23.967Z"
   },
   {
    "duration": 14,
    "start_time": "2025-04-24T01:33:23.975Z"
   },
   {
    "duration": 9,
    "start_time": "2025-04-24T01:33:23.991Z"
   },
   {
    "duration": 426,
    "start_time": "2025-04-24T01:33:25.634Z"
   },
   {
    "duration": 7,
    "start_time": "2025-04-24T01:33:34.686Z"
   },
   {
    "duration": 7,
    "start_time": "2025-04-24T01:35:48.732Z"
   },
   {
    "duration": 9,
    "start_time": "2025-04-24T01:35:49.953Z"
   },
   {
    "duration": 4,
    "start_time": "2025-04-24T01:36:59.417Z"
   },
   {
    "duration": 11,
    "start_time": "2025-04-24T01:41:15.817Z"
   },
   {
    "duration": 43,
    "start_time": "2025-04-24T01:42:46.544Z"
   },
   {
    "duration": 17,
    "start_time": "2025-04-24T01:42:56.939Z"
   },
   {
    "duration": 13,
    "start_time": "2025-04-24T01:43:14.044Z"
   },
   {
    "duration": 30,
    "start_time": "2025-04-24T01:43:24.711Z"
   },
   {
    "duration": 19,
    "start_time": "2025-04-24T01:43:31.879Z"
   },
   {
    "duration": 19,
    "start_time": "2025-04-24T01:44:05.783Z"
   },
   {
    "duration": 21,
    "start_time": "2025-04-24T01:44:16.051Z"
   },
   {
    "duration": 19,
    "start_time": "2025-04-24T01:44:57.073Z"
   },
   {
    "duration": 126,
    "start_time": "2025-04-24T01:45:11.244Z"
   },
   {
    "duration": 19,
    "start_time": "2025-04-24T01:45:51.364Z"
   },
   {
    "duration": 10,
    "start_time": "2025-04-24T01:48:41.091Z"
   },
   {
    "duration": 9,
    "start_time": "2025-04-24T01:49:07.865Z"
   },
   {
    "duration": 10,
    "start_time": "2025-04-24T01:49:32.674Z"
   },
   {
    "duration": 16,
    "start_time": "2025-04-24T01:52:24.127Z"
   },
   {
    "duration": 11,
    "start_time": "2025-04-24T01:52:29.408Z"
   },
   {
    "duration": 19,
    "start_time": "2025-04-24T01:52:42.792Z"
   },
   {
    "duration": 82,
    "start_time": "2025-04-24T01:56:01.964Z"
   },
   {
    "duration": 341,
    "start_time": "2025-04-24T01:56:16.100Z"
   },
   {
    "duration": 19,
    "start_time": "2025-04-24T01:58:48.470Z"
   },
   {
    "duration": 293,
    "start_time": "2025-04-24T01:59:03.782Z"
   },
   {
    "duration": 2482,
    "start_time": "2025-04-24T09:36:21.219Z"
   },
   {
    "duration": 209,
    "start_time": "2025-04-24T09:36:23.703Z"
   },
   {
    "duration": 10,
    "start_time": "2025-04-24T09:36:23.913Z"
   },
   {
    "duration": 10,
    "start_time": "2025-04-24T09:36:23.924Z"
   },
   {
    "duration": 7,
    "start_time": "2025-04-24T09:36:23.937Z"
   },
   {
    "duration": 10,
    "start_time": "2025-04-24T09:36:23.946Z"
   },
   {
    "duration": 8,
    "start_time": "2025-04-24T09:36:23.958Z"
   },
   {
    "duration": 8,
    "start_time": "2025-04-24T09:36:23.967Z"
   },
   {
    "duration": 11,
    "start_time": "2025-04-24T09:36:23.977Z"
   },
   {
    "duration": 11,
    "start_time": "2025-04-24T09:36:23.990Z"
   },
   {
    "duration": 40,
    "start_time": "2025-04-24T09:36:24.002Z"
   },
   {
    "duration": 15,
    "start_time": "2025-04-24T09:36:24.043Z"
   },
   {
    "duration": 10,
    "start_time": "2025-04-24T09:36:24.059Z"
   },
   {
    "duration": 438,
    "start_time": "2025-04-24T09:36:24.072Z"
   },
   {
    "duration": 113,
    "start_time": "2025-04-24T09:36:24.511Z"
   },
   {
    "duration": 20,
    "start_time": "2025-04-24T09:36:24.625Z"
   },
   {
    "duration": 8,
    "start_time": "2025-04-24T09:36:24.647Z"
   },
   {
    "duration": 242,
    "start_time": "2025-04-24T09:36:24.656Z"
   },
   {
    "duration": 58,
    "start_time": "2025-04-24T09:36:24.900Z"
   },
   {
    "duration": 14,
    "start_time": "2025-04-24T09:36:24.960Z"
   },
   {
    "duration": 6,
    "start_time": "2025-04-24T09:36:24.975Z"
   },
   {
    "duration": 347,
    "start_time": "2025-04-24T09:36:24.982Z"
   },
   {
    "duration": 79,
    "start_time": "2025-04-24T09:36:25.331Z"
   },
   {
    "duration": 7,
    "start_time": "2025-04-24T09:36:25.412Z"
   },
   {
    "duration": 22,
    "start_time": "2025-04-24T09:36:25.421Z"
   },
   {
    "duration": 8,
    "start_time": "2025-04-24T09:36:25.444Z"
   },
   {
    "duration": 5,
    "start_time": "2025-04-24T09:36:25.454Z"
   },
   {
    "duration": 189,
    "start_time": "2025-04-24T09:36:25.461Z"
   },
   {
    "duration": 0,
    "start_time": "2025-04-24T09:36:25.652Z"
   },
   {
    "duration": 0,
    "start_time": "2025-04-24T09:36:25.653Z"
   },
   {
    "duration": 0,
    "start_time": "2025-04-24T09:36:25.655Z"
   },
   {
    "duration": 0,
    "start_time": "2025-04-24T09:36:25.656Z"
   },
   {
    "duration": 0,
    "start_time": "2025-04-24T09:36:25.658Z"
   },
   {
    "duration": 0,
    "start_time": "2025-04-24T09:36:25.659Z"
   },
   {
    "duration": 0,
    "start_time": "2025-04-24T09:36:25.661Z"
   },
   {
    "duration": 0,
    "start_time": "2025-04-24T09:36:25.663Z"
   },
   {
    "duration": 0,
    "start_time": "2025-04-24T09:36:25.664Z"
   },
   {
    "duration": 0,
    "start_time": "2025-04-24T09:36:25.666Z"
   },
   {
    "duration": 0,
    "start_time": "2025-04-24T09:36:25.667Z"
   },
   {
    "duration": 0,
    "start_time": "2025-04-24T09:36:25.668Z"
   },
   {
    "duration": 0,
    "start_time": "2025-04-24T09:36:25.668Z"
   },
   {
    "duration": 0,
    "start_time": "2025-04-24T09:36:25.670Z"
   },
   {
    "duration": 5,
    "start_time": "2025-04-24T09:36:38.867Z"
   },
   {
    "duration": 36,
    "start_time": "2025-04-24T09:36:41.713Z"
   },
   {
    "duration": 106,
    "start_time": "2025-04-24T09:37:13.112Z"
   },
   {
    "duration": 3,
    "start_time": "2025-04-24T09:38:19.401Z"
   },
   {
    "duration": 156,
    "start_time": "2025-04-24T09:38:19.405Z"
   },
   {
    "duration": 10,
    "start_time": "2025-04-24T09:38:19.563Z"
   },
   {
    "duration": 7,
    "start_time": "2025-04-24T09:38:19.575Z"
   },
   {
    "duration": 8,
    "start_time": "2025-04-24T09:38:19.584Z"
   },
   {
    "duration": 8,
    "start_time": "2025-04-24T09:38:19.593Z"
   },
   {
    "duration": 8,
    "start_time": "2025-04-24T09:38:19.603Z"
   },
   {
    "duration": 36,
    "start_time": "2025-04-24T09:38:19.613Z"
   },
   {
    "duration": 11,
    "start_time": "2025-04-24T09:38:19.652Z"
   },
   {
    "duration": 10,
    "start_time": "2025-04-24T09:38:19.665Z"
   },
   {
    "duration": 4,
    "start_time": "2025-04-24T09:38:19.677Z"
   },
   {
    "duration": 14,
    "start_time": "2025-04-24T09:38:19.683Z"
   },
   {
    "duration": 8,
    "start_time": "2025-04-24T09:38:19.699Z"
   },
   {
    "duration": 440,
    "start_time": "2025-04-24T09:38:19.744Z"
   },
   {
    "duration": 116,
    "start_time": "2025-04-24T09:38:20.186Z"
   },
   {
    "duration": 12,
    "start_time": "2025-04-24T09:38:20.304Z"
   },
   {
    "duration": 8,
    "start_time": "2025-04-24T09:38:20.318Z"
   },
   {
    "duration": 273,
    "start_time": "2025-04-24T09:38:20.327Z"
   },
   {
    "duration": 55,
    "start_time": "2025-04-24T09:38:20.601Z"
   },
   {
    "duration": 14,
    "start_time": "2025-04-24T09:38:20.657Z"
   },
   {
    "duration": 6,
    "start_time": "2025-04-24T09:38:20.673Z"
   },
   {
    "duration": 337,
    "start_time": "2025-04-24T09:38:20.680Z"
   },
   {
    "duration": 77,
    "start_time": "2025-04-24T09:38:21.019Z"
   },
   {
    "duration": 7,
    "start_time": "2025-04-24T09:38:21.099Z"
   },
   {
    "duration": 7,
    "start_time": "2025-04-24T09:38:21.107Z"
   },
   {
    "duration": 7,
    "start_time": "2025-04-24T09:38:21.116Z"
   },
   {
    "duration": 8,
    "start_time": "2025-04-24T09:38:21.143Z"
   },
   {
    "duration": 53,
    "start_time": "2025-04-24T09:38:21.152Z"
   },
   {
    "duration": 0,
    "start_time": "2025-04-24T09:38:21.206Z"
   },
   {
    "duration": 0,
    "start_time": "2025-04-24T09:38:21.207Z"
   },
   {
    "duration": 0,
    "start_time": "2025-04-24T09:38:21.208Z"
   },
   {
    "duration": 0,
    "start_time": "2025-04-24T09:38:21.209Z"
   },
   {
    "duration": 0,
    "start_time": "2025-04-24T09:38:21.211Z"
   },
   {
    "duration": 0,
    "start_time": "2025-04-24T09:38:21.212Z"
   },
   {
    "duration": 0,
    "start_time": "2025-04-24T09:38:21.213Z"
   },
   {
    "duration": 0,
    "start_time": "2025-04-24T09:38:21.214Z"
   },
   {
    "duration": 0,
    "start_time": "2025-04-24T09:38:21.215Z"
   },
   {
    "duration": 0,
    "start_time": "2025-04-24T09:38:21.216Z"
   },
   {
    "duration": 0,
    "start_time": "2025-04-24T09:38:21.216Z"
   },
   {
    "duration": 0,
    "start_time": "2025-04-24T09:38:21.217Z"
   },
   {
    "duration": 0,
    "start_time": "2025-04-24T09:38:21.217Z"
   },
   {
    "duration": 0,
    "start_time": "2025-04-24T09:38:21.242Z"
   },
   {
    "duration": 17,
    "start_time": "2025-04-24T09:38:36.541Z"
   },
   {
    "duration": 17,
    "start_time": "2025-04-24T09:39:32.158Z"
   },
   {
    "duration": 3,
    "start_time": "2025-04-24T09:39:55.754Z"
   },
   {
    "duration": 157,
    "start_time": "2025-04-24T09:39:57.224Z"
   },
   {
    "duration": 9,
    "start_time": "2025-04-24T09:40:02.304Z"
   },
   {
    "duration": 7,
    "start_time": "2025-04-24T09:40:04.740Z"
   },
   {
    "duration": 11,
    "start_time": "2025-04-24T09:40:25.826Z"
   },
   {
    "duration": 6,
    "start_time": "2025-04-24T09:40:29.903Z"
   },
   {
    "duration": 16,
    "start_time": "2025-04-24T09:40:38.266Z"
   },
   {
    "duration": 8,
    "start_time": "2025-04-24T09:40:40.475Z"
   },
   {
    "duration": 415,
    "start_time": "2025-04-24T09:40:44.126Z"
   },
   {
    "duration": 432,
    "start_time": "2025-04-24T09:40:46.137Z"
   },
   {
    "duration": 101,
    "start_time": "2025-04-24T09:40:54.336Z"
   },
   {
    "duration": 89,
    "start_time": "2025-04-24T09:41:13.151Z"
   },
   {
    "duration": 16,
    "start_time": "2025-04-24T09:41:39.618Z"
   },
   {
    "duration": 8,
    "start_time": "2025-04-24T09:41:50.790Z"
   },
   {
    "duration": 17,
    "start_time": "2025-04-24T09:42:20.999Z"
   },
   {
    "duration": 23,
    "start_time": "2025-04-24T09:42:28.267Z"
   },
   {
    "duration": 159,
    "start_time": "2025-04-24T09:42:36.945Z"
   },
   {
    "duration": 15,
    "start_time": "2025-04-24T09:42:45.761Z"
   },
   {
    "duration": 9,
    "start_time": "2025-04-24T09:42:47.723Z"
   },
   {
    "duration": 417,
    "start_time": "2025-04-24T09:42:53.696Z"
   },
   {
    "duration": 116,
    "start_time": "2025-04-24T09:43:00.214Z"
   },
   {
    "duration": 39,
    "start_time": "2025-04-24T09:43:11.819Z"
   },
   {
    "duration": 15,
    "start_time": "2025-04-24T09:44:01.783Z"
   },
   {
    "duration": 15,
    "start_time": "2025-04-24T09:44:15.992Z"
   },
   {
    "duration": 15,
    "start_time": "2025-04-24T09:45:06.170Z"
   },
   {
    "duration": 14,
    "start_time": "2025-04-24T09:45:55.593Z"
   },
   {
    "duration": 16,
    "start_time": "2025-04-24T09:46:43.517Z"
   },
   {
    "duration": 3,
    "start_time": "2025-04-24T09:46:49.374Z"
   },
   {
    "duration": 153,
    "start_time": "2025-04-24T09:46:49.379Z"
   },
   {
    "duration": 10,
    "start_time": "2025-04-24T09:46:49.534Z"
   },
   {
    "duration": 8,
    "start_time": "2025-04-24T09:46:49.546Z"
   },
   {
    "duration": 8,
    "start_time": "2025-04-24T09:46:49.556Z"
   },
   {
    "duration": 9,
    "start_time": "2025-04-24T09:46:49.566Z"
   },
   {
    "duration": 7,
    "start_time": "2025-04-24T09:46:49.577Z"
   },
   {
    "duration": 7,
    "start_time": "2025-04-24T09:46:49.586Z"
   },
   {
    "duration": 49,
    "start_time": "2025-04-24T09:46:49.595Z"
   },
   {
    "duration": 10,
    "start_time": "2025-04-24T09:46:49.647Z"
   },
   {
    "duration": 5,
    "start_time": "2025-04-24T09:46:49.660Z"
   },
   {
    "duration": 14,
    "start_time": "2025-04-24T09:46:49.666Z"
   },
   {
    "duration": 9,
    "start_time": "2025-04-24T09:46:49.682Z"
   },
   {
    "duration": 478,
    "start_time": "2025-04-24T09:46:49.693Z"
   },
   {
    "duration": 117,
    "start_time": "2025-04-24T09:46:50.173Z"
   },
   {
    "duration": 12,
    "start_time": "2025-04-24T09:46:50.292Z"
   },
   {
    "duration": 7,
    "start_time": "2025-04-24T09:46:50.306Z"
   },
   {
    "duration": 260,
    "start_time": "2025-04-24T09:46:50.314Z"
   },
   {
    "duration": 49,
    "start_time": "2025-04-24T09:46:50.576Z"
   },
   {
    "duration": 23,
    "start_time": "2025-04-24T09:46:50.627Z"
   },
   {
    "duration": 6,
    "start_time": "2025-04-24T09:46:50.651Z"
   },
   {
    "duration": 340,
    "start_time": "2025-04-24T09:46:50.659Z"
   },
   {
    "duration": 86,
    "start_time": "2025-04-24T09:46:51.001Z"
   },
   {
    "duration": 7,
    "start_time": "2025-04-24T09:46:51.088Z"
   },
   {
    "duration": 5,
    "start_time": "2025-04-24T09:46:51.097Z"
   },
   {
    "duration": 7,
    "start_time": "2025-04-24T09:46:51.104Z"
   },
   {
    "duration": 70,
    "start_time": "2025-04-24T09:46:51.113Z"
   },
   {
    "duration": 0,
    "start_time": "2025-04-24T09:46:51.185Z"
   },
   {
    "duration": 0,
    "start_time": "2025-04-24T09:46:51.186Z"
   },
   {
    "duration": 0,
    "start_time": "2025-04-24T09:46:51.187Z"
   },
   {
    "duration": 0,
    "start_time": "2025-04-24T09:46:51.188Z"
   },
   {
    "duration": 0,
    "start_time": "2025-04-24T09:46:51.189Z"
   },
   {
    "duration": 0,
    "start_time": "2025-04-24T09:46:51.191Z"
   },
   {
    "duration": 0,
    "start_time": "2025-04-24T09:46:51.192Z"
   },
   {
    "duration": 0,
    "start_time": "2025-04-24T09:46:51.194Z"
   },
   {
    "duration": 0,
    "start_time": "2025-04-24T09:46:51.195Z"
   },
   {
    "duration": 0,
    "start_time": "2025-04-24T09:46:51.197Z"
   },
   {
    "duration": 0,
    "start_time": "2025-04-24T09:46:51.198Z"
   },
   {
    "duration": 0,
    "start_time": "2025-04-24T09:46:51.200Z"
   },
   {
    "duration": 0,
    "start_time": "2025-04-24T09:46:51.201Z"
   },
   {
    "duration": 0,
    "start_time": "2025-04-24T09:46:51.202Z"
   },
   {
    "duration": 3,
    "start_time": "2025-04-24T09:47:03.539Z"
   },
   {
    "duration": 151,
    "start_time": "2025-04-24T09:47:05.400Z"
   },
   {
    "duration": 9,
    "start_time": "2025-04-24T09:47:07.843Z"
   },
   {
    "duration": 8,
    "start_time": "2025-04-24T09:47:10.197Z"
   },
   {
    "duration": 9,
    "start_time": "2025-04-24T09:47:13.029Z"
   },
   {
    "duration": 8,
    "start_time": "2025-04-24T09:47:26.779Z"
   },
   {
    "duration": 9,
    "start_time": "2025-04-24T09:47:37.275Z"
   },
   {
    "duration": 8,
    "start_time": "2025-04-24T09:47:40.200Z"
   },
   {
    "duration": 12,
    "start_time": "2025-04-24T09:47:51.922Z"
   },
   {
    "duration": 12,
    "start_time": "2025-04-24T09:47:55.168Z"
   },
   {
    "duration": 5,
    "start_time": "2025-04-24T09:47:58.393Z"
   },
   {
    "duration": 15,
    "start_time": "2025-04-24T09:47:59.892Z"
   },
   {
    "duration": 10,
    "start_time": "2025-04-24T09:48:01.651Z"
   },
   {
    "duration": 440,
    "start_time": "2025-04-24T09:48:09.638Z"
   },
   {
    "duration": 104,
    "start_time": "2025-04-24T09:48:13.913Z"
   },
   {
    "duration": 47,
    "start_time": "2025-04-24T09:48:22.683Z"
   },
   {
    "duration": 18,
    "start_time": "2025-04-24T09:48:44.100Z"
   },
   {
    "duration": 212,
    "start_time": "2025-04-24T09:48:53.908Z"
   },
   {
    "duration": 47,
    "start_time": "2025-04-24T09:49:19.021Z"
   },
   {
    "duration": 9,
    "start_time": "2025-04-24T09:50:42.364Z"
   },
   {
    "duration": 6,
    "start_time": "2025-04-24T09:50:55.948Z"
   },
   {
    "duration": 8,
    "start_time": "2025-04-24T09:51:06.301Z"
   },
   {
    "duration": 7,
    "start_time": "2025-04-24T09:52:18.230Z"
   },
   {
    "duration": 17,
    "start_time": "2025-04-24T09:53:25.300Z"
   },
   {
    "duration": 155,
    "start_time": "2025-04-24T09:53:34.042Z"
   },
   {
    "duration": 16,
    "start_time": "2025-04-24T09:53:44.374Z"
   },
   {
    "duration": 9,
    "start_time": "2025-04-24T09:53:46.549Z"
   },
   {
    "duration": 79,
    "start_time": "2025-04-24T09:53:50.984Z"
   },
   {
    "duration": 426,
    "start_time": "2025-04-24T09:54:08.239Z"
   },
   {
    "duration": 85,
    "start_time": "2025-04-24T09:54:20.285Z"
   },
   {
    "duration": 157,
    "start_time": "2025-04-24T09:54:45.235Z"
   },
   {
    "duration": 18,
    "start_time": "2025-04-24T09:54:55.358Z"
   },
   {
    "duration": 14,
    "start_time": "2025-04-24T09:55:15.124Z"
   },
   {
    "duration": 8,
    "start_time": "2025-04-24T09:55:45.743Z"
   },
   {
    "duration": 16,
    "start_time": "2025-04-24T09:56:07.954Z"
   },
   {
    "duration": 18,
    "start_time": "2025-04-24T09:56:42.078Z"
   },
   {
    "duration": 7,
    "start_time": "2025-04-24T09:57:04.734Z"
   },
   {
    "duration": 25,
    "start_time": "2025-04-24T09:57:11.456Z"
   },
   {
    "duration": 18,
    "start_time": "2025-04-24T09:57:24.457Z"
   },
   {
    "duration": 20,
    "start_time": "2025-04-24T10:11:39.796Z"
   },
   {
    "duration": 16,
    "start_time": "2025-04-24T10:11:49.420Z"
   },
   {
    "duration": 3,
    "start_time": "2025-04-24T10:12:03.419Z"
   },
   {
    "duration": 159,
    "start_time": "2025-04-24T10:12:03.426Z"
   },
   {
    "duration": 8,
    "start_time": "2025-04-24T10:12:03.588Z"
   },
   {
    "duration": 7,
    "start_time": "2025-04-24T10:12:03.598Z"
   },
   {
    "duration": 7,
    "start_time": "2025-04-24T10:12:03.607Z"
   },
   {
    "duration": 7,
    "start_time": "2025-04-24T10:12:03.616Z"
   },
   {
    "duration": 8,
    "start_time": "2025-04-24T10:12:03.643Z"
   },
   {
    "duration": 8,
    "start_time": "2025-04-24T10:12:03.653Z"
   },
   {
    "duration": 11,
    "start_time": "2025-04-24T10:12:03.662Z"
   },
   {
    "duration": 10,
    "start_time": "2025-04-24T10:12:03.675Z"
   },
   {
    "duration": 5,
    "start_time": "2025-04-24T10:12:03.687Z"
   },
   {
    "duration": 50,
    "start_time": "2025-04-24T10:12:03.693Z"
   },
   {
    "duration": 10,
    "start_time": "2025-04-24T10:12:03.744Z"
   },
   {
    "duration": 428,
    "start_time": "2025-04-24T10:12:03.755Z"
   },
   {
    "duration": 286,
    "start_time": "2025-04-24T10:13:05.251Z"
   },
   {
    "duration": 445,
    "start_time": "2025-04-24T10:13:37.464Z"
   },
   {
    "duration": 470,
    "start_time": "2025-04-24T10:13:48.583Z"
   },
   {
    "duration": 471,
    "start_time": "2025-04-24T10:13:54.322Z"
   },
   {
    "duration": 40,
    "start_time": "2025-04-24T10:14:48.696Z"
   },
   {
    "duration": 411,
    "start_time": "2025-04-24T10:14:58.760Z"
   },
   {
    "duration": 17,
    "start_time": "2025-04-24T10:16:42.381Z"
   },
   {
    "duration": 235,
    "start_time": "2025-04-24T10:16:49.405Z"
   },
   {
    "duration": 3,
    "start_time": "2025-04-24T10:18:52.001Z"
   },
   {
    "duration": 157,
    "start_time": "2025-04-24T10:18:52.012Z"
   },
   {
    "duration": 8,
    "start_time": "2025-04-24T10:18:52.171Z"
   },
   {
    "duration": 8,
    "start_time": "2025-04-24T10:18:52.180Z"
   },
   {
    "duration": 9,
    "start_time": "2025-04-24T10:18:52.189Z"
   },
   {
    "duration": 7,
    "start_time": "2025-04-24T10:18:52.200Z"
   },
   {
    "duration": 7,
    "start_time": "2025-04-24T10:18:52.209Z"
   },
   {
    "duration": 8,
    "start_time": "2025-04-24T10:18:52.243Z"
   },
   {
    "duration": 12,
    "start_time": "2025-04-24T10:18:52.252Z"
   },
   {
    "duration": 10,
    "start_time": "2025-04-24T10:18:52.265Z"
   },
   {
    "duration": 4,
    "start_time": "2025-04-24T10:18:52.277Z"
   },
   {
    "duration": 15,
    "start_time": "2025-04-24T10:18:52.283Z"
   },
   {
    "duration": 9,
    "start_time": "2025-04-24T10:18:52.299Z"
   },
   {
    "duration": 26,
    "start_time": "2025-04-24T10:18:52.343Z"
   },
   {
    "duration": 419,
    "start_time": "2025-04-24T10:18:52.373Z"
   },
   {
    "duration": 26,
    "start_time": "2025-04-24T10:18:52.794Z"
   },
   {
    "duration": 24,
    "start_time": "2025-04-24T10:18:52.821Z"
   },
   {
    "duration": 7,
    "start_time": "2025-04-24T10:18:52.847Z"
   },
   {
    "duration": 16,
    "start_time": "2025-04-24T10:18:52.856Z"
   },
   {
    "duration": 250,
    "start_time": "2025-04-24T10:18:52.874Z"
   },
   {
    "duration": 59,
    "start_time": "2025-04-24T10:18:53.125Z"
   },
   {
    "duration": 14,
    "start_time": "2025-04-24T10:18:53.186Z"
   },
   {
    "duration": 6,
    "start_time": "2025-04-24T10:18:53.201Z"
   },
   {
    "duration": 22,
    "start_time": "2025-04-24T10:18:59.397Z"
   },
   {
    "duration": 6,
    "start_time": "2025-04-24T10:22:43.307Z"
   },
   {
    "duration": 6,
    "start_time": "2025-04-24T10:23:11.774Z"
   },
   {
    "duration": 2,
    "start_time": "2025-04-24T10:23:33.284Z"
   },
   {
    "duration": 159,
    "start_time": "2025-04-24T10:23:33.289Z"
   },
   {
    "duration": 8,
    "start_time": "2025-04-24T10:23:33.450Z"
   },
   {
    "duration": 7,
    "start_time": "2025-04-24T10:23:33.460Z"
   },
   {
    "duration": 7,
    "start_time": "2025-04-24T10:23:33.470Z"
   },
   {
    "duration": 7,
    "start_time": "2025-04-24T10:23:33.479Z"
   },
   {
    "duration": 8,
    "start_time": "2025-04-24T10:23:33.488Z"
   },
   {
    "duration": 8,
    "start_time": "2025-04-24T10:23:33.498Z"
   },
   {
    "duration": 45,
    "start_time": "2025-04-24T10:23:33.508Z"
   },
   {
    "duration": 10,
    "start_time": "2025-04-24T10:23:33.554Z"
   },
   {
    "duration": 5,
    "start_time": "2025-04-24T10:23:33.568Z"
   },
   {
    "duration": 14,
    "start_time": "2025-04-24T10:23:33.575Z"
   },
   {
    "duration": 8,
    "start_time": "2025-04-24T10:23:33.591Z"
   },
   {
    "duration": 57,
    "start_time": "2025-04-24T10:23:33.601Z"
   },
   {
    "duration": 420,
    "start_time": "2025-04-24T10:23:33.660Z"
   },
   {
    "duration": 28,
    "start_time": "2025-04-24T10:23:34.082Z"
   },
   {
    "duration": 11,
    "start_time": "2025-04-24T10:23:34.112Z"
   },
   {
    "duration": 24,
    "start_time": "2025-04-24T10:23:34.125Z"
   },
   {
    "duration": 17,
    "start_time": "2025-04-24T10:23:34.151Z"
   },
   {
    "duration": 249,
    "start_time": "2025-04-24T10:23:34.170Z"
   },
   {
    "duration": 59,
    "start_time": "2025-04-24T10:23:34.421Z"
   },
   {
    "duration": 14,
    "start_time": "2025-04-24T10:23:34.481Z"
   },
   {
    "duration": 6,
    "start_time": "2025-04-24T10:23:34.497Z"
   },
   {
    "duration": 40,
    "start_time": "2025-04-24T10:23:34.504Z"
   },
   {
    "duration": 327,
    "start_time": "2025-04-24T10:23:34.547Z"
   },
   {
    "duration": 85,
    "start_time": "2025-04-24T10:23:34.876Z"
   },
   {
    "duration": 7,
    "start_time": "2025-04-24T10:23:34.963Z"
   },
   {
    "duration": 6,
    "start_time": "2025-04-24T10:23:34.972Z"
   },
   {
    "duration": 6,
    "start_time": "2025-04-24T10:23:34.983Z"
   },
   {
    "duration": 6,
    "start_time": "2025-04-24T10:23:38.694Z"
   },
   {
    "duration": 26,
    "start_time": "2025-04-24T10:46:16.499Z"
   },
   {
    "duration": 3,
    "start_time": "2025-04-24T10:46:26.498Z"
   },
   {
    "duration": 161,
    "start_time": "2025-04-24T10:46:26.504Z"
   },
   {
    "duration": 8,
    "start_time": "2025-04-24T10:46:26.667Z"
   },
   {
    "duration": 8,
    "start_time": "2025-04-24T10:46:26.677Z"
   },
   {
    "duration": 9,
    "start_time": "2025-04-24T10:46:26.687Z"
   },
   {
    "duration": 8,
    "start_time": "2025-04-24T10:46:26.698Z"
   },
   {
    "duration": 8,
    "start_time": "2025-04-24T10:46:26.707Z"
   },
   {
    "duration": 36,
    "start_time": "2025-04-24T10:46:26.716Z"
   },
   {
    "duration": 11,
    "start_time": "2025-04-24T10:46:26.753Z"
   },
   {
    "duration": 9,
    "start_time": "2025-04-24T10:46:26.766Z"
   },
   {
    "duration": 5,
    "start_time": "2025-04-24T10:46:26.778Z"
   },
   {
    "duration": 14,
    "start_time": "2025-04-24T10:46:26.784Z"
   },
   {
    "duration": 8,
    "start_time": "2025-04-24T10:46:26.800Z"
   },
   {
    "duration": 27,
    "start_time": "2025-04-24T10:46:26.843Z"
   },
   {
    "duration": 425,
    "start_time": "2025-04-24T10:46:26.872Z"
   },
   {
    "duration": 27,
    "start_time": "2025-04-24T10:46:27.300Z"
   },
   {
    "duration": 19,
    "start_time": "2025-04-24T10:46:27.329Z"
   },
   {
    "duration": 8,
    "start_time": "2025-04-24T10:46:27.349Z"
   },
   {
    "duration": 17,
    "start_time": "2025-04-24T10:46:27.359Z"
   },
   {
    "duration": 259,
    "start_time": "2025-04-24T10:46:27.377Z"
   },
   {
    "duration": 54,
    "start_time": "2025-04-24T10:46:27.637Z"
   },
   {
    "duration": 13,
    "start_time": "2025-04-24T10:46:27.693Z"
   },
   {
    "duration": 6,
    "start_time": "2025-04-24T10:46:27.708Z"
   },
   {
    "duration": 43,
    "start_time": "2025-04-24T10:46:27.716Z"
   },
   {
    "duration": 320,
    "start_time": "2025-04-24T10:46:27.761Z"
   },
   {
    "duration": 84,
    "start_time": "2025-04-24T10:46:28.083Z"
   },
   {
    "duration": 7,
    "start_time": "2025-04-24T10:46:28.169Z"
   },
   {
    "duration": 6,
    "start_time": "2025-04-24T10:46:28.177Z"
   },
   {
    "duration": 7,
    "start_time": "2025-04-24T10:46:28.187Z"
   },
   {
    "duration": 14,
    "start_time": "2025-04-24T10:46:31.462Z"
   },
   {
    "duration": 6,
    "start_time": "2025-04-24T10:48:30.877Z"
   },
   {
    "duration": 13,
    "start_time": "2025-04-24T10:50:37.640Z"
   },
   {
    "duration": 15,
    "start_time": "2025-04-24T10:50:53.268Z"
   },
   {
    "duration": 14,
    "start_time": "2025-04-24T10:51:52.251Z"
   },
   {
    "duration": 15,
    "start_time": "2025-04-24T10:52:39.925Z"
   },
   {
    "duration": 348,
    "start_time": "2025-04-24T10:53:33.450Z"
   },
   {
    "duration": 7,
    "start_time": "2025-04-24T10:54:30.408Z"
   },
   {
    "duration": 3,
    "start_time": "2025-04-24T10:54:47.614Z"
   },
   {
    "duration": 154,
    "start_time": "2025-04-24T10:54:51.892Z"
   },
   {
    "duration": 9,
    "start_time": "2025-04-24T10:54:57.918Z"
   },
   {
    "duration": 8,
    "start_time": "2025-04-24T10:55:00.057Z"
   },
   {
    "duration": 12,
    "start_time": "2025-04-24T10:55:03.284Z"
   },
   {
    "duration": 11,
    "start_time": "2025-04-24T10:55:07.342Z"
   },
   {
    "duration": 6,
    "start_time": "2025-04-24T10:55:09.577Z"
   },
   {
    "duration": 17,
    "start_time": "2025-04-24T10:55:11.396Z"
   },
   {
    "duration": 9,
    "start_time": "2025-04-24T10:55:13.369Z"
   },
   {
    "duration": 27,
    "start_time": "2025-04-24T10:55:21.419Z"
   },
   {
    "duration": 402,
    "start_time": "2025-04-24T10:55:23.363Z"
   },
   {
    "duration": 27,
    "start_time": "2025-04-24T10:55:26.057Z"
   },
   {
    "duration": 24,
    "start_time": "2025-04-24T10:55:37.795Z"
   },
   {
    "duration": 319,
    "start_time": "2025-04-24T10:55:41.284Z"
   },
   {
    "duration": 83,
    "start_time": "2025-04-24T10:55:43.872Z"
   },
   {
    "duration": 8,
    "start_time": "2025-04-24T10:55:46.171Z"
   },
   {
    "duration": 8,
    "start_time": "2025-04-24T10:55:48.319Z"
   },
   {
    "duration": 8,
    "start_time": "2025-04-24T10:55:50.079Z"
   },
   {
    "duration": 10,
    "start_time": "2025-04-24T10:55:51.988Z"
   },
   {
    "duration": 7,
    "start_time": "2025-04-24T10:58:02.864Z"
   },
   {
    "duration": 18,
    "start_time": "2025-04-24T10:58:24.299Z"
   },
   {
    "duration": 18,
    "start_time": "2025-04-24T10:58:29.002Z"
   },
   {
    "duration": 13,
    "start_time": "2025-04-24T10:58:33.760Z"
   },
   {
    "duration": 11,
    "start_time": "2025-04-24T10:58:35.104Z"
   },
   {
    "duration": 3,
    "start_time": "2025-04-24T10:58:54.047Z"
   },
   {
    "duration": 160,
    "start_time": "2025-04-24T10:58:54.054Z"
   },
   {
    "duration": 8,
    "start_time": "2025-04-24T10:58:54.216Z"
   },
   {
    "duration": 7,
    "start_time": "2025-04-24T10:58:54.225Z"
   },
   {
    "duration": 15,
    "start_time": "2025-04-24T10:58:54.234Z"
   },
   {
    "duration": 7,
    "start_time": "2025-04-24T10:58:54.252Z"
   },
   {
    "duration": 8,
    "start_time": "2025-04-24T10:58:54.261Z"
   },
   {
    "duration": 8,
    "start_time": "2025-04-24T10:58:54.270Z"
   },
   {
    "duration": 11,
    "start_time": "2025-04-24T10:58:54.280Z"
   },
   {
    "duration": 11,
    "start_time": "2025-04-24T10:58:54.293Z"
   },
   {
    "duration": 38,
    "start_time": "2025-04-24T10:58:54.305Z"
   },
   {
    "duration": 16,
    "start_time": "2025-04-24T10:58:54.345Z"
   },
   {
    "duration": 9,
    "start_time": "2025-04-24T10:58:54.362Z"
   },
   {
    "duration": 24,
    "start_time": "2025-04-24T10:58:54.372Z"
   },
   {
    "duration": 432,
    "start_time": "2025-04-24T10:58:54.399Z"
   },
   {
    "duration": 36,
    "start_time": "2025-04-24T10:58:54.832Z"
   },
   {
    "duration": 11,
    "start_time": "2025-04-24T10:58:54.871Z"
   },
   {
    "duration": 8,
    "start_time": "2025-04-24T10:58:54.884Z"
   },
   {
    "duration": 17,
    "start_time": "2025-04-24T10:58:54.893Z"
   },
   {
    "duration": 345,
    "start_time": "2025-04-24T10:58:54.912Z"
   },
   {
    "duration": 50,
    "start_time": "2025-04-24T10:58:55.259Z"
   },
   {
    "duration": 14,
    "start_time": "2025-04-24T10:58:55.310Z"
   },
   {
    "duration": 7,
    "start_time": "2025-04-24T10:58:55.342Z"
   },
   {
    "duration": 22,
    "start_time": "2025-04-24T10:58:55.352Z"
   },
   {
    "duration": 333,
    "start_time": "2025-04-24T10:58:55.377Z"
   },
   {
    "duration": 85,
    "start_time": "2025-04-24T10:58:55.711Z"
   },
   {
    "duration": 7,
    "start_time": "2025-04-24T10:58:55.798Z"
   },
   {
    "duration": 7,
    "start_time": "2025-04-24T10:58:55.806Z"
   },
   {
    "duration": 7,
    "start_time": "2025-04-24T10:58:55.814Z"
   },
   {
    "duration": 27,
    "start_time": "2025-04-24T10:58:55.823Z"
   },
   {
    "duration": 12,
    "start_time": "2025-04-24T10:59:32.710Z"
   },
   {
    "duration": 11,
    "start_time": "2025-04-24T10:59:34.998Z"
   },
   {
    "duration": 3,
    "start_time": "2025-04-24T10:59:41.691Z"
   },
   {
    "duration": 147,
    "start_time": "2025-04-24T10:59:43.322Z"
   },
   {
    "duration": 24,
    "start_time": "2025-04-24T10:59:57.711Z"
   },
   {
    "duration": 19,
    "start_time": "2025-04-24T11:03:23.396Z"
   },
   {
    "duration": 26,
    "start_time": "2025-04-24T11:04:55.149Z"
   },
   {
    "duration": 12,
    "start_time": "2025-04-24T11:07:58.966Z"
   },
   {
    "duration": 13,
    "start_time": "2025-04-24T11:08:02.002Z"
   },
   {
    "duration": 17,
    "start_time": "2025-04-24T11:11:24.771Z"
   },
   {
    "duration": 16,
    "start_time": "2025-04-24T11:11:42.173Z"
   },
   {
    "duration": 60,
    "start_time": "2025-04-24T11:11:59.434Z"
   },
   {
    "duration": 23,
    "start_time": "2025-04-24T11:12:09.306Z"
   },
   {
    "duration": 27,
    "start_time": "2025-04-24T11:13:38.981Z"
   },
   {
    "duration": 7,
    "start_time": "2025-04-24T11:14:09.297Z"
   },
   {
    "duration": 8,
    "start_time": "2025-04-24T11:14:11.989Z"
   },
   {
    "duration": 34,
    "start_time": "2025-04-24T11:15:55.317Z"
   },
   {
    "duration": 66,
    "start_time": "2025-04-24T11:22:15.842Z"
   },
   {
    "duration": 36,
    "start_time": "2025-04-24T11:22:22.285Z"
   },
   {
    "duration": 56,
    "start_time": "2025-04-24T11:22:42.345Z"
   },
   {
    "duration": 41,
    "start_time": "2025-04-24T11:23:07.613Z"
   },
   {
    "duration": 59,
    "start_time": "2025-04-24T11:24:22.944Z"
   },
   {
    "duration": 33,
    "start_time": "2025-04-24T11:25:09.205Z"
   },
   {
    "duration": 21,
    "start_time": "2025-04-24T11:25:27.653Z"
   },
   {
    "duration": 7,
    "start_time": "2025-04-24T11:25:29.562Z"
   },
   {
    "duration": 3,
    "start_time": "2025-04-24T11:25:44.605Z"
   },
   {
    "duration": 161,
    "start_time": "2025-04-24T11:25:45.699Z"
   },
   {
    "duration": 81,
    "start_time": "2025-04-24T11:27:11.592Z"
   },
   {
    "duration": 435,
    "start_time": "2025-04-24T11:30:14.791Z"
   },
   {
    "duration": 3,
    "start_time": "2025-04-24T11:30:34.148Z"
   },
   {
    "duration": 156,
    "start_time": "2025-04-24T11:30:34.163Z"
   },
   {
    "duration": 9,
    "start_time": "2025-04-24T11:30:34.321Z"
   },
   {
    "duration": 12,
    "start_time": "2025-04-24T11:30:34.332Z"
   },
   {
    "duration": 9,
    "start_time": "2025-04-24T11:30:34.346Z"
   },
   {
    "duration": 9,
    "start_time": "2025-04-24T11:30:34.357Z"
   },
   {
    "duration": 8,
    "start_time": "2025-04-24T11:30:34.368Z"
   },
   {
    "duration": 9,
    "start_time": "2025-04-24T11:30:34.377Z"
   },
   {
    "duration": 13,
    "start_time": "2025-04-24T11:30:34.388Z"
   },
   {
    "duration": 44,
    "start_time": "2025-04-24T11:30:34.402Z"
   },
   {
    "duration": 6,
    "start_time": "2025-04-24T11:30:34.448Z"
   },
   {
    "duration": 15,
    "start_time": "2025-04-24T11:30:34.456Z"
   },
   {
    "duration": 9,
    "start_time": "2025-04-24T11:30:34.472Z"
   },
   {
    "duration": 75,
    "start_time": "2025-04-24T11:30:34.483Z"
   },
   {
    "duration": 30,
    "start_time": "2025-04-24T11:30:34.561Z"
   },
   {
    "duration": 39,
    "start_time": "2025-04-24T11:30:37.294Z"
   },
   {
    "duration": 10,
    "start_time": "2025-04-24T11:30:53.292Z"
   },
   {
    "duration": 36,
    "start_time": "2025-04-24T11:31:10.406Z"
   },
   {
    "duration": 8,
    "start_time": "2025-04-24T11:31:39.681Z"
   },
   {
    "duration": 6,
    "start_time": "2025-04-24T11:32:26.440Z"
   },
   {
    "duration": 3,
    "start_time": "2025-04-24T11:32:40.178Z"
   },
   {
    "duration": 167,
    "start_time": "2025-04-24T11:32:40.183Z"
   },
   {
    "duration": 9,
    "start_time": "2025-04-24T11:32:40.352Z"
   },
   {
    "duration": 8,
    "start_time": "2025-04-24T11:32:40.362Z"
   },
   {
    "duration": 8,
    "start_time": "2025-04-24T11:32:40.372Z"
   },
   {
    "duration": 8,
    "start_time": "2025-04-24T11:32:40.382Z"
   },
   {
    "duration": 8,
    "start_time": "2025-04-24T11:32:40.392Z"
   },
   {
    "duration": 41,
    "start_time": "2025-04-24T11:32:40.402Z"
   },
   {
    "duration": 13,
    "start_time": "2025-04-24T11:32:40.445Z"
   },
   {
    "duration": 9,
    "start_time": "2025-04-24T11:32:40.460Z"
   },
   {
    "duration": 5,
    "start_time": "2025-04-24T11:32:40.471Z"
   },
   {
    "duration": 15,
    "start_time": "2025-04-24T11:32:40.478Z"
   },
   {
    "duration": 6,
    "start_time": "2025-04-24T11:32:43.425Z"
   },
   {
    "duration": 79,
    "start_time": "2025-04-24T11:34:17.433Z"
   },
   {
    "duration": 3,
    "start_time": "2025-04-24T11:34:27.689Z"
   },
   {
    "duration": 157,
    "start_time": "2025-04-24T11:34:27.694Z"
   },
   {
    "duration": 9,
    "start_time": "2025-04-24T11:34:27.852Z"
   },
   {
    "duration": 9,
    "start_time": "2025-04-24T11:34:27.862Z"
   },
   {
    "duration": 8,
    "start_time": "2025-04-24T11:34:27.873Z"
   },
   {
    "duration": 8,
    "start_time": "2025-04-24T11:34:27.882Z"
   },
   {
    "duration": 8,
    "start_time": "2025-04-24T11:34:27.892Z"
   },
   {
    "duration": 41,
    "start_time": "2025-04-24T11:34:27.901Z"
   },
   {
    "duration": 14,
    "start_time": "2025-04-24T11:34:27.944Z"
   },
   {
    "duration": 12,
    "start_time": "2025-04-24T11:34:27.959Z"
   },
   {
    "duration": 5,
    "start_time": "2025-04-24T11:34:27.973Z"
   },
   {
    "duration": 15,
    "start_time": "2025-04-24T11:34:27.980Z"
   },
   {
    "duration": 8,
    "start_time": "2025-04-24T11:34:27.996Z"
   },
   {
    "duration": 77,
    "start_time": "2025-04-24T11:34:28.007Z"
   },
   {
    "duration": 28,
    "start_time": "2025-04-24T11:34:32.175Z"
   },
   {
    "duration": 5,
    "start_time": "2025-04-24T11:36:49.729Z"
   },
   {
    "duration": 83,
    "start_time": "2025-04-24T11:36:58.520Z"
   },
   {
    "duration": 132,
    "start_time": "2025-04-24T11:38:07.310Z"
   },
   {
    "duration": 20,
    "start_time": "2025-04-24T11:39:10.606Z"
   },
   {
    "duration": 8,
    "start_time": "2025-04-24T11:39:13.524Z"
   },
   {
    "duration": 419,
    "start_time": "2025-04-24T11:39:45.945Z"
   },
   {
    "duration": 3,
    "start_time": "2025-04-24T11:39:56.752Z"
   },
   {
    "duration": 157,
    "start_time": "2025-04-24T11:39:56.757Z"
   },
   {
    "duration": 8,
    "start_time": "2025-04-24T11:39:56.916Z"
   },
   {
    "duration": 8,
    "start_time": "2025-04-24T11:39:56.926Z"
   },
   {
    "duration": 14,
    "start_time": "2025-04-24T11:39:56.936Z"
   },
   {
    "duration": 8,
    "start_time": "2025-04-24T11:39:56.953Z"
   },
   {
    "duration": 8,
    "start_time": "2025-04-24T11:39:56.963Z"
   },
   {
    "duration": 8,
    "start_time": "2025-04-24T11:39:56.972Z"
   },
   {
    "duration": 12,
    "start_time": "2025-04-24T11:39:56.982Z"
   },
   {
    "duration": 9,
    "start_time": "2025-04-24T11:39:56.996Z"
   },
   {
    "duration": 39,
    "start_time": "2025-04-24T11:39:57.007Z"
   },
   {
    "duration": 15,
    "start_time": "2025-04-24T11:39:57.048Z"
   },
   {
    "duration": 6,
    "start_time": "2025-04-24T11:39:57.065Z"
   },
   {
    "duration": 24,
    "start_time": "2025-04-24T11:39:57.073Z"
   },
   {
    "duration": 57,
    "start_time": "2025-04-24T11:39:57.099Z"
   },
   {
    "duration": 12,
    "start_time": "2025-04-24T11:39:57.158Z"
   },
   {
    "duration": 8,
    "start_time": "2025-04-24T11:39:57.172Z"
   },
   {
    "duration": 17,
    "start_time": "2025-04-24T11:39:57.181Z"
   },
   {
    "duration": 14,
    "start_time": "2025-04-24T11:39:57.200Z"
   },
   {
    "duration": 13,
    "start_time": "2025-04-24T11:39:57.243Z"
   },
   {
    "duration": 6,
    "start_time": "2025-04-24T11:39:57.258Z"
   },
   {
    "duration": 20,
    "start_time": "2025-04-24T11:39:57.266Z"
   },
   {
    "duration": 22,
    "start_time": "2025-04-24T11:39:57.287Z"
   },
   {
    "duration": 35,
    "start_time": "2025-04-24T11:39:57.311Z"
   },
   {
    "duration": 7,
    "start_time": "2025-04-24T11:39:57.348Z"
   },
   {
    "duration": 8,
    "start_time": "2025-04-24T11:39:57.356Z"
   },
   {
    "duration": 25,
    "start_time": "2025-04-24T11:40:00.719Z"
   },
   {
    "duration": 133,
    "start_time": "2025-04-24T11:40:54.141Z"
   },
   {
    "duration": 24,
    "start_time": "2025-04-24T11:41:06.303Z"
   },
   {
    "duration": 28,
    "start_time": "2025-04-24T11:44:10.177Z"
   },
   {
    "duration": 4,
    "start_time": "2025-04-24T11:44:20.845Z"
   },
   {
    "duration": 26,
    "start_time": "2025-04-24T11:52:45.978Z"
   },
   {
    "duration": 26,
    "start_time": "2025-04-24T11:53:00.099Z"
   },
   {
    "duration": 117,
    "start_time": "2025-04-24T11:53:37.435Z"
   },
   {
    "duration": 21,
    "start_time": "2025-04-24T11:54:04.372Z"
   },
   {
    "duration": 2,
    "start_time": "2025-04-24T11:54:18.475Z"
   },
   {
    "duration": 158,
    "start_time": "2025-04-24T11:54:18.480Z"
   },
   {
    "duration": 8,
    "start_time": "2025-04-24T11:54:18.640Z"
   },
   {
    "duration": 8,
    "start_time": "2025-04-24T11:54:18.650Z"
   },
   {
    "duration": 7,
    "start_time": "2025-04-24T11:54:18.660Z"
   },
   {
    "duration": 8,
    "start_time": "2025-04-24T11:54:18.669Z"
   },
   {
    "duration": 8,
    "start_time": "2025-04-24T11:54:18.678Z"
   },
   {
    "duration": 8,
    "start_time": "2025-04-24T11:54:18.687Z"
   },
   {
    "duration": 48,
    "start_time": "2025-04-24T11:54:18.697Z"
   },
   {
    "duration": 10,
    "start_time": "2025-04-24T11:54:18.748Z"
   },
   {
    "duration": 5,
    "start_time": "2025-04-24T11:54:18.760Z"
   },
   {
    "duration": 15,
    "start_time": "2025-04-24T11:54:18.766Z"
   },
   {
    "duration": 6,
    "start_time": "2025-04-24T11:54:18.782Z"
   },
   {
    "duration": 53,
    "start_time": "2025-04-24T11:54:18.792Z"
   },
   {
    "duration": 29,
    "start_time": "2025-04-24T11:54:18.847Z"
   },
   {
    "duration": 12,
    "start_time": "2025-04-24T11:54:18.877Z"
   },
   {
    "duration": 8,
    "start_time": "2025-04-24T11:54:18.891Z"
   },
   {
    "duration": 47,
    "start_time": "2025-04-24T11:54:18.900Z"
   },
   {
    "duration": 18,
    "start_time": "2025-04-24T11:54:18.948Z"
   },
   {
    "duration": 13,
    "start_time": "2025-04-24T11:54:18.968Z"
   },
   {
    "duration": 7,
    "start_time": "2025-04-24T11:54:18.982Z"
   },
   {
    "duration": 20,
    "start_time": "2025-04-24T11:54:18.991Z"
   },
   {
    "duration": 49,
    "start_time": "2025-04-24T11:54:19.013Z"
   },
   {
    "duration": 7,
    "start_time": "2025-04-24T11:54:19.064Z"
   },
   {
    "duration": 7,
    "start_time": "2025-04-24T11:54:19.072Z"
   },
   {
    "duration": 7,
    "start_time": "2025-04-24T11:54:19.080Z"
   },
   {
    "duration": 164,
    "start_time": "2025-04-24T11:54:19.089Z"
   },
   {
    "duration": 26,
    "start_time": "2025-04-24T11:55:08.543Z"
   },
   {
    "duration": 6,
    "start_time": "2025-04-24T11:56:51.087Z"
   },
   {
    "duration": 77,
    "start_time": "2025-04-24T11:57:03.362Z"
   },
   {
    "duration": 17,
    "start_time": "2025-04-24T11:59:11.968Z"
   },
   {
    "duration": 16,
    "start_time": "2025-04-24T11:59:24.967Z"
   },
   {
    "duration": 16,
    "start_time": "2025-04-24T11:59:32.199Z"
   },
   {
    "duration": 44,
    "start_time": "2025-04-24T12:01:39.614Z"
   },
   {
    "duration": 6,
    "start_time": "2025-04-24T12:01:51.027Z"
   },
   {
    "duration": 40,
    "start_time": "2025-04-24T12:02:27.587Z"
   },
   {
    "duration": 40,
    "start_time": "2025-04-24T12:02:45.427Z"
   },
   {
    "duration": 42,
    "start_time": "2025-04-24T12:03:54.587Z"
   },
   {
    "duration": 164,
    "start_time": "2025-04-24T12:04:14.786Z"
   },
   {
    "duration": 25,
    "start_time": "2025-04-24T12:04:27.404Z"
   },
   {
    "duration": 2,
    "start_time": "2025-04-24T12:07:09.691Z"
   },
   {
    "duration": 7,
    "start_time": "2025-04-24T12:08:59.720Z"
   },
   {
    "duration": 2437,
    "start_time": "2025-04-24T23:53:32.949Z"
   },
   {
    "duration": 221,
    "start_time": "2025-04-24T23:53:35.388Z"
   },
   {
    "duration": 10,
    "start_time": "2025-04-24T23:53:35.611Z"
   },
   {
    "duration": 10,
    "start_time": "2025-04-24T23:53:35.623Z"
   },
   {
    "duration": 7,
    "start_time": "2025-04-24T23:53:35.635Z"
   },
   {
    "duration": 9,
    "start_time": "2025-04-24T23:53:35.644Z"
   },
   {
    "duration": 34,
    "start_time": "2025-04-24T23:53:35.654Z"
   },
   {
    "duration": 9,
    "start_time": "2025-04-24T23:53:35.690Z"
   },
   {
    "duration": 16,
    "start_time": "2025-04-24T23:53:35.700Z"
   },
   {
    "duration": 11,
    "start_time": "2025-04-24T23:53:35.718Z"
   },
   {
    "duration": 4,
    "start_time": "2025-04-24T23:53:35.731Z"
   },
   {
    "duration": 15,
    "start_time": "2025-04-24T23:53:35.737Z"
   },
   {
    "duration": 40,
    "start_time": "2025-04-24T23:53:35.754Z"
   },
   {
    "duration": 28,
    "start_time": "2025-04-24T23:53:35.797Z"
   },
   {
    "duration": 28,
    "start_time": "2025-04-24T23:53:35.827Z"
   },
   {
    "duration": 32,
    "start_time": "2025-04-24T23:53:35.858Z"
   },
   {
    "duration": 9,
    "start_time": "2025-04-24T23:53:35.892Z"
   },
   {
    "duration": 18,
    "start_time": "2025-04-24T23:53:35.903Z"
   },
   {
    "duration": 13,
    "start_time": "2025-04-24T23:53:35.923Z"
   },
   {
    "duration": 13,
    "start_time": "2025-04-24T23:53:35.938Z"
   },
   {
    "duration": 39,
    "start_time": "2025-04-24T23:53:35.953Z"
   },
   {
    "duration": 21,
    "start_time": "2025-04-24T23:53:35.994Z"
   },
   {
    "duration": 20,
    "start_time": "2025-04-24T23:53:36.016Z"
   },
   {
    "duration": 7,
    "start_time": "2025-04-24T23:53:36.038Z"
   },
   {
    "duration": 7,
    "start_time": "2025-04-24T23:53:36.047Z"
   },
   {
    "duration": 36,
    "start_time": "2025-04-24T23:53:36.055Z"
   },
   {
    "duration": 35,
    "start_time": "2025-04-24T23:53:36.093Z"
   },
   {
    "duration": 2,
    "start_time": "2025-04-24T23:53:36.130Z"
   },
   {
    "duration": 289,
    "start_time": "2025-04-24T23:53:36.133Z"
   },
   {
    "duration": 0,
    "start_time": "2025-04-24T23:53:36.423Z"
   },
   {
    "duration": 0,
    "start_time": "2025-04-24T23:53:36.424Z"
   },
   {
    "duration": 33,
    "start_time": "2025-04-24T23:53:51.723Z"
   },
   {
    "duration": 557,
    "start_time": "2025-04-24T23:59:14.767Z"
   },
   {
    "duration": 14,
    "start_time": "2025-04-25T00:02:08.150Z"
   },
   {
    "duration": 12,
    "start_time": "2025-04-25T00:04:05.062Z"
   },
   {
    "duration": 14,
    "start_time": "2025-04-25T00:04:26.131Z"
   },
   {
    "duration": 104,
    "start_time": "2025-04-25T00:59:04.360Z"
   },
   {
    "duration": 4,
    "start_time": "2025-04-25T00:59:30.139Z"
   },
   {
    "duration": 203,
    "start_time": "2025-04-25T00:59:30.145Z"
   },
   {
    "duration": 9,
    "start_time": "2025-04-25T00:59:30.350Z"
   },
   {
    "duration": 7,
    "start_time": "2025-04-25T00:59:30.362Z"
   },
   {
    "duration": 16,
    "start_time": "2025-04-25T00:59:30.371Z"
   },
   {
    "duration": 9,
    "start_time": "2025-04-25T00:59:30.389Z"
   },
   {
    "duration": 11,
    "start_time": "2025-04-25T00:59:30.399Z"
   },
   {
    "duration": 8,
    "start_time": "2025-04-25T00:59:30.412Z"
   },
   {
    "duration": 11,
    "start_time": "2025-04-25T00:59:30.423Z"
   },
   {
    "duration": 11,
    "start_time": "2025-04-25T00:59:30.436Z"
   },
   {
    "duration": 43,
    "start_time": "2025-04-25T00:59:30.448Z"
   },
   {
    "duration": 20,
    "start_time": "2025-04-25T00:59:30.493Z"
   },
   {
    "duration": 7,
    "start_time": "2025-04-25T00:59:30.515Z"
   },
   {
    "duration": 25,
    "start_time": "2025-04-25T00:59:30.523Z"
   },
   {
    "duration": 57,
    "start_time": "2025-04-25T00:59:30.550Z"
   },
   {
    "duration": 13,
    "start_time": "2025-04-25T00:59:30.609Z"
   },
   {
    "duration": 8,
    "start_time": "2025-04-25T00:59:30.624Z"
   },
   {
    "duration": 16,
    "start_time": "2025-04-25T00:59:30.633Z"
   },
   {
    "duration": 39,
    "start_time": "2025-04-25T00:59:30.651Z"
   },
   {
    "duration": 17,
    "start_time": "2025-04-25T00:59:30.692Z"
   },
   {
    "duration": 6,
    "start_time": "2025-04-25T00:59:30.711Z"
   },
   {
    "duration": 19,
    "start_time": "2025-04-25T00:59:30.719Z"
   },
   {
    "duration": 48,
    "start_time": "2025-04-25T00:59:30.740Z"
   },
   {
    "duration": 10,
    "start_time": "2025-04-25T00:59:30.793Z"
   },
   {
    "duration": 8,
    "start_time": "2025-04-25T00:59:30.804Z"
   },
   {
    "duration": 8,
    "start_time": "2025-04-25T00:59:30.813Z"
   },
   {
    "duration": 64,
    "start_time": "2025-04-25T00:59:30.823Z"
   },
   {
    "duration": 0,
    "start_time": "2025-04-25T00:59:30.889Z"
   },
   {
    "duration": 0,
    "start_time": "2025-04-25T00:59:30.892Z"
   },
   {
    "duration": 0,
    "start_time": "2025-04-25T00:59:30.893Z"
   },
   {
    "duration": 0,
    "start_time": "2025-04-25T00:59:30.894Z"
   },
   {
    "duration": 0,
    "start_time": "2025-04-25T00:59:30.895Z"
   },
   {
    "duration": 0,
    "start_time": "2025-04-25T00:59:30.896Z"
   },
   {
    "duration": 0,
    "start_time": "2025-04-25T00:59:30.896Z"
   },
   {
    "duration": 0,
    "start_time": "2025-04-25T00:59:30.898Z"
   },
   {
    "duration": 0,
    "start_time": "2025-04-25T00:59:30.899Z"
   },
   {
    "duration": 0,
    "start_time": "2025-04-25T00:59:30.900Z"
   },
   {
    "duration": 0,
    "start_time": "2025-04-25T00:59:30.902Z"
   },
   {
    "duration": 0,
    "start_time": "2025-04-25T00:59:30.903Z"
   },
   {
    "duration": 0,
    "start_time": "2025-04-25T00:59:30.905Z"
   },
   {
    "duration": 0,
    "start_time": "2025-04-25T00:59:30.907Z"
   },
   {
    "duration": 0,
    "start_time": "2025-04-25T00:59:30.908Z"
   },
   {
    "duration": 0,
    "start_time": "2025-04-25T00:59:30.909Z"
   },
   {
    "duration": 0,
    "start_time": "2025-04-25T00:59:30.910Z"
   },
   {
    "duration": 37,
    "start_time": "2025-04-25T00:59:43.607Z"
   },
   {
    "duration": 13,
    "start_time": "2025-04-25T00:59:57.521Z"
   },
   {
    "duration": 38,
    "start_time": "2025-04-25T01:00:57.391Z"
   },
   {
    "duration": 26,
    "start_time": "2025-04-25T01:01:07.364Z"
   },
   {
    "duration": 16,
    "start_time": "2025-04-25T01:01:14.573Z"
   },
   {
    "duration": 17,
    "start_time": "2025-04-25T01:01:47.995Z"
   },
   {
    "duration": 100,
    "start_time": "2025-04-25T01:02:15.606Z"
   },
   {
    "duration": 19,
    "start_time": "2025-04-25T01:03:16.107Z"
   },
   {
    "duration": 21,
    "start_time": "2025-04-25T01:04:19.349Z"
   },
   {
    "duration": 8,
    "start_time": "2025-04-25T01:04:36.607Z"
   },
   {
    "duration": 42,
    "start_time": "2025-04-25T01:11:56.582Z"
   },
   {
    "duration": 14,
    "start_time": "2025-04-25T01:13:55.432Z"
   },
   {
    "duration": 17,
    "start_time": "2025-04-25T01:14:21.691Z"
   },
   {
    "duration": 22,
    "start_time": "2025-04-25T01:16:21.844Z"
   },
   {
    "duration": 19,
    "start_time": "2025-04-25T01:21:11.062Z"
   },
   {
    "duration": 22,
    "start_time": "2025-04-25T01:21:33.977Z"
   },
   {
    "duration": 20,
    "start_time": "2025-04-25T01:21:54.165Z"
   },
   {
    "duration": 685,
    "start_time": "2025-04-25T01:23:35.627Z"
   },
   {
    "duration": 125,
    "start_time": "2025-04-25T01:24:07.847Z"
   },
   {
    "duration": 229,
    "start_time": "2025-04-25T01:26:10.622Z"
   },
   {
    "duration": 22,
    "start_time": "2025-04-25T01:26:18.884Z"
   },
   {
    "duration": 24,
    "start_time": "2025-04-25T01:27:50.968Z"
   },
   {
    "duration": 27,
    "start_time": "2025-04-25T01:34:08.652Z"
   },
   {
    "duration": 32,
    "start_time": "2025-04-25T01:36:12.244Z"
   },
   {
    "duration": 22,
    "start_time": "2025-04-25T01:36:26.152Z"
   },
   {
    "duration": 26,
    "start_time": "2025-04-25T01:38:17.792Z"
   },
   {
    "duration": 119,
    "start_time": "2025-04-25T01:38:39.250Z"
   },
   {
    "duration": 28,
    "start_time": "2025-04-25T01:38:54.125Z"
   },
   {
    "duration": 29,
    "start_time": "2025-04-25T01:39:13.471Z"
   },
   {
    "duration": 26,
    "start_time": "2025-04-25T01:40:44.532Z"
   },
   {
    "duration": 26,
    "start_time": "2025-04-25T01:41:52.803Z"
   },
   {
    "duration": 29,
    "start_time": "2025-04-25T01:43:36.275Z"
   },
   {
    "duration": 27,
    "start_time": "2025-04-25T01:44:53.964Z"
   },
   {
    "duration": 2523,
    "start_time": "2025-04-27T23:14:16.594Z"
   },
   {
    "duration": 369,
    "start_time": "2025-04-27T23:14:19.119Z"
   },
   {
    "duration": 9,
    "start_time": "2025-04-27T23:14:19.490Z"
   },
   {
    "duration": 10,
    "start_time": "2025-04-27T23:14:19.502Z"
   },
   {
    "duration": 8,
    "start_time": "2025-04-27T23:14:19.513Z"
   },
   {
    "duration": 9,
    "start_time": "2025-04-27T23:14:19.523Z"
   },
   {
    "duration": 8,
    "start_time": "2025-04-27T23:14:19.533Z"
   },
   {
    "duration": 9,
    "start_time": "2025-04-27T23:14:19.543Z"
   },
   {
    "duration": 12,
    "start_time": "2025-04-27T23:14:19.554Z"
   },
   {
    "duration": 12,
    "start_time": "2025-04-27T23:14:19.608Z"
   },
   {
    "duration": 4,
    "start_time": "2025-04-27T23:14:19.622Z"
   },
   {
    "duration": 16,
    "start_time": "2025-04-27T23:14:19.628Z"
   },
   {
    "duration": 9,
    "start_time": "2025-04-27T23:14:19.646Z"
   },
   {
    "duration": 52,
    "start_time": "2025-04-27T23:14:19.657Z"
   },
   {
    "duration": 29,
    "start_time": "2025-04-27T23:14:19.711Z"
   },
   {
    "duration": 12,
    "start_time": "2025-04-27T23:14:19.742Z"
   },
   {
    "duration": 8,
    "start_time": "2025-04-27T23:14:19.757Z"
   },
   {
    "duration": 45,
    "start_time": "2025-04-27T23:14:19.769Z"
   },
   {
    "duration": 15,
    "start_time": "2025-04-27T23:14:19.816Z"
   },
   {
    "duration": 15,
    "start_time": "2025-04-27T23:14:19.833Z"
   },
   {
    "duration": 6,
    "start_time": "2025-04-27T23:14:19.849Z"
   },
   {
    "duration": 20,
    "start_time": "2025-04-27T23:14:19.857Z"
   },
   {
    "duration": 51,
    "start_time": "2025-04-27T23:14:19.879Z"
   },
   {
    "duration": 7,
    "start_time": "2025-04-27T23:14:19.932Z"
   },
   {
    "duration": 6,
    "start_time": "2025-04-27T23:14:19.941Z"
   },
   {
    "duration": 7,
    "start_time": "2025-04-27T23:14:19.948Z"
   },
   {
    "duration": 54,
    "start_time": "2025-04-27T23:14:19.956Z"
   },
   {
    "duration": 25,
    "start_time": "2025-04-27T23:14:20.014Z"
   },
   {
    "duration": 6,
    "start_time": "2025-04-27T23:14:20.040Z"
   },
   {
    "duration": 20,
    "start_time": "2025-04-27T23:14:20.048Z"
   },
   {
    "duration": 7,
    "start_time": "2025-04-27T23:14:20.070Z"
   },
   {
    "duration": 24,
    "start_time": "2025-04-27T23:14:20.108Z"
   },
   {
    "duration": 2,
    "start_time": "2025-04-27T23:24:24.275Z"
   },
   {
    "duration": 181,
    "start_time": "2025-04-27T23:24:24.279Z"
   },
   {
    "duration": 9,
    "start_time": "2025-04-27T23:24:24.462Z"
   },
   {
    "duration": 7,
    "start_time": "2025-04-27T23:24:24.473Z"
   },
   {
    "duration": 8,
    "start_time": "2025-04-27T23:24:24.481Z"
   },
   {
    "duration": 24,
    "start_time": "2025-04-27T23:24:24.491Z"
   },
   {
    "duration": 8,
    "start_time": "2025-04-27T23:24:24.516Z"
   },
   {
    "duration": 9,
    "start_time": "2025-04-27T23:24:24.526Z"
   },
   {
    "duration": 11,
    "start_time": "2025-04-27T23:24:24.537Z"
   },
   {
    "duration": 10,
    "start_time": "2025-04-27T23:24:24.550Z"
   },
   {
    "duration": 4,
    "start_time": "2025-04-27T23:24:24.562Z"
   },
   {
    "duration": 48,
    "start_time": "2025-04-27T23:24:24.568Z"
   },
   {
    "duration": 7,
    "start_time": "2025-04-27T23:24:24.617Z"
   },
   {
    "duration": 26,
    "start_time": "2025-04-27T23:24:24.625Z"
   },
   {
    "duration": 27,
    "start_time": "2025-04-27T23:24:24.653Z"
   },
   {
    "duration": 37,
    "start_time": "2025-04-27T23:24:24.682Z"
   },
   {
    "duration": 7,
    "start_time": "2025-04-27T23:24:24.721Z"
   },
   {
    "duration": 17,
    "start_time": "2025-04-27T23:24:24.730Z"
   },
   {
    "duration": 16,
    "start_time": "2025-04-27T23:24:24.748Z"
   },
   {
    "duration": 49,
    "start_time": "2025-04-27T23:24:24.765Z"
   },
   {
    "duration": 7,
    "start_time": "2025-04-27T23:24:24.816Z"
   },
   {
    "duration": 20,
    "start_time": "2025-04-27T23:24:24.825Z"
   },
   {
    "duration": 20,
    "start_time": "2025-04-27T23:24:24.847Z"
   },
   {
    "duration": 8,
    "start_time": "2025-04-27T23:24:24.870Z"
   },
   {
    "duration": 34,
    "start_time": "2025-04-27T23:24:24.880Z"
   },
   {
    "duration": 8,
    "start_time": "2025-04-27T23:24:24.915Z"
   },
   {
    "duration": 25,
    "start_time": "2025-04-27T23:24:24.925Z"
   },
   {
    "duration": 24,
    "start_time": "2025-04-27T23:24:24.951Z"
   },
   {
    "duration": 5,
    "start_time": "2025-04-27T23:24:24.977Z"
   },
   {
    "duration": 20,
    "start_time": "2025-04-27T23:24:25.009Z"
   },
   {
    "duration": 7,
    "start_time": "2025-04-27T23:24:25.030Z"
   },
   {
    "duration": 79,
    "start_time": "2025-04-27T23:24:25.039Z"
   },
   {
    "duration": 13,
    "start_time": "2025-04-27T23:27:24.627Z"
   },
   {
    "duration": 9,
    "start_time": "2025-04-27T23:30:13.568Z"
   },
   {
    "duration": 14,
    "start_time": "2025-04-27T23:31:07.545Z"
   },
   {
    "duration": 10,
    "start_time": "2025-04-27T23:31:20.078Z"
   },
   {
    "duration": 10,
    "start_time": "2025-04-27T23:31:32.457Z"
   },
   {
    "duration": 11,
    "start_time": "2025-04-27T23:32:04.595Z"
   },
   {
    "duration": 10,
    "start_time": "2025-04-27T23:33:24.227Z"
   },
   {
    "duration": 9,
    "start_time": "2025-04-27T23:33:50.738Z"
   },
   {
    "duration": 10,
    "start_time": "2025-04-27T23:34:56.169Z"
   },
   {
    "duration": 12,
    "start_time": "2025-04-27T23:36:44.146Z"
   },
   {
    "duration": 2,
    "start_time": "2025-04-27T23:37:15.333Z"
   },
   {
    "duration": 214,
    "start_time": "2025-04-27T23:37:27.763Z"
   },
   {
    "duration": 8,
    "start_time": "2025-04-27T23:37:33.124Z"
   },
   {
    "duration": 8,
    "start_time": "2025-04-27T23:41:00.767Z"
   },
   {
    "duration": 5,
    "start_time": "2025-04-27T23:41:53.419Z"
   },
   {
    "duration": 426,
    "start_time": "2025-04-27T23:42:26.325Z"
   },
   {
    "duration": 6,
    "start_time": "2025-04-27T23:42:51.998Z"
   },
   {
    "duration": 192,
    "start_time": "2025-04-27T23:43:50.031Z"
   },
   {
    "duration": 6,
    "start_time": "2025-04-27T23:44:32.253Z"
   },
   {
    "duration": 11,
    "start_time": "2025-04-27T23:45:44.248Z"
   },
   {
    "duration": 20,
    "start_time": "2025-04-27T23:48:30.697Z"
   },
   {
    "duration": 28,
    "start_time": "2025-04-27T23:48:38.806Z"
   },
   {
    "duration": 8,
    "start_time": "2025-04-27T23:49:20.225Z"
   },
   {
    "duration": 12,
    "start_time": "2025-04-27T23:49:39.656Z"
   },
   {
    "duration": 10,
    "start_time": "2025-04-27T23:55:37.000Z"
   },
   {
    "duration": 23,
    "start_time": "2025-04-27T23:55:50.552Z"
   },
   {
    "duration": 3,
    "start_time": "2025-04-27T23:56:04.692Z"
   },
   {
    "duration": 218,
    "start_time": "2025-04-27T23:56:04.696Z"
   },
   {
    "duration": 10,
    "start_time": "2025-04-27T23:56:04.916Z"
   },
   {
    "duration": 8,
    "start_time": "2025-04-27T23:56:04.927Z"
   },
   {
    "duration": 8,
    "start_time": "2025-04-27T23:56:04.937Z"
   },
   {
    "duration": 8,
    "start_time": "2025-04-27T23:56:04.946Z"
   },
   {
    "duration": 8,
    "start_time": "2025-04-27T23:56:04.956Z"
   },
   {
    "duration": 8,
    "start_time": "2025-04-27T23:56:04.966Z"
   },
   {
    "duration": 45,
    "start_time": "2025-04-27T23:56:04.976Z"
   },
   {
    "duration": 10,
    "start_time": "2025-04-27T23:56:05.023Z"
   },
   {
    "duration": 4,
    "start_time": "2025-04-27T23:56:05.035Z"
   },
   {
    "duration": 15,
    "start_time": "2025-04-27T23:56:05.040Z"
   },
   {
    "duration": 6,
    "start_time": "2025-04-27T23:56:05.058Z"
   },
   {
    "duration": 58,
    "start_time": "2025-04-27T23:56:05.066Z"
   },
   {
    "duration": 27,
    "start_time": "2025-04-27T23:56:05.126Z"
   },
   {
    "duration": 11,
    "start_time": "2025-04-27T23:56:05.155Z"
   },
   {
    "duration": 8,
    "start_time": "2025-04-27T23:56:05.167Z"
   },
   {
    "duration": 42,
    "start_time": "2025-04-27T23:56:05.176Z"
   },
   {
    "duration": 14,
    "start_time": "2025-04-27T23:56:05.220Z"
   },
   {
    "duration": 14,
    "start_time": "2025-04-27T23:56:05.236Z"
   },
   {
    "duration": 8,
    "start_time": "2025-04-27T23:56:05.251Z"
   },
   {
    "duration": 21,
    "start_time": "2025-04-27T23:56:05.261Z"
   },
   {
    "duration": 23,
    "start_time": "2025-04-27T23:56:05.308Z"
   },
   {
    "duration": 7,
    "start_time": "2025-04-27T23:56:05.333Z"
   },
   {
    "duration": 7,
    "start_time": "2025-04-27T23:56:05.342Z"
   },
   {
    "duration": 7,
    "start_time": "2025-04-27T23:56:05.350Z"
   },
   {
    "duration": 57,
    "start_time": "2025-04-27T23:56:05.359Z"
   },
   {
    "duration": 24,
    "start_time": "2025-04-27T23:56:05.417Z"
   },
   {
    "duration": 6,
    "start_time": "2025-04-27T23:56:05.442Z"
   },
   {
    "duration": 109,
    "start_time": "2025-04-27T23:56:05.450Z"
   },
   {
    "duration": 7,
    "start_time": "2025-04-27T23:56:05.562Z"
   },
   {
    "duration": 39,
    "start_time": "2025-04-27T23:56:05.570Z"
   },
   {
    "duration": 9,
    "start_time": "2025-04-27T23:56:05.612Z"
   },
   {
    "duration": 8,
    "start_time": "2025-04-27T23:56:05.623Z"
   },
   {
    "duration": 10,
    "start_time": "2025-04-27T23:56:05.632Z"
   },
   {
    "duration": 27,
    "start_time": "2025-04-27T23:56:08.168Z"
   },
   {
    "duration": 20,
    "start_time": "2025-04-27T23:56:14.785Z"
   },
   {
    "duration": 3,
    "start_time": "2025-04-27T23:57:42.287Z"
   },
   {
    "duration": 21,
    "start_time": "2025-04-28T00:00:36.702Z"
   },
   {
    "duration": 4,
    "start_time": "2025-04-28T00:12:45.377Z"
   },
   {
    "duration": 3,
    "start_time": "2025-04-28T00:12:47.115Z"
   },
   {
    "duration": 3,
    "start_time": "2025-04-28T00:12:54.865Z"
   },
   {
    "duration": 4,
    "start_time": "2025-04-28T00:13:43.547Z"
   },
   {
    "duration": 5,
    "start_time": "2025-04-28T00:13:47.687Z"
   },
   {
    "duration": 11,
    "start_time": "2025-04-28T00:13:51.005Z"
   },
   {
    "duration": 14,
    "start_time": "2025-04-28T00:26:28.034Z"
   },
   {
    "duration": 14,
    "start_time": "2025-04-28T00:26:57.614Z"
   },
   {
    "duration": 230,
    "start_time": "2025-04-28T00:27:14.952Z"
   },
   {
    "duration": 289,
    "start_time": "2025-04-28T00:27:36.487Z"
   },
   {
    "duration": 245,
    "start_time": "2025-04-28T00:28:02.278Z"
   },
   {
    "duration": 227,
    "start_time": "2025-04-28T00:28:32.690Z"
   },
   {
    "duration": 6,
    "start_time": "2025-04-28T00:29:27.986Z"
   },
   {
    "duration": 15,
    "start_time": "2025-04-28T00:31:30.117Z"
   },
   {
    "duration": 264,
    "start_time": "2025-04-28T00:31:40.655Z"
   },
   {
    "duration": 259,
    "start_time": "2025-04-28T00:31:56.573Z"
   },
   {
    "duration": 246,
    "start_time": "2025-04-28T00:32:13.408Z"
   },
   {
    "duration": 6,
    "start_time": "2025-04-28T00:33:22.055Z"
   },
   {
    "duration": 7,
    "start_time": "2025-04-28T00:34:09.408Z"
   },
   {
    "duration": 215,
    "start_time": "2025-04-28T00:34:19.826Z"
   },
   {
    "duration": 235,
    "start_time": "2025-04-28T00:34:23.913Z"
   },
   {
    "duration": 248,
    "start_time": "2025-04-28T00:37:13.895Z"
   },
   {
    "duration": 12,
    "start_time": "2025-04-28T00:38:43.986Z"
   },
   {
    "duration": 224,
    "start_time": "2025-04-28T00:39:16.619Z"
   },
   {
    "duration": 257,
    "start_time": "2025-04-28T00:40:24.612Z"
   },
   {
    "duration": 224,
    "start_time": "2025-04-28T00:40:43.549Z"
   },
   {
    "duration": 247,
    "start_time": "2025-04-28T00:40:54.865Z"
   },
   {
    "duration": 3,
    "start_time": "2025-04-28T00:42:01.512Z"
   },
   {
    "duration": 7,
    "start_time": "2025-04-28T00:42:15.629Z"
   },
   {
    "duration": 215,
    "start_time": "2025-04-28T00:45:07.274Z"
   },
   {
    "duration": 324,
    "start_time": "2025-04-28T00:45:13.888Z"
   },
   {
    "duration": 222,
    "start_time": "2025-04-28T00:45:21.414Z"
   },
   {
    "duration": 3,
    "start_time": "2025-04-28T00:47:02.631Z"
   },
   {
    "duration": 333,
    "start_time": "2025-04-28T00:57:17.377Z"
   },
   {
    "duration": 2,
    "start_time": "2025-04-28T00:57:35.385Z"
   },
   {
    "duration": 160,
    "start_time": "2025-04-28T00:57:35.389Z"
   },
   {
    "duration": 9,
    "start_time": "2025-04-28T00:57:35.552Z"
   },
   {
    "duration": 7,
    "start_time": "2025-04-28T00:57:35.563Z"
   },
   {
    "duration": 9,
    "start_time": "2025-04-28T00:57:35.573Z"
   },
   {
    "duration": 28,
    "start_time": "2025-04-28T00:57:35.583Z"
   },
   {
    "duration": 8,
    "start_time": "2025-04-28T00:57:35.613Z"
   },
   {
    "duration": 9,
    "start_time": "2025-04-28T00:57:35.623Z"
   },
   {
    "duration": 12,
    "start_time": "2025-04-28T00:57:35.633Z"
   },
   {
    "duration": 10,
    "start_time": "2025-04-28T00:57:35.646Z"
   },
   {
    "duration": 5,
    "start_time": "2025-04-28T00:57:35.658Z"
   },
   {
    "duration": 53,
    "start_time": "2025-04-28T00:57:35.665Z"
   },
   {
    "duration": 8,
    "start_time": "2025-04-28T00:57:35.722Z"
   },
   {
    "duration": 25,
    "start_time": "2025-04-28T00:57:35.732Z"
   },
   {
    "duration": 28,
    "start_time": "2025-04-28T00:57:35.759Z"
   },
   {
    "duration": 33,
    "start_time": "2025-04-28T00:57:35.789Z"
   },
   {
    "duration": 8,
    "start_time": "2025-04-28T00:57:35.824Z"
   },
   {
    "duration": 18,
    "start_time": "2025-04-28T00:57:35.834Z"
   },
   {
    "duration": 15,
    "start_time": "2025-04-28T00:57:35.854Z"
   },
   {
    "duration": 43,
    "start_time": "2025-04-28T00:57:35.870Z"
   },
   {
    "duration": 7,
    "start_time": "2025-04-28T00:57:35.915Z"
   },
   {
    "duration": 20,
    "start_time": "2025-04-28T00:57:35.924Z"
   },
   {
    "duration": 22,
    "start_time": "2025-04-28T00:57:35.946Z"
   },
   {
    "duration": 7,
    "start_time": "2025-04-28T00:57:35.970Z"
   },
   {
    "duration": 31,
    "start_time": "2025-04-28T00:57:35.979Z"
   },
   {
    "duration": 7,
    "start_time": "2025-04-28T00:57:36.015Z"
   },
   {
    "duration": 28,
    "start_time": "2025-04-28T00:57:36.024Z"
   },
   {
    "duration": 24,
    "start_time": "2025-04-28T00:57:36.054Z"
   },
   {
    "duration": 8,
    "start_time": "2025-04-28T00:57:36.108Z"
   },
   {
    "duration": 20,
    "start_time": "2025-04-28T00:57:36.117Z"
   },
   {
    "duration": 7,
    "start_time": "2025-04-28T00:57:36.138Z"
   },
   {
    "duration": 22,
    "start_time": "2025-04-28T00:57:36.146Z"
   },
   {
    "duration": 8,
    "start_time": "2025-04-28T00:57:36.170Z"
   },
   {
    "duration": 38,
    "start_time": "2025-04-28T00:57:36.180Z"
   },
   {
    "duration": 10,
    "start_time": "2025-04-28T00:57:36.219Z"
   },
   {
    "duration": 18,
    "start_time": "2025-04-28T00:57:36.231Z"
   },
   {
    "duration": 271,
    "start_time": "2025-04-28T00:57:36.253Z"
   },
   {
    "duration": 230,
    "start_time": "2025-04-28T00:57:36.526Z"
   },
   {
    "duration": 278,
    "start_time": "2025-04-28T00:57:36.758Z"
   },
   {
    "duration": 5,
    "start_time": "2025-04-28T00:57:37.038Z"
   },
   {
    "duration": 120,
    "start_time": "2025-04-28T00:57:39.149Z"
   },
   {
    "duration": 223,
    "start_time": "2025-04-28T00:58:38.290Z"
   },
   {
    "duration": 8,
    "start_time": "2025-04-28T00:59:12.838Z"
   },
   {
    "duration": 5,
    "start_time": "2025-04-28T01:04:36.224Z"
   },
   {
    "duration": 5,
    "start_time": "2025-04-28T01:05:09.267Z"
   },
   {
    "duration": 14,
    "start_time": "2025-04-28T01:06:06.209Z"
   },
   {
    "duration": 15,
    "start_time": "2025-04-28T01:06:59.337Z"
   },
   {
    "duration": 12,
    "start_time": "2025-04-28T01:09:27.486Z"
   },
   {
    "duration": 12,
    "start_time": "2025-04-28T01:09:53.552Z"
   },
   {
    "duration": 15,
    "start_time": "2025-04-28T01:10:31.284Z"
   },
   {
    "duration": 8,
    "start_time": "2025-04-28T01:10:52.580Z"
   },
   {
    "duration": 8,
    "start_time": "2025-04-28T01:11:30.019Z"
   },
   {
    "duration": 14,
    "start_time": "2025-04-28T01:12:11.145Z"
   },
   {
    "duration": 15,
    "start_time": "2025-04-28T01:12:18.282Z"
   },
   {
    "duration": 10,
    "start_time": "2025-04-28T01:12:59.766Z"
   },
   {
    "duration": 12,
    "start_time": "2025-04-28T01:13:31.182Z"
   },
   {
    "duration": 18,
    "start_time": "2025-04-28T01:16:37.539Z"
   },
   {
    "duration": 17,
    "start_time": "2025-04-28T01:17:23.818Z"
   },
   {
    "duration": 162,
    "start_time": "2025-04-28T01:20:13.095Z"
   },
   {
    "duration": 42,
    "start_time": "2025-04-28T01:20:23.392Z"
   },
   {
    "duration": 40,
    "start_time": "2025-04-28T01:20:51.279Z"
   },
   {
    "duration": 122,
    "start_time": "2025-04-28T01:21:00.003Z"
   },
   {
    "duration": 242,
    "start_time": "2025-04-28T01:21:23.470Z"
   },
   {
    "duration": 4,
    "start_time": "2025-04-28T01:21:30.446Z"
   },
   {
    "duration": 3,
    "start_time": "2025-04-28T01:21:34.842Z"
   },
   {
    "duration": 138,
    "start_time": "2025-04-28T01:24:35.526Z"
   },
   {
    "duration": 142,
    "start_time": "2025-04-28T01:25:02.024Z"
   },
   {
    "duration": 134,
    "start_time": "2025-04-28T01:27:26.326Z"
   },
   {
    "duration": 133,
    "start_time": "2025-04-28T01:34:22.520Z"
   },
   {
    "duration": 135,
    "start_time": "2025-04-28T01:35:11.184Z"
   },
   {
    "duration": 123,
    "start_time": "2025-04-28T01:35:18.213Z"
   },
   {
    "duration": 82,
    "start_time": "2025-04-28T01:35:29.867Z"
   },
   {
    "duration": 343,
    "start_time": "2025-04-28T01:35:44.739Z"
   },
   {
    "duration": 82,
    "start_time": "2025-04-28T01:35:51.990Z"
   },
   {
    "duration": 2446,
    "start_time": "2025-04-28T16:06:30.168Z"
   },
   {
    "duration": 224,
    "start_time": "2025-04-28T16:06:32.616Z"
   },
   {
    "duration": 8,
    "start_time": "2025-04-28T16:06:32.842Z"
   },
   {
    "duration": 10,
    "start_time": "2025-04-28T16:06:32.853Z"
   },
   {
    "duration": 8,
    "start_time": "2025-04-28T16:06:32.864Z"
   },
   {
    "duration": 9,
    "start_time": "2025-04-28T16:06:32.874Z"
   },
   {
    "duration": 32,
    "start_time": "2025-04-28T16:06:32.885Z"
   },
   {
    "duration": 8,
    "start_time": "2025-04-28T16:06:32.918Z"
   },
   {
    "duration": 12,
    "start_time": "2025-04-28T16:06:32.927Z"
   },
   {
    "duration": 10,
    "start_time": "2025-04-28T16:06:32.942Z"
   },
   {
    "duration": 5,
    "start_time": "2025-04-28T16:06:32.953Z"
   },
   {
    "duration": 13,
    "start_time": "2025-04-28T16:06:32.960Z"
   },
   {
    "duration": 41,
    "start_time": "2025-04-28T16:06:32.975Z"
   },
   {
    "duration": 25,
    "start_time": "2025-04-28T16:06:33.019Z"
   },
   {
    "duration": 28,
    "start_time": "2025-04-28T16:06:33.046Z"
   },
   {
    "duration": 12,
    "start_time": "2025-04-28T16:06:33.076Z"
   },
   {
    "duration": 7,
    "start_time": "2025-04-28T16:06:33.111Z"
   },
   {
    "duration": 18,
    "start_time": "2025-04-28T16:06:33.120Z"
   },
   {
    "duration": 15,
    "start_time": "2025-04-28T16:06:33.139Z"
   },
   {
    "duration": 14,
    "start_time": "2025-04-28T16:06:33.155Z"
   },
   {
    "duration": 6,
    "start_time": "2025-04-28T16:06:33.171Z"
   },
   {
    "duration": 51,
    "start_time": "2025-04-28T16:06:33.179Z"
   },
   {
    "duration": 21,
    "start_time": "2025-04-28T16:06:33.231Z"
   },
   {
    "duration": 7,
    "start_time": "2025-04-28T16:06:33.253Z"
   },
   {
    "duration": 8,
    "start_time": "2025-04-28T16:06:33.262Z"
   },
   {
    "duration": 7,
    "start_time": "2025-04-28T16:06:33.272Z"
   },
   {
    "duration": 56,
    "start_time": "2025-04-28T16:06:33.281Z"
   },
   {
    "duration": 24,
    "start_time": "2025-04-28T16:06:33.342Z"
   },
   {
    "duration": 6,
    "start_time": "2025-04-28T16:06:33.368Z"
   },
   {
    "duration": 39,
    "start_time": "2025-04-28T16:06:33.375Z"
   },
   {
    "duration": 7,
    "start_time": "2025-04-28T16:06:33.415Z"
   },
   {
    "duration": 22,
    "start_time": "2025-04-28T16:06:33.424Z"
   },
   {
    "duration": 9,
    "start_time": "2025-04-28T16:06:33.448Z"
   },
   {
    "duration": 8,
    "start_time": "2025-04-28T16:06:33.458Z"
   },
   {
    "duration": 43,
    "start_time": "2025-04-28T16:06:33.468Z"
   },
   {
    "duration": 18,
    "start_time": "2025-04-28T16:06:33.513Z"
   },
   {
    "duration": 246,
    "start_time": "2025-04-28T16:06:33.533Z"
   },
   {
    "duration": 257,
    "start_time": "2025-04-28T16:06:33.781Z"
   },
   {
    "duration": 255,
    "start_time": "2025-04-28T16:06:34.040Z"
   },
   {
    "duration": 16,
    "start_time": "2025-04-28T16:06:34.298Z"
   },
   {
    "duration": 1602,
    "start_time": "2025-04-28T16:06:35.537Z"
   },
   {
    "duration": 1509,
    "start_time": "2025-04-28T16:06:59.310Z"
   },
   {
    "duration": 1581,
    "start_time": "2025-04-28T16:07:13.215Z"
   },
   {
    "duration": 1509,
    "start_time": "2025-04-28T16:07:46.000Z"
   },
   {
    "duration": 130,
    "start_time": "2025-04-28T16:08:08.215Z"
   },
   {
    "duration": 163,
    "start_time": "2025-04-28T23:12:11.118Z"
   },
   {
    "duration": 2512,
    "start_time": "2025-04-28T23:12:17.996Z"
   },
   {
    "duration": 213,
    "start_time": "2025-04-28T23:12:20.510Z"
   },
   {
    "duration": 10,
    "start_time": "2025-04-28T23:12:20.725Z"
   },
   {
    "duration": 10,
    "start_time": "2025-04-28T23:12:20.738Z"
   },
   {
    "duration": 8,
    "start_time": "2025-04-28T23:12:20.749Z"
   },
   {
    "duration": 10,
    "start_time": "2025-04-28T23:12:20.758Z"
   },
   {
    "duration": 8,
    "start_time": "2025-04-28T23:12:20.770Z"
   },
   {
    "duration": 45,
    "start_time": "2025-04-28T23:12:20.779Z"
   },
   {
    "duration": 12,
    "start_time": "2025-04-28T23:12:20.826Z"
   },
   {
    "duration": 10,
    "start_time": "2025-04-28T23:12:20.842Z"
   },
   {
    "duration": 4,
    "start_time": "2025-04-28T23:12:20.854Z"
   },
   {
    "duration": 14,
    "start_time": "2025-04-28T23:12:20.860Z"
   },
   {
    "duration": 8,
    "start_time": "2025-04-28T23:12:20.875Z"
   },
   {
    "duration": 57,
    "start_time": "2025-04-28T23:12:20.885Z"
   },
   {
    "duration": 29,
    "start_time": "2025-04-28T23:12:20.943Z"
   },
   {
    "duration": 11,
    "start_time": "2025-04-28T23:12:20.975Z"
   },
   {
    "duration": 8,
    "start_time": "2025-04-28T23:12:20.988Z"
   },
   {
    "duration": 38,
    "start_time": "2025-04-28T23:12:20.998Z"
   },
   {
    "duration": 13,
    "start_time": "2025-04-28T23:12:21.037Z"
   },
   {
    "duration": 12,
    "start_time": "2025-04-28T23:12:21.053Z"
   },
   {
    "duration": 5,
    "start_time": "2025-04-28T23:12:21.067Z"
   },
   {
    "duration": 19,
    "start_time": "2025-04-28T23:12:21.074Z"
   },
   {
    "duration": 45,
    "start_time": "2025-04-28T23:12:21.095Z"
   },
   {
    "duration": 7,
    "start_time": "2025-04-28T23:12:21.142Z"
   },
   {
    "duration": 6,
    "start_time": "2025-04-28T23:12:21.151Z"
   },
   {
    "duration": 7,
    "start_time": "2025-04-28T23:12:21.158Z"
   },
   {
    "duration": 63,
    "start_time": "2025-04-28T23:12:21.167Z"
   },
   {
    "duration": 25,
    "start_time": "2025-04-28T23:12:21.234Z"
   },
   {
    "duration": 6,
    "start_time": "2025-04-28T23:12:21.260Z"
   },
   {
    "duration": 19,
    "start_time": "2025-04-28T23:12:21.268Z"
   },
   {
    "duration": 36,
    "start_time": "2025-04-28T23:12:21.288Z"
   },
   {
    "duration": 23,
    "start_time": "2025-04-28T23:12:21.326Z"
   },
   {
    "duration": 11,
    "start_time": "2025-04-28T23:12:21.350Z"
   },
   {
    "duration": 9,
    "start_time": "2025-04-28T23:12:21.362Z"
   },
   {
    "duration": 10,
    "start_time": "2025-04-28T23:12:21.373Z"
   },
   {
    "duration": 46,
    "start_time": "2025-04-28T23:12:21.385Z"
   },
   {
    "duration": 238,
    "start_time": "2025-04-28T23:12:21.432Z"
   },
   {
    "duration": 268,
    "start_time": "2025-04-28T23:12:21.672Z"
   },
   {
    "duration": 248,
    "start_time": "2025-04-28T23:12:21.943Z"
   },
   {
    "duration": 4,
    "start_time": "2025-04-28T23:12:22.194Z"
   },
   {
    "duration": 496,
    "start_time": "2025-04-28T23:12:22.200Z"
   },
   {
    "duration": 3416,
    "start_time": "2025-04-28T23:12:49.555Z"
   },
   {
    "duration": 821,
    "start_time": "2025-04-28T23:13:06.984Z"
   },
   {
    "duration": 187,
    "start_time": "2025-04-28T23:13:12.702Z"
   },
   {
    "duration": 3390,
    "start_time": "2025-04-28T23:14:44.709Z"
   },
   {
    "duration": 3190,
    "start_time": "2025-04-28T23:15:42.962Z"
   },
   {
    "duration": 3443,
    "start_time": "2025-04-28T23:15:58.989Z"
   },
   {
    "duration": 42,
    "start_time": "2025-04-28T23:16:21.017Z"
   },
   {
    "duration": 230,
    "start_time": "2025-04-28T23:16:47.023Z"
   },
   {
    "duration": 57,
    "start_time": "2025-04-28T23:18:19.839Z"
   },
   {
    "duration": 52,
    "start_time": "2025-04-28T23:18:45.015Z"
   },
   {
    "duration": 3,
    "start_time": "2025-04-28T23:18:51.593Z"
   },
   {
    "duration": 153,
    "start_time": "2025-04-28T23:18:51.598Z"
   },
   {
    "duration": 9,
    "start_time": "2025-04-28T23:18:51.753Z"
   },
   {
    "duration": 7,
    "start_time": "2025-04-28T23:18:51.763Z"
   },
   {
    "duration": 7,
    "start_time": "2025-04-28T23:18:51.773Z"
   },
   {
    "duration": 7,
    "start_time": "2025-04-28T23:18:51.782Z"
   },
   {
    "duration": 33,
    "start_time": "2025-04-28T23:18:51.791Z"
   },
   {
    "duration": 8,
    "start_time": "2025-04-28T23:18:51.825Z"
   },
   {
    "duration": 12,
    "start_time": "2025-04-28T23:18:51.835Z"
   },
   {
    "duration": 10,
    "start_time": "2025-04-28T23:18:51.848Z"
   },
   {
    "duration": 4,
    "start_time": "2025-04-28T23:18:51.860Z"
   },
   {
    "duration": 20,
    "start_time": "2025-04-28T23:18:51.866Z"
   },
   {
    "duration": 38,
    "start_time": "2025-04-28T23:18:51.888Z"
   },
   {
    "duration": 27,
    "start_time": "2025-04-28T23:18:51.931Z"
   },
   {
    "duration": 32,
    "start_time": "2025-04-28T23:18:51.961Z"
   },
   {
    "duration": 32,
    "start_time": "2025-04-28T23:18:51.995Z"
   },
   {
    "duration": 8,
    "start_time": "2025-04-28T23:18:52.029Z"
   },
   {
    "duration": 16,
    "start_time": "2025-04-28T23:18:52.038Z"
   },
   {
    "duration": 13,
    "start_time": "2025-04-28T23:18:52.056Z"
   },
   {
    "duration": 14,
    "start_time": "2025-04-28T23:18:52.070Z"
   },
   {
    "duration": 7,
    "start_time": "2025-04-28T23:18:52.085Z"
   },
   {
    "duration": 21,
    "start_time": "2025-04-28T23:18:52.124Z"
   },
   {
    "duration": 20,
    "start_time": "2025-04-28T23:18:52.147Z"
   },
   {
    "duration": 7,
    "start_time": "2025-04-28T23:18:52.169Z"
   },
   {
    "duration": 7,
    "start_time": "2025-04-28T23:18:52.178Z"
   },
   {
    "duration": 38,
    "start_time": "2025-04-28T23:18:52.186Z"
   },
   {
    "duration": 25,
    "start_time": "2025-04-28T23:18:52.226Z"
   },
   {
    "duration": 173,
    "start_time": "2025-04-28T23:18:52.252Z"
   },
   {
    "duration": 7,
    "start_time": "2025-04-28T23:18:52.427Z"
   },
   {
    "duration": 20,
    "start_time": "2025-04-28T23:18:52.435Z"
   },
   {
    "duration": 6,
    "start_time": "2025-04-28T23:18:52.457Z"
   },
   {
    "duration": 21,
    "start_time": "2025-04-28T23:18:52.465Z"
   },
   {
    "duration": 39,
    "start_time": "2025-04-28T23:18:52.488Z"
   },
   {
    "duration": 9,
    "start_time": "2025-04-28T23:18:52.529Z"
   },
   {
    "duration": 11,
    "start_time": "2025-04-28T23:18:52.540Z"
   },
   {
    "duration": 18,
    "start_time": "2025-04-28T23:18:52.552Z"
   },
   {
    "duration": 266,
    "start_time": "2025-04-28T23:18:52.571Z"
   },
   {
    "duration": 244,
    "start_time": "2025-04-28T23:18:52.839Z"
   },
   {
    "duration": 268,
    "start_time": "2025-04-28T23:18:53.085Z"
   },
   {
    "duration": 5,
    "start_time": "2025-04-28T23:18:53.355Z"
   },
   {
    "duration": 52,
    "start_time": "2025-04-28T23:18:54.794Z"
   },
   {
    "duration": 56,
    "start_time": "2025-04-28T23:21:31.829Z"
   },
   {
    "duration": 18,
    "start_time": "2025-04-28T23:21:41.571Z"
   },
   {
    "duration": 20,
    "start_time": "2025-04-28T23:21:43.212Z"
   },
   {
    "duration": 53,
    "start_time": "2025-04-28T23:21:47.911Z"
   },
   {
    "duration": 54,
    "start_time": "2025-04-28T23:22:07.624Z"
   },
   {
    "duration": 237,
    "start_time": "2025-04-28T23:23:53.703Z"
   },
   {
    "duration": 21,
    "start_time": "2025-04-28T23:26:14.053Z"
   },
   {
    "duration": 48,
    "start_time": "2025-04-28T23:26:25.403Z"
   },
   {
    "duration": 54,
    "start_time": "2025-04-28T23:26:41.880Z"
   },
   {
    "duration": 3,
    "start_time": "2025-04-28T23:26:52.077Z"
   },
   {
    "duration": 152,
    "start_time": "2025-04-28T23:26:52.082Z"
   },
   {
    "duration": 8,
    "start_time": "2025-04-28T23:26:52.236Z"
   },
   {
    "duration": 7,
    "start_time": "2025-04-28T23:26:52.246Z"
   },
   {
    "duration": 7,
    "start_time": "2025-04-28T23:26:52.255Z"
   },
   {
    "duration": 7,
    "start_time": "2025-04-28T23:26:52.264Z"
   },
   {
    "duration": 9,
    "start_time": "2025-04-28T23:26:52.273Z"
   },
   {
    "duration": 8,
    "start_time": "2025-04-28T23:26:52.283Z"
   },
   {
    "duration": 12,
    "start_time": "2025-04-28T23:26:52.324Z"
   },
   {
    "duration": 10,
    "start_time": "2025-04-28T23:26:52.340Z"
   },
   {
    "duration": 5,
    "start_time": "2025-04-28T23:26:52.352Z"
   },
   {
    "duration": 15,
    "start_time": "2025-04-28T23:26:52.358Z"
   },
   {
    "duration": 6,
    "start_time": "2025-04-28T23:26:52.375Z"
   },
   {
    "duration": 63,
    "start_time": "2025-04-28T23:26:52.383Z"
   },
   {
    "duration": 31,
    "start_time": "2025-04-28T23:26:52.449Z"
   },
   {
    "duration": 12,
    "start_time": "2025-04-28T23:26:52.482Z"
   },
   {
    "duration": 7,
    "start_time": "2025-04-28T23:26:52.496Z"
   },
   {
    "duration": 34,
    "start_time": "2025-04-28T23:26:52.504Z"
   },
   {
    "duration": 13,
    "start_time": "2025-04-28T23:26:52.540Z"
   },
   {
    "duration": 13,
    "start_time": "2025-04-28T23:26:52.554Z"
   },
   {
    "duration": 7,
    "start_time": "2025-04-28T23:26:52.569Z"
   },
   {
    "duration": 50,
    "start_time": "2025-04-28T23:26:52.578Z"
   },
   {
    "duration": 20,
    "start_time": "2025-04-28T23:26:52.630Z"
   },
   {
    "duration": 7,
    "start_time": "2025-04-28T23:26:52.651Z"
   },
   {
    "duration": 6,
    "start_time": "2025-04-28T23:26:52.660Z"
   },
   {
    "duration": 7,
    "start_time": "2025-04-28T23:26:52.668Z"
   },
   {
    "duration": 55,
    "start_time": "2025-04-28T23:26:52.676Z"
   },
   {
    "duration": 24,
    "start_time": "2025-04-28T23:26:52.735Z"
   },
   {
    "duration": 8,
    "start_time": "2025-04-28T23:26:52.760Z"
   },
   {
    "duration": 20,
    "start_time": "2025-04-28T23:26:52.770Z"
   },
   {
    "duration": 7,
    "start_time": "2025-04-28T23:26:52.792Z"
   },
   {
    "duration": 22,
    "start_time": "2025-04-28T23:26:52.825Z"
   },
   {
    "duration": 9,
    "start_time": "2025-04-28T23:26:52.848Z"
   },
   {
    "duration": 8,
    "start_time": "2025-04-28T23:26:52.861Z"
   },
   {
    "duration": 10,
    "start_time": "2025-04-28T23:26:52.870Z"
   },
   {
    "duration": 45,
    "start_time": "2025-04-28T23:26:52.882Z"
   },
   {
    "duration": 241,
    "start_time": "2025-04-28T23:26:52.929Z"
   },
   {
    "duration": 262,
    "start_time": "2025-04-28T23:26:53.172Z"
   },
   {
    "duration": 261,
    "start_time": "2025-04-28T23:26:53.436Z"
   },
   {
    "duration": 5,
    "start_time": "2025-04-28T23:26:53.699Z"
   },
   {
    "duration": 51,
    "start_time": "2025-04-28T23:26:53.724Z"
   },
   {
    "duration": 0,
    "start_time": "2025-04-28T23:26:53.776Z"
   },
   {
    "duration": 0,
    "start_time": "2025-04-28T23:26:53.778Z"
   },
   {
    "duration": 0,
    "start_time": "2025-04-28T23:26:53.779Z"
   },
   {
    "duration": 0,
    "start_time": "2025-04-28T23:26:53.780Z"
   },
   {
    "duration": 0,
    "start_time": "2025-04-28T23:26:53.781Z"
   },
   {
    "duration": 0,
    "start_time": "2025-04-28T23:26:53.782Z"
   },
   {
    "duration": 0,
    "start_time": "2025-04-28T23:26:53.783Z"
   },
   {
    "duration": 23,
    "start_time": "2025-04-28T23:27:40.292Z"
   },
   {
    "duration": 17,
    "start_time": "2025-04-28T23:31:43.906Z"
   },
   {
    "duration": 3,
    "start_time": "2025-04-28T23:31:55.463Z"
   },
   {
    "duration": 160,
    "start_time": "2025-04-28T23:31:57.193Z"
   },
   {
    "duration": 10,
    "start_time": "2025-04-28T23:31:59.164Z"
   },
   {
    "duration": 8,
    "start_time": "2025-04-28T23:32:05.777Z"
   },
   {
    "duration": 12,
    "start_time": "2025-04-28T23:32:09.589Z"
   },
   {
    "duration": 9,
    "start_time": "2025-04-28T23:32:11.525Z"
   },
   {
    "duration": 9,
    "start_time": "2025-04-28T23:32:13.091Z"
   },
   {
    "duration": 8,
    "start_time": "2025-04-28T23:32:15.628Z"
   },
   {
    "duration": 8,
    "start_time": "2025-04-28T23:32:26.809Z"
   },
   {
    "duration": 7,
    "start_time": "2025-04-28T23:32:30.813Z"
   },
   {
    "duration": 7,
    "start_time": "2025-04-28T23:32:34.371Z"
   },
   {
    "duration": 35,
    "start_time": "2025-04-28T23:32:36.111Z"
   },
   {
    "duration": 18,
    "start_time": "2025-04-28T23:34:10.814Z"
   },
   {
    "duration": 55,
    "start_time": "2025-04-28T23:34:22.132Z"
   },
   {
    "duration": 8,
    "start_time": "2025-04-28T23:35:37.849Z"
   },
   {
    "duration": 4,
    "start_time": "2025-04-28T23:36:07.020Z"
   },
   {
    "duration": 4,
    "start_time": "2025-04-28T23:36:30.864Z"
   },
   {
    "duration": 4,
    "start_time": "2025-04-28T23:37:45.682Z"
   },
   {
    "duration": 6,
    "start_time": "2025-04-28T23:38:15.037Z"
   },
   {
    "duration": 3,
    "start_time": "2025-04-28T23:38:30.049Z"
   },
   {
    "duration": 156,
    "start_time": "2025-04-28T23:38:30.054Z"
   },
   {
    "duration": 7,
    "start_time": "2025-04-28T23:38:30.212Z"
   },
   {
    "duration": 9,
    "start_time": "2025-04-28T23:38:30.224Z"
   },
   {
    "duration": 8,
    "start_time": "2025-04-28T23:38:30.236Z"
   },
   {
    "duration": 8,
    "start_time": "2025-04-28T23:38:30.246Z"
   },
   {
    "duration": 9,
    "start_time": "2025-04-28T23:38:30.255Z"
   },
   {
    "duration": 8,
    "start_time": "2025-04-28T23:38:30.265Z"
   },
   {
    "duration": 11,
    "start_time": "2025-04-28T23:38:30.274Z"
   },
   {
    "duration": 46,
    "start_time": "2025-04-28T23:38:30.287Z"
   },
   {
    "duration": 5,
    "start_time": "2025-04-28T23:38:30.335Z"
   },
   {
    "duration": 17,
    "start_time": "2025-04-28T23:38:30.341Z"
   },
   {
    "duration": 5,
    "start_time": "2025-04-28T23:38:30.361Z"
   },
   {
    "duration": 22,
    "start_time": "2025-04-28T23:38:30.371Z"
   },
   {
    "duration": 52,
    "start_time": "2025-04-28T23:38:30.395Z"
   },
   {
    "duration": 12,
    "start_time": "2025-04-28T23:38:30.449Z"
   },
   {
    "duration": 7,
    "start_time": "2025-04-28T23:38:30.462Z"
   },
   {
    "duration": 16,
    "start_time": "2025-04-28T23:38:30.471Z"
   },
   {
    "duration": 40,
    "start_time": "2025-04-28T23:38:30.489Z"
   },
   {
    "duration": 13,
    "start_time": "2025-04-28T23:38:30.531Z"
   },
   {
    "duration": 6,
    "start_time": "2025-04-28T23:38:30.546Z"
   },
   {
    "duration": 20,
    "start_time": "2025-04-28T23:38:30.554Z"
   },
   {
    "duration": 50,
    "start_time": "2025-04-28T23:38:30.575Z"
   },
   {
    "duration": 7,
    "start_time": "2025-04-28T23:38:30.627Z"
   },
   {
    "duration": 7,
    "start_time": "2025-04-28T23:38:30.635Z"
   },
   {
    "duration": 7,
    "start_time": "2025-04-28T23:38:30.643Z"
   },
   {
    "duration": 24,
    "start_time": "2025-04-28T23:38:30.651Z"
   },
   {
    "duration": 51,
    "start_time": "2025-04-28T23:38:30.677Z"
   },
   {
    "duration": 6,
    "start_time": "2025-04-28T23:38:30.730Z"
   },
   {
    "duration": 19,
    "start_time": "2025-04-28T23:38:30.738Z"
   },
   {
    "duration": 7,
    "start_time": "2025-04-28T23:38:30.758Z"
   },
   {
    "duration": 21,
    "start_time": "2025-04-28T23:38:30.767Z"
   },
   {
    "duration": 35,
    "start_time": "2025-04-28T23:38:30.790Z"
   },
   {
    "duration": 9,
    "start_time": "2025-04-28T23:38:30.827Z"
   },
   {
    "duration": 11,
    "start_time": "2025-04-28T23:38:30.837Z"
   },
   {
    "duration": 17,
    "start_time": "2025-04-28T23:38:30.849Z"
   },
   {
    "duration": 261,
    "start_time": "2025-04-28T23:38:30.868Z"
   },
   {
    "duration": 243,
    "start_time": "2025-04-28T23:38:31.132Z"
   },
   {
    "duration": 274,
    "start_time": "2025-04-28T23:38:31.377Z"
   },
   {
    "duration": 5,
    "start_time": "2025-04-28T23:38:31.653Z"
   },
   {
    "duration": 3,
    "start_time": "2025-04-28T23:38:31.664Z"
   },
   {
    "duration": 0,
    "start_time": "2025-04-28T23:38:31.668Z"
   },
   {
    "duration": 0,
    "start_time": "2025-04-28T23:38:31.669Z"
   },
   {
    "duration": 0,
    "start_time": "2025-04-28T23:38:31.671Z"
   },
   {
    "duration": 0,
    "start_time": "2025-04-28T23:38:31.671Z"
   },
   {
    "duration": 0,
    "start_time": "2025-04-28T23:38:31.673Z"
   },
   {
    "duration": 0,
    "start_time": "2025-04-28T23:38:31.674Z"
   },
   {
    "duration": 0,
    "start_time": "2025-04-28T23:38:31.674Z"
   },
   {
    "duration": 4,
    "start_time": "2025-04-28T23:38:58.326Z"
   },
   {
    "duration": 3,
    "start_time": "2025-04-28T23:39:56.069Z"
   },
   {
    "duration": 6,
    "start_time": "2025-04-28T23:40:16.975Z"
   },
   {
    "duration": 3,
    "start_time": "2025-04-28T23:40:52.075Z"
   },
   {
    "duration": 162,
    "start_time": "2025-04-28T23:40:52.080Z"
   },
   {
    "duration": 9,
    "start_time": "2025-04-28T23:40:52.244Z"
   },
   {
    "duration": 7,
    "start_time": "2025-04-28T23:40:52.256Z"
   },
   {
    "duration": 8,
    "start_time": "2025-04-28T23:40:52.264Z"
   },
   {
    "duration": 7,
    "start_time": "2025-04-28T23:40:52.273Z"
   },
   {
    "duration": 8,
    "start_time": "2025-04-28T23:40:52.282Z"
   },
   {
    "duration": 39,
    "start_time": "2025-04-28T23:40:52.292Z"
   },
   {
    "duration": 11,
    "start_time": "2025-04-28T23:40:52.333Z"
   },
   {
    "duration": 11,
    "start_time": "2025-04-28T23:40:52.347Z"
   },
   {
    "duration": 4,
    "start_time": "2025-04-28T23:40:52.360Z"
   },
   {
    "duration": 14,
    "start_time": "2025-04-28T23:40:52.366Z"
   },
   {
    "duration": 43,
    "start_time": "2025-04-28T23:40:52.381Z"
   },
   {
    "duration": 24,
    "start_time": "2025-04-28T23:40:52.425Z"
   },
   {
    "duration": 26,
    "start_time": "2025-04-28T23:40:52.451Z"
   },
   {
    "duration": 12,
    "start_time": "2025-04-28T23:40:52.479Z"
   },
   {
    "duration": 8,
    "start_time": "2025-04-28T23:40:52.492Z"
   },
   {
    "duration": 18,
    "start_time": "2025-04-28T23:40:52.524Z"
   },
   {
    "duration": 13,
    "start_time": "2025-04-28T23:40:52.544Z"
   },
   {
    "duration": 13,
    "start_time": "2025-04-28T23:40:52.559Z"
   },
   {
    "duration": 7,
    "start_time": "2025-04-28T23:40:52.573Z"
   },
   {
    "duration": 48,
    "start_time": "2025-04-28T23:40:52.582Z"
   },
   {
    "duration": 21,
    "start_time": "2025-04-28T23:40:52.632Z"
   },
   {
    "duration": 8,
    "start_time": "2025-04-28T23:40:52.655Z"
   },
   {
    "duration": 7,
    "start_time": "2025-04-28T23:40:52.664Z"
   },
   {
    "duration": 7,
    "start_time": "2025-04-28T23:40:52.672Z"
   },
   {
    "duration": 54,
    "start_time": "2025-04-28T23:40:52.681Z"
   },
   {
    "duration": 24,
    "start_time": "2025-04-28T23:40:52.739Z"
   },
   {
    "duration": 9,
    "start_time": "2025-04-28T23:40:52.764Z"
   },
   {
    "duration": 22,
    "start_time": "2025-04-28T23:40:52.775Z"
   },
   {
    "duration": 27,
    "start_time": "2025-04-28T23:40:52.799Z"
   },
   {
    "duration": 131,
    "start_time": "2025-04-28T23:40:52.828Z"
   },
   {
    "duration": 9,
    "start_time": "2025-04-28T23:40:52.960Z"
   },
   {
    "duration": 8,
    "start_time": "2025-04-28T23:40:52.971Z"
   },
   {
    "duration": 10,
    "start_time": "2025-04-28T23:40:52.981Z"
   },
   {
    "duration": 42,
    "start_time": "2025-04-28T23:40:52.993Z"
   },
   {
    "duration": 237,
    "start_time": "2025-04-28T23:40:53.037Z"
   },
   {
    "duration": 247,
    "start_time": "2025-04-28T23:40:53.277Z"
   },
   {
    "duration": 257,
    "start_time": "2025-04-28T23:40:53.526Z"
   },
   {
    "duration": 5,
    "start_time": "2025-04-28T23:40:53.785Z"
   },
   {
    "duration": 6,
    "start_time": "2025-04-28T23:40:53.792Z"
   },
   {
    "duration": 4,
    "start_time": "2025-04-28T23:41:17.254Z"
   },
   {
    "duration": 6,
    "start_time": "2025-04-28T23:41:32.840Z"
   },
   {
    "duration": 4,
    "start_time": "2025-04-28T23:41:33.818Z"
   },
   {
    "duration": 5,
    "start_time": "2025-04-28T23:41:34.846Z"
   },
   {
    "duration": 4,
    "start_time": "2025-04-28T23:41:35.497Z"
   },
   {
    "duration": 4,
    "start_time": "2025-04-28T23:41:36.238Z"
   },
   {
    "duration": 4,
    "start_time": "2025-04-28T23:42:21.180Z"
   },
   {
    "duration": 8,
    "start_time": "2025-04-28T23:42:36.273Z"
   },
   {
    "duration": 6,
    "start_time": "2025-04-28T23:43:01.962Z"
   },
   {
    "duration": 7,
    "start_time": "2025-04-28T23:43:17.052Z"
   },
   {
    "duration": 11,
    "start_time": "2025-04-28T23:43:43.034Z"
   },
   {
    "duration": 102,
    "start_time": "2025-04-28T23:48:16.369Z"
   },
   {
    "duration": 25,
    "start_time": "2025-04-28T23:48:32.626Z"
   },
   {
    "duration": 24,
    "start_time": "2025-04-28T23:48:50.965Z"
   },
   {
    "duration": 12,
    "start_time": "2025-04-28T23:49:19.432Z"
   },
   {
    "duration": 11,
    "start_time": "2025-04-28T23:49:35.575Z"
   },
   {
    "duration": 11,
    "start_time": "2025-04-28T23:49:57.546Z"
   },
   {
    "duration": 28,
    "start_time": "2025-04-28T23:51:14.726Z"
   },
   {
    "duration": 23,
    "start_time": "2025-04-28T23:53:33.752Z"
   },
   {
    "duration": 12,
    "start_time": "2025-04-28T23:53:51.656Z"
   },
   {
    "duration": 14,
    "start_time": "2025-04-28T23:53:57.594Z"
   },
   {
    "duration": 5,
    "start_time": "2025-04-28T23:54:14.064Z"
   },
   {
    "duration": 8,
    "start_time": "2025-04-28T23:58:31.587Z"
   },
   {
    "duration": 10,
    "start_time": "2025-04-28T23:58:42.964Z"
   },
   {
    "duration": 4,
    "start_time": "2025-04-28T23:59:33.326Z"
   },
   {
    "duration": 10,
    "start_time": "2025-04-29T00:00:08.974Z"
   },
   {
    "duration": 6,
    "start_time": "2025-04-29T00:00:42.649Z"
   },
   {
    "duration": 26,
    "start_time": "2025-04-29T00:03:01.711Z"
   },
   {
    "duration": 8,
    "start_time": "2025-04-29T00:03:23.650Z"
   },
   {
    "duration": 11,
    "start_time": "2025-04-29T00:04:05.699Z"
   },
   {
    "duration": 12,
    "start_time": "2025-04-29T00:06:00.619Z"
   },
   {
    "duration": 17,
    "start_time": "2025-04-29T00:07:03.639Z"
   },
   {
    "duration": 14,
    "start_time": "2025-04-29T00:07:48.348Z"
   },
   {
    "duration": 43,
    "start_time": "2025-04-29T00:11:17.237Z"
   },
   {
    "duration": 174,
    "start_time": "2025-04-29T00:11:38.204Z"
   },
   {
    "duration": 159,
    "start_time": "2025-04-29T00:11:53.319Z"
   },
   {
    "duration": 222,
    "start_time": "2025-04-29T00:12:04.160Z"
   },
   {
    "duration": 244,
    "start_time": "2025-04-29T00:15:03.062Z"
   },
   {
    "duration": 14,
    "start_time": "2025-04-29T00:15:13.693Z"
   },
   {
    "duration": 241,
    "start_time": "2025-04-29T00:15:59.926Z"
   },
   {
    "duration": 245,
    "start_time": "2025-04-29T00:18:47.392Z"
   },
   {
    "duration": 259,
    "start_time": "2025-04-29T00:19:11.967Z"
   },
   {
    "duration": 255,
    "start_time": "2025-04-29T00:19:33.655Z"
   },
   {
    "duration": 258,
    "start_time": "2025-04-29T00:20:36.195Z"
   },
   {
    "duration": 247,
    "start_time": "2025-04-29T00:22:43.867Z"
   },
   {
    "duration": 243,
    "start_time": "2025-04-29T00:22:58.486Z"
   },
   {
    "duration": 9,
    "start_time": "2025-04-29T00:28:44.124Z"
   },
   {
    "duration": 13,
    "start_time": "2025-04-29T00:29:31.167Z"
   },
   {
    "duration": 7,
    "start_time": "2025-04-29T00:29:35.937Z"
   },
   {
    "duration": 5,
    "start_time": "2025-04-29T00:36:41.325Z"
   },
   {
    "duration": 311,
    "start_time": "2025-04-29T00:36:49.716Z"
   },
   {
    "duration": 40,
    "start_time": "2025-04-29T00:37:51.216Z"
   },
   {
    "duration": 451,
    "start_time": "2025-04-29T00:40:38.875Z"
   },
   {
    "duration": 401,
    "start_time": "2025-04-29T00:40:48.037Z"
   },
   {
    "duration": 89,
    "start_time": "2025-04-29T00:41:32.600Z"
   },
   {
    "duration": 406,
    "start_time": "2025-04-29T00:48:49.452Z"
   },
   {
    "duration": 364,
    "start_time": "2025-04-29T00:53:10.801Z"
   },
   {
    "duration": 304,
    "start_time": "2025-04-29T00:53:38.330Z"
   },
   {
    "duration": 540,
    "start_time": "2025-04-29T00:53:57.493Z"
   },
   {
    "duration": 367,
    "start_time": "2025-04-29T00:54:10.124Z"
   },
   {
    "duration": 7,
    "start_time": "2025-04-29T00:54:39.274Z"
   },
   {
    "duration": 4474,
    "start_time": "2025-04-29T00:55:10.583Z"
   },
   {
    "duration": 184,
    "start_time": "2025-04-29T00:56:14.965Z"
   },
   {
    "duration": 112,
    "start_time": "2025-04-29T00:56:27.113Z"
   },
   {
    "duration": 4385,
    "start_time": "2025-04-29T00:57:50.045Z"
   },
   {
    "duration": 4347,
    "start_time": "2025-04-29T00:59:34.770Z"
   },
   {
    "duration": 55,
    "start_time": "2025-04-29T01:00:49.556Z"
   },
   {
    "duration": 38,
    "start_time": "2025-04-29T01:01:23.459Z"
   },
   {
    "duration": 281,
    "start_time": "2025-04-29T01:02:51.793Z"
   },
   {
    "duration": 765,
    "start_time": "2025-04-29T01:03:26.175Z"
   },
   {
    "duration": 424,
    "start_time": "2025-04-29T01:04:00.386Z"
   },
   {
    "duration": 3,
    "start_time": "2025-04-29T01:12:04.679Z"
   },
   {
    "duration": 22,
    "start_time": "2025-04-29T01:12:16.952Z"
   },
   {
    "duration": 24,
    "start_time": "2025-04-29T01:12:46.780Z"
   },
   {
    "duration": 19,
    "start_time": "2025-04-29T01:20:14.901Z"
   },
   {
    "duration": 22,
    "start_time": "2025-04-29T01:21:11.486Z"
   },
   {
    "duration": 9,
    "start_time": "2025-04-29T01:23:18.713Z"
   },
   {
    "duration": 4,
    "start_time": "2025-04-29T01:25:32.090Z"
   },
   {
    "duration": 7,
    "start_time": "2025-04-29T01:29:44.539Z"
   },
   {
    "duration": 45,
    "start_time": "2025-04-29T01:29:51.890Z"
   },
   {
    "duration": 4,
    "start_time": "2025-04-29T01:30:13.182Z"
   },
   {
    "duration": 160,
    "start_time": "2025-04-29T01:30:13.188Z"
   },
   {
    "duration": 9,
    "start_time": "2025-04-29T01:30:13.351Z"
   },
   {
    "duration": 7,
    "start_time": "2025-04-29T01:30:13.362Z"
   },
   {
    "duration": 7,
    "start_time": "2025-04-29T01:30:13.371Z"
   },
   {
    "duration": 7,
    "start_time": "2025-04-29T01:30:13.380Z"
   },
   {
    "duration": 8,
    "start_time": "2025-04-29T01:30:13.389Z"
   },
   {
    "duration": 9,
    "start_time": "2025-04-29T01:30:13.425Z"
   },
   {
    "duration": 12,
    "start_time": "2025-04-29T01:30:13.436Z"
   },
   {
    "duration": 10,
    "start_time": "2025-04-29T01:30:13.451Z"
   },
   {
    "duration": 5,
    "start_time": "2025-04-29T01:30:13.462Z"
   },
   {
    "duration": 17,
    "start_time": "2025-04-29T01:30:13.469Z"
   },
   {
    "duration": 42,
    "start_time": "2025-04-29T01:30:13.488Z"
   },
   {
    "duration": 25,
    "start_time": "2025-04-29T01:30:13.532Z"
   },
   {
    "duration": 30,
    "start_time": "2025-04-29T01:30:13.559Z"
   },
   {
    "duration": 37,
    "start_time": "2025-04-29T01:30:13.591Z"
   },
   {
    "duration": 8,
    "start_time": "2025-04-29T01:30:13.630Z"
   },
   {
    "duration": 18,
    "start_time": "2025-04-29T01:30:13.640Z"
   },
   {
    "duration": 17,
    "start_time": "2025-04-29T01:30:13.660Z"
   },
   {
    "duration": 15,
    "start_time": "2025-04-29T01:30:13.678Z"
   },
   {
    "duration": 38,
    "start_time": "2025-04-29T01:30:13.694Z"
   },
   {
    "duration": 23,
    "start_time": "2025-04-29T01:30:13.733Z"
   },
   {
    "duration": 23,
    "start_time": "2025-04-29T01:30:13.758Z"
   },
   {
    "duration": 7,
    "start_time": "2025-04-29T01:30:13.783Z"
   },
   {
    "duration": 37,
    "start_time": "2025-04-29T01:30:13.792Z"
   },
   {
    "duration": 8,
    "start_time": "2025-04-29T01:30:13.831Z"
   },
   {
    "duration": 31,
    "start_time": "2025-04-29T01:30:13.841Z"
   },
   {
    "duration": 24,
    "start_time": "2025-04-29T01:30:13.877Z"
   },
   {
    "duration": 8,
    "start_time": "2025-04-29T01:30:13.924Z"
   },
   {
    "duration": 19,
    "start_time": "2025-04-29T01:30:13.934Z"
   },
   {
    "duration": 7,
    "start_time": "2025-04-29T01:30:13.955Z"
   },
   {
    "duration": 22,
    "start_time": "2025-04-29T01:30:13.964Z"
   },
   {
    "duration": 38,
    "start_time": "2025-04-29T01:30:13.988Z"
   },
   {
    "duration": 10,
    "start_time": "2025-04-29T01:30:14.028Z"
   },
   {
    "duration": 10,
    "start_time": "2025-04-29T01:30:14.039Z"
   },
   {
    "duration": 19,
    "start_time": "2025-04-29T01:30:14.051Z"
   },
   {
    "duration": 274,
    "start_time": "2025-04-29T01:30:14.072Z"
   },
   {
    "duration": 240,
    "start_time": "2025-04-29T01:30:14.348Z"
   },
   {
    "duration": 280,
    "start_time": "2025-04-29T01:30:14.590Z"
   },
   {
    "duration": 4,
    "start_time": "2025-04-29T01:30:14.872Z"
   },
   {
    "duration": 271,
    "start_time": "2025-04-29T01:30:14.878Z"
   },
   {
    "duration": 32,
    "start_time": "2025-04-29T01:30:17.799Z"
   },
   {
    "duration": 508,
    "start_time": "2025-04-29T01:31:25.267Z"
   },
   {
    "duration": 20,
    "start_time": "2025-04-29T01:31:47.870Z"
   },
   {
    "duration": 12,
    "start_time": "2025-04-29T01:32:11.463Z"
   },
   {
    "duration": 12,
    "start_time": "2025-04-29T01:32:34.868Z"
   },
   {
    "duration": 16,
    "start_time": "2025-04-29T01:33:54.869Z"
   },
   {
    "duration": 22,
    "start_time": "2025-04-29T01:35:03.843Z"
   },
   {
    "duration": 3,
    "start_time": "2025-04-29T01:40:41.941Z"
   },
   {
    "duration": 7,
    "start_time": "2025-04-29T01:43:28.906Z"
   },
   {
    "duration": 5,
    "start_time": "2025-04-29T01:44:14.081Z"
   },
   {
    "duration": 21,
    "start_time": "2025-04-29T01:44:58.698Z"
   },
   {
    "duration": 16,
    "start_time": "2025-04-29T01:45:18.544Z"
   },
   {
    "duration": 161,
    "start_time": "2025-04-29T23:57:48.522Z"
   },
   {
    "duration": 2510,
    "start_time": "2025-04-29T23:58:41.834Z"
   },
   {
    "duration": 220,
    "start_time": "2025-04-29T23:58:44.348Z"
   },
   {
    "duration": 9,
    "start_time": "2025-04-29T23:58:44.570Z"
   },
   {
    "duration": 9,
    "start_time": "2025-04-29T23:58:44.581Z"
   },
   {
    "duration": 8,
    "start_time": "2025-04-29T23:58:44.592Z"
   },
   {
    "duration": 16,
    "start_time": "2025-04-29T23:58:44.602Z"
   },
   {
    "duration": 7,
    "start_time": "2025-04-29T23:58:44.620Z"
   },
   {
    "duration": 8,
    "start_time": "2025-04-29T23:58:44.629Z"
   },
   {
    "duration": 11,
    "start_time": "2025-04-29T23:58:44.639Z"
   },
   {
    "duration": 10,
    "start_time": "2025-04-29T23:58:44.654Z"
   },
   {
    "duration": 4,
    "start_time": "2025-04-29T23:58:44.666Z"
   },
   {
    "duration": 51,
    "start_time": "2025-04-29T23:58:44.672Z"
   },
   {
    "duration": 6,
    "start_time": "2025-04-29T23:58:44.725Z"
   },
   {
    "duration": 25,
    "start_time": "2025-04-29T23:58:44.733Z"
   },
   {
    "duration": 50,
    "start_time": "2025-04-29T23:58:44.760Z"
   },
   {
    "duration": 12,
    "start_time": "2025-04-29T23:58:44.812Z"
   },
   {
    "duration": 7,
    "start_time": "2025-04-29T23:58:44.825Z"
   },
   {
    "duration": 17,
    "start_time": "2025-04-29T23:58:44.834Z"
   },
   {
    "duration": 15,
    "start_time": "2025-04-29T23:58:44.853Z"
   },
   {
    "duration": 44,
    "start_time": "2025-04-29T23:58:44.870Z"
   },
   {
    "duration": 7,
    "start_time": "2025-04-29T23:58:44.915Z"
   },
   {
    "duration": 20,
    "start_time": "2025-04-29T23:58:44.924Z"
   },
   {
    "duration": 20,
    "start_time": "2025-04-29T23:58:44.946Z"
   },
   {
    "duration": 8,
    "start_time": "2025-04-29T23:58:44.968Z"
   },
   {
    "duration": 35,
    "start_time": "2025-04-29T23:58:44.977Z"
   },
   {
    "duration": 7,
    "start_time": "2025-04-29T23:58:45.014Z"
   },
   {
    "duration": 26,
    "start_time": "2025-04-29T23:58:45.023Z"
   },
   {
    "duration": 24,
    "start_time": "2025-04-29T23:58:45.054Z"
   },
   {
    "duration": 33,
    "start_time": "2025-04-29T23:58:45.079Z"
   },
   {
    "duration": 21,
    "start_time": "2025-04-29T23:58:45.114Z"
   },
   {
    "duration": 7,
    "start_time": "2025-04-29T23:58:45.136Z"
   },
   {
    "duration": 23,
    "start_time": "2025-04-29T23:58:45.145Z"
   },
   {
    "duration": 40,
    "start_time": "2025-04-29T23:58:45.170Z"
   },
   {
    "duration": 10,
    "start_time": "2025-04-29T23:58:45.212Z"
   },
   {
    "duration": 10,
    "start_time": "2025-04-29T23:58:45.224Z"
   },
   {
    "duration": 19,
    "start_time": "2025-04-29T23:58:45.236Z"
   },
   {
    "duration": 98,
    "start_time": "2025-04-29T23:58:45.256Z"
   },
   {
    "duration": 5,
    "start_time": "2025-04-30T00:04:49.939Z"
   },
   {
    "duration": 5,
    "start_time": "2025-04-30T00:05:00.321Z"
   },
   {
    "duration": 21,
    "start_time": "2025-04-30T00:05:24.479Z"
   },
   {
    "duration": 4,
    "start_time": "2025-04-30T00:08:21.285Z"
   },
   {
    "duration": 4,
    "start_time": "2025-04-30T00:09:18.241Z"
   },
   {
    "duration": 5,
    "start_time": "2025-04-30T00:09:49.404Z"
   },
   {
    "duration": 14,
    "start_time": "2025-04-30T00:11:11.103Z"
   },
   {
    "duration": 16,
    "start_time": "2025-04-30T00:11:22.805Z"
   },
   {
    "duration": 5,
    "start_time": "2025-04-30T00:14:43.940Z"
   },
   {
    "duration": 9,
    "start_time": "2025-04-30T00:14:57.423Z"
   },
   {
    "duration": 10,
    "start_time": "2025-04-30T00:18:51.812Z"
   },
   {
    "duration": 4,
    "start_time": "2025-04-30T00:18:58.927Z"
   },
   {
    "duration": 5,
    "start_time": "2025-04-30T00:21:46.896Z"
   },
   {
    "duration": 5,
    "start_time": "2025-04-30T00:22:16.828Z"
   },
   {
    "duration": 3,
    "start_time": "2025-04-30T00:25:57.495Z"
   },
   {
    "duration": 5,
    "start_time": "2025-04-30T00:26:09.985Z"
   },
   {
    "duration": 3,
    "start_time": "2025-04-30T00:26:29.232Z"
   },
   {
    "duration": 4,
    "start_time": "2025-04-30T00:26:30.366Z"
   },
   {
    "duration": 18,
    "start_time": "2025-04-30T00:40:22.644Z"
   },
   {
    "duration": 19,
    "start_time": "2025-04-30T00:42:28.717Z"
   },
   {
    "duration": 18,
    "start_time": "2025-04-30T00:43:27.629Z"
   },
   {
    "duration": 6,
    "start_time": "2025-04-30T00:47:00.233Z"
   },
   {
    "duration": 21,
    "start_time": "2025-04-30T00:47:22.837Z"
   },
   {
    "duration": 20,
    "start_time": "2025-04-30T00:48:32.583Z"
   },
   {
    "duration": 11,
    "start_time": "2025-04-30T00:52:29.902Z"
   },
   {
    "duration": 11,
    "start_time": "2025-04-30T00:53:27.155Z"
   },
   {
    "duration": 10,
    "start_time": "2025-04-30T00:54:23.686Z"
   },
   {
    "duration": 12,
    "start_time": "2025-04-30T00:54:53.190Z"
   },
   {
    "duration": 10,
    "start_time": "2025-04-30T00:55:34.918Z"
   },
   {
    "duration": 10,
    "start_time": "2025-04-30T01:01:06.169Z"
   },
   {
    "duration": 10,
    "start_time": "2025-04-30T01:01:27.091Z"
   },
   {
    "duration": 10,
    "start_time": "2025-04-30T01:02:53.273Z"
   },
   {
    "duration": 415,
    "start_time": "2025-04-30T01:03:03.720Z"
   },
   {
    "duration": 158,
    "start_time": "2025-04-30T01:03:18.934Z"
   },
   {
    "duration": 10,
    "start_time": "2025-04-30T01:03:31.844Z"
   },
   {
    "duration": 10,
    "start_time": "2025-04-30T01:06:06.753Z"
   },
   {
    "duration": 10,
    "start_time": "2025-04-30T01:09:05.662Z"
   },
   {
    "duration": 11,
    "start_time": "2025-04-30T01:10:55.701Z"
   },
   {
    "duration": 9,
    "start_time": "2025-04-30T01:11:00.289Z"
   },
   {
    "duration": 8,
    "start_time": "2025-04-30T01:11:10.202Z"
   },
   {
    "duration": 9,
    "start_time": "2025-04-30T01:11:17.398Z"
   },
   {
    "duration": 13,
    "start_time": "2025-04-30T01:11:18.484Z"
   },
   {
    "duration": 9,
    "start_time": "2025-04-30T01:11:19.680Z"
   },
   {
    "duration": 372,
    "start_time": "2025-04-30T01:16:18.311Z"
   },
   {
    "duration": 266,
    "start_time": "2025-04-30T01:16:21.111Z"
   },
   {
    "duration": 296,
    "start_time": "2025-04-30T01:16:41.191Z"
   },
   {
    "duration": 67,
    "start_time": "2025-04-30T01:29:18.034Z"
   },
   {
    "duration": 26,
    "start_time": "2025-04-30T01:30:16.020Z"
   },
   {
    "duration": 6,
    "start_time": "2025-04-30T01:30:21.165Z"
   },
   {
    "duration": 78,
    "start_time": "2025-04-30T01:31:56.245Z"
   },
   {
    "duration": 224,
    "start_time": "2025-04-30T01:34:08.444Z"
   },
   {
    "duration": 14,
    "start_time": "2025-04-30T01:34:40.151Z"
   },
   {
    "duration": 13,
    "start_time": "2025-04-30T01:35:00.910Z"
   },
   {
    "duration": 288,
    "start_time": "2025-04-30T01:35:04.982Z"
   },
   {
    "duration": 13,
    "start_time": "2025-04-30T01:35:11.646Z"
   },
   {
    "duration": 14,
    "start_time": "2025-04-30T01:47:19.762Z"
   },
   {
    "duration": 13,
    "start_time": "2025-04-30T01:47:25.447Z"
   },
   {
    "duration": 13,
    "start_time": "2025-04-30T01:47:36.283Z"
   },
   {
    "duration": 80,
    "start_time": "2025-04-30T01:47:48.286Z"
   },
   {
    "duration": 242,
    "start_time": "2025-04-30T01:48:55.351Z"
   },
   {
    "duration": 398,
    "start_time": "2025-04-30T01:49:08.097Z"
   },
   {
    "duration": 6,
    "start_time": "2025-04-30T02:02:34.435Z"
   },
   {
    "duration": 6,
    "start_time": "2025-04-30T02:02:55.914Z"
   },
   {
    "duration": 110,
    "start_time": "2025-04-30T02:04:35.369Z"
   },
   {
    "duration": 741,
    "start_time": "2025-04-30T02:08:52.931Z"
   },
   {
    "duration": 23,
    "start_time": "2025-04-30T02:10:08.556Z"
   },
   {
    "duration": 21,
    "start_time": "2025-04-30T02:10:26.159Z"
   },
   {
    "duration": 28,
    "start_time": "2025-04-30T02:14:39.391Z"
   },
   {
    "duration": 27,
    "start_time": "2025-04-30T02:14:48.965Z"
   },
   {
    "duration": 29,
    "start_time": "2025-04-30T02:15:47.347Z"
   },
   {
    "duration": 27,
    "start_time": "2025-04-30T02:15:57.929Z"
   },
   {
    "duration": 29,
    "start_time": "2025-04-30T02:16:21.250Z"
   },
   {
    "duration": 4,
    "start_time": "2025-04-30T02:16:30.621Z"
   },
   {
    "duration": 162,
    "start_time": "2025-04-30T02:16:30.627Z"
   },
   {
    "duration": 8,
    "start_time": "2025-04-30T02:16:30.791Z"
   },
   {
    "duration": 13,
    "start_time": "2025-04-30T02:16:30.801Z"
   },
   {
    "duration": 7,
    "start_time": "2025-04-30T02:16:30.817Z"
   },
   {
    "duration": 8,
    "start_time": "2025-04-30T02:16:30.826Z"
   },
   {
    "duration": 7,
    "start_time": "2025-04-30T02:16:30.835Z"
   },
   {
    "duration": 9,
    "start_time": "2025-04-30T02:16:30.844Z"
   },
   {
    "duration": 12,
    "start_time": "2025-04-30T02:16:30.854Z"
   },
   {
    "duration": 44,
    "start_time": "2025-04-30T02:16:30.868Z"
   },
   {
    "duration": 4,
    "start_time": "2025-04-30T02:16:30.915Z"
   },
   {
    "duration": 15,
    "start_time": "2025-04-30T02:16:30.920Z"
   },
   {
    "duration": 6,
    "start_time": "2025-04-30T02:16:30.937Z"
   },
   {
    "duration": 24,
    "start_time": "2025-04-30T02:16:30.944Z"
   },
   {
    "duration": 57,
    "start_time": "2025-04-30T02:16:30.970Z"
   },
   {
    "duration": 13,
    "start_time": "2025-04-30T02:16:31.029Z"
   },
   {
    "duration": 8,
    "start_time": "2025-04-30T02:16:31.043Z"
   },
   {
    "duration": 16,
    "start_time": "2025-04-30T02:16:31.052Z"
   },
   {
    "duration": 13,
    "start_time": "2025-04-30T02:16:31.070Z"
   },
   {
    "duration": 13,
    "start_time": "2025-04-30T02:16:31.109Z"
   },
   {
    "duration": 7,
    "start_time": "2025-04-30T02:16:31.123Z"
   },
   {
    "duration": 19,
    "start_time": "2025-04-30T02:16:31.131Z"
   },
   {
    "duration": 19,
    "start_time": "2025-04-30T02:16:31.152Z"
   },
   {
    "duration": 6,
    "start_time": "2025-04-30T02:16:31.173Z"
   },
   {
    "duration": 34,
    "start_time": "2025-04-30T02:16:31.181Z"
   },
   {
    "duration": 7,
    "start_time": "2025-04-30T02:16:31.216Z"
   },
   {
    "duration": 24,
    "start_time": "2025-04-30T02:16:31.225Z"
   },
   {
    "duration": 172,
    "start_time": "2025-04-30T02:16:31.250Z"
   },
   {
    "duration": 5,
    "start_time": "2025-04-30T02:16:31.427Z"
   },
   {
    "duration": 19,
    "start_time": "2025-04-30T02:16:31.435Z"
   },
   {
    "duration": 7,
    "start_time": "2025-04-30T02:16:31.455Z"
   },
   {
    "duration": 21,
    "start_time": "2025-04-30T02:16:31.464Z"
   },
   {
    "duration": 30,
    "start_time": "2025-04-30T02:16:31.487Z"
   },
   {
    "duration": 8,
    "start_time": "2025-04-30T02:16:31.518Z"
   },
   {
    "duration": 11,
    "start_time": "2025-04-30T02:16:31.528Z"
   },
   {
    "duration": 17,
    "start_time": "2025-04-30T02:16:31.540Z"
   },
   {
    "duration": 80,
    "start_time": "2025-04-30T02:16:31.559Z"
   },
   {
    "duration": 0,
    "start_time": "2025-04-30T02:16:31.641Z"
   },
   {
    "duration": 0,
    "start_time": "2025-04-30T02:16:31.642Z"
   },
   {
    "duration": 0,
    "start_time": "2025-04-30T02:16:31.643Z"
   },
   {
    "duration": 0,
    "start_time": "2025-04-30T02:16:31.644Z"
   },
   {
    "duration": 29,
    "start_time": "2025-04-30T02:16:35.372Z"
   },
   {
    "duration": 2,
    "start_time": "2025-04-30T02:18:32.353Z"
   },
   {
    "duration": 290,
    "start_time": "2025-04-30T02:19:48.267Z"
   },
   {
    "duration": 44,
    "start_time": "2025-04-30T02:20:42.796Z"
   },
   {
    "duration": 3,
    "start_time": "2025-04-30T02:20:51.499Z"
   },
   {
    "duration": 161,
    "start_time": "2025-04-30T02:20:51.505Z"
   },
   {
    "duration": 8,
    "start_time": "2025-04-30T02:20:51.668Z"
   },
   {
    "duration": 7,
    "start_time": "2025-04-30T02:20:51.680Z"
   },
   {
    "duration": 25,
    "start_time": "2025-04-30T02:20:51.688Z"
   },
   {
    "duration": 8,
    "start_time": "2025-04-30T02:20:51.714Z"
   },
   {
    "duration": 8,
    "start_time": "2025-04-30T02:20:51.724Z"
   },
   {
    "duration": 9,
    "start_time": "2025-04-30T02:20:51.734Z"
   },
   {
    "duration": 11,
    "start_time": "2025-04-30T02:20:51.744Z"
   },
   {
    "duration": 10,
    "start_time": "2025-04-30T02:20:51.758Z"
   },
   {
    "duration": 39,
    "start_time": "2025-04-30T02:20:51.770Z"
   },
   {
    "duration": 16,
    "start_time": "2025-04-30T02:20:51.811Z"
   },
   {
    "duration": 6,
    "start_time": "2025-04-30T02:20:51.829Z"
   },
   {
    "duration": 23,
    "start_time": "2025-04-30T02:20:51.837Z"
   },
   {
    "duration": 55,
    "start_time": "2025-04-30T02:20:51.862Z"
   },
   {
    "duration": 12,
    "start_time": "2025-04-30T02:20:51.918Z"
   },
   {
    "duration": 7,
    "start_time": "2025-04-30T02:20:51.932Z"
   },
   {
    "duration": 17,
    "start_time": "2025-04-30T02:20:51.940Z"
   },
   {
    "duration": 14,
    "start_time": "2025-04-30T02:20:51.958Z"
   },
   {
    "duration": 43,
    "start_time": "2025-04-30T02:20:51.974Z"
   },
   {
    "duration": 7,
    "start_time": "2025-04-30T02:20:52.019Z"
   },
   {
    "duration": 20,
    "start_time": "2025-04-30T02:20:52.027Z"
   },
   {
    "duration": 20,
    "start_time": "2025-04-30T02:20:52.048Z"
   },
   {
    "duration": 7,
    "start_time": "2025-04-30T02:20:52.069Z"
   },
   {
    "duration": 36,
    "start_time": "2025-04-30T02:20:52.078Z"
   },
   {
    "duration": 8,
    "start_time": "2025-04-30T02:20:52.115Z"
   },
   {
    "duration": 26,
    "start_time": "2025-04-30T02:20:52.125Z"
   },
   {
    "duration": 21,
    "start_time": "2025-04-30T02:20:52.155Z"
   },
   {
    "duration": 33,
    "start_time": "2025-04-30T02:20:52.178Z"
   },
   {
    "duration": 19,
    "start_time": "2025-04-30T02:20:52.213Z"
   },
   {
    "duration": 7,
    "start_time": "2025-04-30T02:20:52.234Z"
   },
   {
    "duration": 21,
    "start_time": "2025-04-30T02:20:52.243Z"
   },
   {
    "duration": 10,
    "start_time": "2025-04-30T02:20:52.265Z"
   },
   {
    "duration": 39,
    "start_time": "2025-04-30T02:20:52.277Z"
   },
   {
    "duration": 10,
    "start_time": "2025-04-30T02:20:52.318Z"
   },
   {
    "duration": 19,
    "start_time": "2025-04-30T02:20:52.329Z"
   },
   {
    "duration": 48,
    "start_time": "2025-04-30T02:20:54.197Z"
   },
   {
    "duration": 43,
    "start_time": "2025-04-30T02:21:16.350Z"
   },
   {
    "duration": 50,
    "start_time": "2025-04-30T02:22:07.756Z"
   },
   {
    "duration": 51,
    "start_time": "2025-04-30T02:22:39.196Z"
   },
   {
    "duration": 10,
    "start_time": "2025-04-30T02:22:49.182Z"
   },
   {
    "duration": 12,
    "start_time": "2025-04-30T02:22:54.189Z"
   },
   {
    "duration": 17,
    "start_time": "2025-04-30T02:22:56.138Z"
   },
   {
    "duration": 12,
    "start_time": "2025-04-30T02:22:58.066Z"
   },
   {
    "duration": 267,
    "start_time": "2025-04-30T02:23:01.266Z"
   },
   {
    "duration": 16,
    "start_time": "2025-04-30T02:24:01.292Z"
   },
   {
    "duration": 2,
    "start_time": "2025-04-30T02:24:30.203Z"
   },
   {
    "duration": 2,
    "start_time": "2025-04-30T02:24:31.642Z"
   },
   {
    "duration": 7,
    "start_time": "2025-04-30T02:26:14.770Z"
   },
   {
    "duration": 10,
    "start_time": "2025-04-30T02:26:36.721Z"
   },
   {
    "duration": 14,
    "start_time": "2025-04-30T02:27:39.451Z"
   },
   {
    "duration": 1549,
    "start_time": "2025-04-30T02:28:27.608Z"
   },
   {
    "duration": 466,
    "start_time": "2025-04-30T02:29:22.732Z"
   },
   {
    "duration": 10,
    "start_time": "2025-04-30T02:29:57.611Z"
   },
   {
    "duration": 10,
    "start_time": "2025-04-30T02:30:28.289Z"
   },
   {
    "duration": 235,
    "start_time": "2025-04-30T02:31:15.694Z"
   },
   {
    "duration": 215,
    "start_time": "2025-04-30T02:32:11.214Z"
   },
   {
    "duration": 26,
    "start_time": "2025-04-30T02:33:07.179Z"
   },
   {
    "duration": 294,
    "start_time": "2025-04-30T02:33:31.129Z"
   },
   {
    "duration": 340,
    "start_time": "2025-04-30T02:34:09.872Z"
   },
   {
    "duration": 313,
    "start_time": "2025-04-30T02:34:36.830Z"
   },
   {
    "duration": 172,
    "start_time": "2025-04-30T02:39:28.762Z"
   },
   {
    "duration": 919,
    "start_time": "2025-04-30T02:39:42.463Z"
   },
   {
    "duration": 230,
    "start_time": "2025-04-30T02:39:43.384Z"
   },
   {
    "duration": 12,
    "start_time": "2025-04-30T02:39:43.615Z"
   },
   {
    "duration": 10,
    "start_time": "2025-04-30T02:39:43.628Z"
   },
   {
    "duration": 9,
    "start_time": "2025-04-30T02:39:43.641Z"
   },
   {
    "duration": 11,
    "start_time": "2025-04-30T02:39:43.653Z"
   },
   {
    "duration": 11,
    "start_time": "2025-04-30T02:39:43.666Z"
   },
   {
    "duration": 36,
    "start_time": "2025-04-30T02:39:43.679Z"
   },
   {
    "duration": 15,
    "start_time": "2025-04-30T02:39:43.717Z"
   },
   {
    "duration": 13,
    "start_time": "2025-04-30T02:39:43.734Z"
   },
   {
    "duration": 5,
    "start_time": "2025-04-30T02:39:43.749Z"
   },
   {
    "duration": 22,
    "start_time": "2025-04-30T02:39:43.755Z"
   },
   {
    "duration": 14,
    "start_time": "2025-04-30T02:39:43.808Z"
   },
   {
    "duration": 37,
    "start_time": "2025-04-30T02:39:43.827Z"
   },
   {
    "duration": 51,
    "start_time": "2025-04-30T02:39:43.866Z"
   },
   {
    "duration": 14,
    "start_time": "2025-04-30T02:39:43.919Z"
   },
   {
    "duration": 8,
    "start_time": "2025-04-30T02:39:43.934Z"
   },
   {
    "duration": 18,
    "start_time": "2025-04-30T02:39:43.945Z"
   },
   {
    "duration": 17,
    "start_time": "2025-04-30T02:39:43.965Z"
   },
   {
    "duration": 16,
    "start_time": "2025-04-30T02:39:44.008Z"
   },
   {
    "duration": 8,
    "start_time": "2025-04-30T02:39:44.026Z"
   },
   {
    "duration": 24,
    "start_time": "2025-04-30T02:39:44.035Z"
   },
   {
    "duration": 50,
    "start_time": "2025-04-30T02:39:44.060Z"
   },
   {
    "duration": 7,
    "start_time": "2025-04-30T02:39:44.112Z"
   },
   {
    "duration": 6,
    "start_time": "2025-04-30T02:39:44.121Z"
   },
   {
    "duration": 8,
    "start_time": "2025-04-30T02:39:44.129Z"
   },
   {
    "duration": 28,
    "start_time": "2025-04-30T02:39:44.140Z"
   },
   {
    "duration": 52,
    "start_time": "2025-04-30T02:39:44.170Z"
   },
   {
    "duration": 9,
    "start_time": "2025-04-30T02:39:44.224Z"
   },
   {
    "duration": 22,
    "start_time": "2025-04-30T02:39:44.235Z"
   },
   {
    "duration": 7,
    "start_time": "2025-04-30T02:39:44.259Z"
   },
   {
    "duration": 49,
    "start_time": "2025-04-30T02:39:44.268Z"
   },
   {
    "duration": 10,
    "start_time": "2025-04-30T02:39:44.320Z"
   },
   {
    "duration": 10,
    "start_time": "2025-04-30T02:39:44.332Z"
   },
   {
    "duration": 12,
    "start_time": "2025-04-30T02:39:44.344Z"
   },
   {
    "duration": 20,
    "start_time": "2025-04-30T02:39:44.358Z"
   },
   {
    "duration": 16,
    "start_time": "2025-04-30T02:39:44.412Z"
   },
   {
    "duration": 11,
    "start_time": "2025-04-30T02:39:44.431Z"
   },
   {
    "duration": 13,
    "start_time": "2025-04-30T02:39:44.445Z"
   },
   {
    "duration": 11,
    "start_time": "2025-04-30T02:39:44.460Z"
   },
   {
    "duration": 325,
    "start_time": "2025-04-30T02:39:44.476Z"
   },
   {
    "duration": 301,
    "start_time": "2025-04-30T02:39:44.803Z"
   },
   {
    "duration": 13,
    "start_time": "2025-04-30T02:39:45.110Z"
   },
   {
    "duration": 263,
    "start_time": "2025-04-30T02:40:22.395Z"
   },
   {
    "duration": 6,
    "start_time": "2025-04-30T02:41:39.956Z"
   },
   {
    "duration": 6,
    "start_time": "2025-04-30T02:42:04.072Z"
   },
   {
    "duration": 7,
    "start_time": "2025-04-30T02:42:05.867Z"
   },
   {
    "duration": 173,
    "start_time": "2025-04-30T02:46:20.549Z"
   },
   {
    "duration": 106,
    "start_time": "2025-04-30T02:48:01.634Z"
   },
   {
    "duration": 126,
    "start_time": "2025-04-30T02:56:19.454Z"
   },
   {
    "duration": 21,
    "start_time": "2025-04-30T03:11:04.188Z"
   },
   {
    "duration": 7,
    "start_time": "2025-04-30T03:12:06.768Z"
   },
   {
    "duration": 93,
    "start_time": "2025-04-30T03:12:29.585Z"
   },
   {
    "duration": 24,
    "start_time": "2025-04-30T03:15:17.057Z"
   },
   {
    "duration": 3,
    "start_time": "2025-04-30T03:15:34.835Z"
   },
   {
    "duration": 224,
    "start_time": "2025-04-30T03:15:34.840Z"
   },
   {
    "duration": 11,
    "start_time": "2025-04-30T03:15:35.067Z"
   },
   {
    "duration": 9,
    "start_time": "2025-04-30T03:15:35.080Z"
   },
   {
    "duration": 18,
    "start_time": "2025-04-30T03:15:35.092Z"
   },
   {
    "duration": 9,
    "start_time": "2025-04-30T03:15:35.112Z"
   },
   {
    "duration": 10,
    "start_time": "2025-04-30T03:15:35.123Z"
   },
   {
    "duration": 9,
    "start_time": "2025-04-30T03:15:35.134Z"
   },
   {
    "duration": 14,
    "start_time": "2025-04-30T03:15:35.145Z"
   },
   {
    "duration": 11,
    "start_time": "2025-04-30T03:15:35.160Z"
   },
   {
    "duration": 6,
    "start_time": "2025-04-30T03:15:35.211Z"
   },
   {
    "duration": 20,
    "start_time": "2025-04-30T03:15:35.219Z"
   },
   {
    "duration": 8,
    "start_time": "2025-04-30T03:15:35.242Z"
   },
   {
    "duration": 56,
    "start_time": "2025-04-30T03:15:35.252Z"
   },
   {
    "duration": 38,
    "start_time": "2025-04-30T03:15:35.310Z"
   },
   {
    "duration": 19,
    "start_time": "2025-04-30T03:15:35.350Z"
   },
   {
    "duration": 8,
    "start_time": "2025-04-30T03:15:35.371Z"
   },
   {
    "duration": 50,
    "start_time": "2025-04-30T03:15:35.381Z"
   },
   {
    "duration": 24,
    "start_time": "2025-04-30T03:15:35.432Z"
   },
   {
    "duration": 19,
    "start_time": "2025-04-30T03:15:35.458Z"
   },
   {
    "duration": 8,
    "start_time": "2025-04-30T03:15:35.478Z"
   },
   {
    "duration": 46,
    "start_time": "2025-04-30T03:15:35.488Z"
   },
   {
    "duration": 29,
    "start_time": "2025-04-30T03:15:35.536Z"
   },
   {
    "duration": 9,
    "start_time": "2025-04-30T03:15:35.568Z"
   },
   {
    "duration": 32,
    "start_time": "2025-04-30T03:15:35.579Z"
   },
   {
    "duration": 11,
    "start_time": "2025-04-30T03:15:35.616Z"
   },
   {
    "duration": 40,
    "start_time": "2025-04-30T03:15:35.629Z"
   },
   {
    "duration": 40,
    "start_time": "2025-04-30T03:15:35.673Z"
   },
   {
    "duration": 10,
    "start_time": "2025-04-30T03:15:35.719Z"
   },
   {
    "duration": 30,
    "start_time": "2025-04-30T03:15:35.733Z"
   },
   {
    "duration": 10,
    "start_time": "2025-04-30T03:15:35.769Z"
   },
   {
    "duration": 37,
    "start_time": "2025-04-30T03:15:35.785Z"
   },
   {
    "duration": 12,
    "start_time": "2025-04-30T03:15:35.823Z"
   },
   {
    "duration": 12,
    "start_time": "2025-04-30T03:15:35.837Z"
   },
   {
    "duration": 20,
    "start_time": "2025-04-30T03:15:35.851Z"
   },
   {
    "duration": 47,
    "start_time": "2025-04-30T03:15:35.875Z"
   },
   {
    "duration": 19,
    "start_time": "2025-04-30T03:15:35.925Z"
   },
   {
    "duration": 16,
    "start_time": "2025-04-30T03:15:35.947Z"
   },
   {
    "duration": 14,
    "start_time": "2025-04-30T03:15:35.968Z"
   },
   {
    "duration": 12,
    "start_time": "2025-04-30T03:15:35.987Z"
   },
   {
    "duration": 368,
    "start_time": "2025-04-30T03:15:36.004Z"
   },
   {
    "duration": 383,
    "start_time": "2025-04-30T03:15:36.376Z"
   },
   {
    "duration": 10,
    "start_time": "2025-04-30T03:15:36.761Z"
   },
   {
    "duration": 8,
    "start_time": "2025-04-30T03:15:36.773Z"
   },
   {
    "duration": 119,
    "start_time": "2025-04-30T03:15:36.783Z"
   },
   {
    "duration": 123,
    "start_time": "2025-04-30T03:15:36.904Z"
   },
   {
    "duration": 9,
    "start_time": "2025-04-30T03:15:37.029Z"
   },
   {
    "duration": 121,
    "start_time": "2025-04-30T03:15:37.040Z"
   },
   {
    "duration": 20,
    "start_time": "2025-04-30T03:15:37.164Z"
   },
   {
    "duration": 7,
    "start_time": "2025-04-30T03:15:37.187Z"
   },
   {
    "duration": 126,
    "start_time": "2025-04-30T03:15:37.196Z"
   },
   {
    "duration": 25,
    "start_time": "2025-04-30T03:17:06.248Z"
   },
   {
    "duration": 7,
    "start_time": "2025-04-30T03:20:33.142Z"
   },
   {
    "duration": 8,
    "start_time": "2025-04-30T03:22:36.710Z"
   },
   {
    "duration": 28,
    "start_time": "2025-04-30T03:24:25.558Z"
   },
   {
    "duration": 3,
    "start_time": "2025-04-30T03:25:04.365Z"
   },
   {
    "duration": 227,
    "start_time": "2025-04-30T03:25:04.371Z"
   },
   {
    "duration": 14,
    "start_time": "2025-04-30T03:25:04.600Z"
   },
   {
    "duration": 8,
    "start_time": "2025-04-30T03:25:04.617Z"
   },
   {
    "duration": 10,
    "start_time": "2025-04-30T03:25:04.628Z"
   },
   {
    "duration": 9,
    "start_time": "2025-04-30T03:25:04.639Z"
   },
   {
    "duration": 9,
    "start_time": "2025-04-30T03:25:04.650Z"
   },
   {
    "duration": 10,
    "start_time": "2025-04-30T03:25:04.661Z"
   },
   {
    "duration": 39,
    "start_time": "2025-04-30T03:25:04.674Z"
   },
   {
    "duration": 12,
    "start_time": "2025-04-30T03:25:04.715Z"
   },
   {
    "duration": 5,
    "start_time": "2025-04-30T03:25:04.729Z"
   },
   {
    "duration": 17,
    "start_time": "2025-04-30T03:25:04.736Z"
   },
   {
    "duration": 8,
    "start_time": "2025-04-30T03:25:04.755Z"
   },
   {
    "duration": 65,
    "start_time": "2025-04-30T03:25:04.767Z"
   },
   {
    "duration": 43,
    "start_time": "2025-04-30T03:25:04.834Z"
   },
   {
    "duration": 14,
    "start_time": "2025-04-30T03:25:04.878Z"
   },
   {
    "duration": 17,
    "start_time": "2025-04-30T03:25:04.894Z"
   },
   {
    "duration": 23,
    "start_time": "2025-04-30T03:25:04.913Z"
   },
   {
    "duration": 23,
    "start_time": "2025-04-30T03:25:04.937Z"
   },
   {
    "duration": 17,
    "start_time": "2025-04-30T03:25:04.962Z"
   },
   {
    "duration": 32,
    "start_time": "2025-04-30T03:25:04.981Z"
   },
   {
    "duration": 28,
    "start_time": "2025-04-30T03:25:05.015Z"
   },
   {
    "duration": 24,
    "start_time": "2025-04-30T03:25:05.045Z"
   },
   {
    "duration": 7,
    "start_time": "2025-04-30T03:25:05.071Z"
   },
   {
    "duration": 7,
    "start_time": "2025-04-30T03:25:05.080Z"
   },
   {
    "duration": 29,
    "start_time": "2025-04-30T03:25:05.088Z"
   },
   {
    "duration": 31,
    "start_time": "2025-04-30T03:25:05.118Z"
   },
   {
    "duration": 33,
    "start_time": "2025-04-30T03:25:05.151Z"
   },
   {
    "duration": 22,
    "start_time": "2025-04-30T03:25:05.186Z"
   },
   {
    "duration": 31,
    "start_time": "2025-04-30T03:25:05.211Z"
   },
   {
    "duration": 9,
    "start_time": "2025-04-30T03:25:05.244Z"
   },
   {
    "duration": 34,
    "start_time": "2025-04-30T03:25:05.256Z"
   },
   {
    "duration": 16,
    "start_time": "2025-04-30T03:25:05.310Z"
   },
   {
    "duration": 12,
    "start_time": "2025-04-30T03:25:05.328Z"
   },
   {
    "duration": 14,
    "start_time": "2025-04-30T03:25:05.342Z"
   },
   {
    "duration": 27,
    "start_time": "2025-04-30T03:25:05.358Z"
   },
   {
    "duration": 15,
    "start_time": "2025-04-30T03:25:05.409Z"
   },
   {
    "duration": 13,
    "start_time": "2025-04-30T03:25:05.426Z"
   },
   {
    "duration": 14,
    "start_time": "2025-04-30T03:25:05.441Z"
   },
   {
    "duration": 883,
    "start_time": "2025-04-30T03:25:05.457Z"
   },
   {
    "duration": 0,
    "start_time": "2025-04-30T03:25:06.342Z"
   },
   {
    "duration": 0,
    "start_time": "2025-04-30T03:25:06.344Z"
   },
   {
    "duration": 0,
    "start_time": "2025-04-30T03:25:06.345Z"
   },
   {
    "duration": 0,
    "start_time": "2025-04-30T03:25:06.346Z"
   },
   {
    "duration": 0,
    "start_time": "2025-04-30T03:25:06.347Z"
   },
   {
    "duration": 0,
    "start_time": "2025-04-30T03:25:06.348Z"
   },
   {
    "duration": 0,
    "start_time": "2025-04-30T03:25:06.349Z"
   },
   {
    "duration": 0,
    "start_time": "2025-04-30T03:25:06.350Z"
   },
   {
    "duration": 0,
    "start_time": "2025-04-30T03:25:06.351Z"
   },
   {
    "duration": 0,
    "start_time": "2025-04-30T03:25:06.353Z"
   },
   {
    "duration": 0,
    "start_time": "2025-04-30T03:25:06.354Z"
   },
   {
    "duration": 0,
    "start_time": "2025-04-30T03:25:06.355Z"
   },
   {
    "duration": 0,
    "start_time": "2025-04-30T03:25:06.355Z"
   },
   {
    "duration": 12,
    "start_time": "2025-04-30T03:25:21.181Z"
   },
   {
    "duration": 9,
    "start_time": "2025-04-30T03:25:55.211Z"
   },
   {
    "duration": 205,
    "start_time": "2025-04-30T03:26:51.815Z"
   },
   {
    "duration": 133,
    "start_time": "2025-04-30T03:27:24.477Z"
   },
   {
    "duration": 11,
    "start_time": "2025-04-30T03:28:54.759Z"
   },
   {
    "duration": 16,
    "start_time": "2025-04-30T03:29:08.432Z"
   },
   {
    "duration": 11,
    "start_time": "2025-04-30T03:29:11.654Z"
   },
   {
    "duration": 18,
    "start_time": "2025-04-30T03:30:33.706Z"
   },
   {
    "duration": 7,
    "start_time": "2025-04-30T03:31:31.004Z"
   },
   {
    "duration": 126,
    "start_time": "2025-04-30T03:31:34.914Z"
   },
   {
    "duration": 138,
    "start_time": "2025-04-30T03:32:32.736Z"
   },
   {
    "duration": 2536,
    "start_time": "2025-04-30T23:16:16.167Z"
   },
   {
    "duration": 242,
    "start_time": "2025-04-30T23:16:18.705Z"
   },
   {
    "duration": 9,
    "start_time": "2025-04-30T23:16:18.948Z"
   },
   {
    "duration": 9,
    "start_time": "2025-04-30T23:16:18.959Z"
   },
   {
    "duration": 8,
    "start_time": "2025-04-30T23:16:18.971Z"
   },
   {
    "duration": 8,
    "start_time": "2025-04-30T23:16:18.981Z"
   },
   {
    "duration": 8,
    "start_time": "2025-04-30T23:16:18.991Z"
   },
   {
    "duration": 10,
    "start_time": "2025-04-30T23:16:19.023Z"
   },
   {
    "duration": 11,
    "start_time": "2025-04-30T23:16:19.034Z"
   },
   {
    "duration": 9,
    "start_time": "2025-04-30T23:16:19.047Z"
   },
   {
    "duration": 4,
    "start_time": "2025-04-30T23:16:19.058Z"
   },
   {
    "duration": 15,
    "start_time": "2025-04-30T23:16:19.064Z"
   },
   {
    "duration": 7,
    "start_time": "2025-04-30T23:16:19.080Z"
   },
   {
    "duration": 27,
    "start_time": "2025-04-30T23:16:19.129Z"
   },
   {
    "duration": 28,
    "start_time": "2025-04-30T23:16:19.157Z"
   },
   {
    "duration": 12,
    "start_time": "2025-04-30T23:16:19.187Z"
   },
   {
    "duration": 31,
    "start_time": "2025-04-30T23:16:19.200Z"
   },
   {
    "duration": 17,
    "start_time": "2025-04-30T23:16:19.233Z"
   },
   {
    "duration": 17,
    "start_time": "2025-04-30T23:16:19.253Z"
   },
   {
    "duration": 15,
    "start_time": "2025-04-30T23:16:19.272Z"
   },
   {
    "duration": 9,
    "start_time": "2025-04-30T23:16:19.289Z"
   },
   {
    "duration": 45,
    "start_time": "2025-04-30T23:16:19.300Z"
   },
   {
    "duration": 21,
    "start_time": "2025-04-30T23:16:19.347Z"
   },
   {
    "duration": 6,
    "start_time": "2025-04-30T23:16:19.370Z"
   },
   {
    "duration": 6,
    "start_time": "2025-04-30T23:16:19.379Z"
   },
   {
    "duration": 38,
    "start_time": "2025-04-30T23:16:19.387Z"
   },
   {
    "duration": 26,
    "start_time": "2025-04-30T23:16:19.427Z"
   },
   {
    "duration": 23,
    "start_time": "2025-04-30T23:16:19.455Z"
   },
   {
    "duration": 6,
    "start_time": "2025-04-30T23:16:19.479Z"
   },
   {
    "duration": 44,
    "start_time": "2025-04-30T23:16:19.487Z"
   },
   {
    "duration": 7,
    "start_time": "2025-04-30T23:16:19.533Z"
   },
   {
    "duration": 23,
    "start_time": "2025-04-30T23:16:19.542Z"
   },
   {
    "duration": 10,
    "start_time": "2025-04-30T23:16:19.567Z"
   },
   {
    "duration": 12,
    "start_time": "2025-04-30T23:16:19.578Z"
   },
   {
    "duration": 38,
    "start_time": "2025-04-30T23:16:19.592Z"
   },
   {
    "duration": 20,
    "start_time": "2025-04-30T23:16:19.632Z"
   },
   {
    "duration": 12,
    "start_time": "2025-04-30T23:16:19.654Z"
   },
   {
    "duration": 10,
    "start_time": "2025-04-30T23:16:19.667Z"
   },
   {
    "duration": 48,
    "start_time": "2025-04-30T23:16:19.679Z"
   },
   {
    "duration": 12,
    "start_time": "2025-04-30T23:16:19.729Z"
   },
   {
    "duration": 355,
    "start_time": "2025-04-30T23:16:19.745Z"
   },
   {
    "duration": 272,
    "start_time": "2025-04-30T23:16:20.102Z"
   },
   {
    "duration": 8,
    "start_time": "2025-04-30T23:16:20.376Z"
   },
   {
    "duration": 6,
    "start_time": "2025-04-30T23:16:20.386Z"
   },
   {
    "duration": 120,
    "start_time": "2025-04-30T23:16:20.393Z"
   },
   {
    "duration": 110,
    "start_time": "2025-04-30T23:16:20.515Z"
   },
   {
    "duration": 7,
    "start_time": "2025-04-30T23:16:20.626Z"
   },
   {
    "duration": 119,
    "start_time": "2025-04-30T23:16:20.634Z"
   },
   {
    "duration": 19,
    "start_time": "2025-04-30T23:16:20.755Z"
   },
   {
    "duration": 8,
    "start_time": "2025-04-30T23:16:20.776Z"
   },
   {
    "duration": 118,
    "start_time": "2025-04-30T23:16:20.786Z"
   },
   {
    "duration": 3,
    "start_time": "2025-04-30T23:16:20.906Z"
   },
   {
    "duration": 17,
    "start_time": "2025-04-30T23:16:20.910Z"
   },
   {
    "duration": 21,
    "start_time": "2025-04-30T23:18:23.040Z"
   },
   {
    "duration": 11,
    "start_time": "2025-04-30T23:18:36.697Z"
   },
   {
    "duration": 262,
    "start_time": "2025-04-30T23:22:07.990Z"
   },
   {
    "duration": 149,
    "start_time": "2025-04-30T23:24:40.908Z"
   },
   {
    "duration": 128,
    "start_time": "2025-04-30T23:25:10.358Z"
   },
   {
    "duration": 239,
    "start_time": "2025-04-30T23:26:25.600Z"
   },
   {
    "duration": 155,
    "start_time": "2025-04-30T23:27:26.687Z"
   },
   {
    "duration": 681,
    "start_time": "2025-05-01T00:05:22.954Z"
   },
   {
    "duration": 3,
    "start_time": "2025-05-01T00:05:46.185Z"
   },
   {
    "duration": 161,
    "start_time": "2025-05-01T00:05:46.191Z"
   },
   {
    "duration": 8,
    "start_time": "2025-05-01T00:05:46.354Z"
   },
   {
    "duration": 7,
    "start_time": "2025-05-01T00:05:46.365Z"
   },
   {
    "duration": 7,
    "start_time": "2025-05-01T00:05:46.374Z"
   },
   {
    "duration": 9,
    "start_time": "2025-05-01T00:05:46.383Z"
   },
   {
    "duration": 31,
    "start_time": "2025-05-01T00:05:46.393Z"
   },
   {
    "duration": 8,
    "start_time": "2025-05-01T00:05:46.426Z"
   },
   {
    "duration": 12,
    "start_time": "2025-05-01T00:05:46.438Z"
   },
   {
    "duration": 10,
    "start_time": "2025-05-01T00:05:46.451Z"
   },
   {
    "duration": 4,
    "start_time": "2025-05-01T00:05:46.463Z"
   },
   {
    "duration": 15,
    "start_time": "2025-05-01T00:05:46.468Z"
   },
   {
    "duration": 43,
    "start_time": "2025-05-01T00:05:46.486Z"
   },
   {
    "duration": 24,
    "start_time": "2025-05-01T00:05:46.530Z"
   },
   {
    "duration": 28,
    "start_time": "2025-05-01T00:05:46.556Z"
   },
   {
    "duration": 13,
    "start_time": "2025-05-01T00:05:46.585Z"
   },
   {
    "duration": 31,
    "start_time": "2025-05-01T00:05:46.599Z"
   },
   {
    "duration": 18,
    "start_time": "2025-05-01T00:05:46.632Z"
   },
   {
    "duration": 17,
    "start_time": "2025-05-01T00:05:46.652Z"
   },
   {
    "duration": 14,
    "start_time": "2025-05-01T00:05:46.670Z"
   },
   {
    "duration": 38,
    "start_time": "2025-05-01T00:05:46.685Z"
   },
   {
    "duration": 21,
    "start_time": "2025-05-01T00:05:46.725Z"
   },
   {
    "duration": 23,
    "start_time": "2025-05-01T00:05:46.747Z"
   },
   {
    "duration": 7,
    "start_time": "2025-05-01T00:05:46.774Z"
   },
   {
    "duration": 7,
    "start_time": "2025-05-01T00:05:46.783Z"
   },
   {
    "duration": 33,
    "start_time": "2025-05-01T00:05:46.792Z"
   },
   {
    "duration": 26,
    "start_time": "2025-05-01T00:05:46.827Z"
   },
   {
    "duration": 22,
    "start_time": "2025-05-01T00:05:46.855Z"
   },
   {
    "duration": 7,
    "start_time": "2025-05-01T00:05:46.879Z"
   },
   {
    "duration": 45,
    "start_time": "2025-05-01T00:05:46.887Z"
   },
   {
    "duration": 7,
    "start_time": "2025-05-01T00:05:46.934Z"
   },
   {
    "duration": 22,
    "start_time": "2025-05-01T00:05:46.943Z"
   },
   {
    "duration": 9,
    "start_time": "2025-05-01T00:05:46.967Z"
   },
   {
    "duration": 9,
    "start_time": "2025-05-01T00:05:46.978Z"
   },
   {
    "duration": 46,
    "start_time": "2025-05-01T00:05:46.989Z"
   },
   {
    "duration": 21,
    "start_time": "2025-05-01T00:05:47.037Z"
   },
   {
    "duration": 9,
    "start_time": "2025-05-01T00:05:47.061Z"
   },
   {
    "duration": 10,
    "start_time": "2025-05-01T00:05:47.072Z"
   },
   {
    "duration": 11,
    "start_time": "2025-05-01T00:05:47.084Z"
   },
   {
    "duration": 40,
    "start_time": "2025-05-01T00:05:47.096Z"
   },
   {
    "duration": 10,
    "start_time": "2025-05-01T00:05:47.137Z"
   },
   {
    "duration": 275,
    "start_time": "2025-05-01T00:05:47.149Z"
   },
   {
    "duration": 360,
    "start_time": "2025-05-01T00:05:47.426Z"
   },
   {
    "duration": 164,
    "start_time": "2025-05-01T00:05:47.788Z"
   },
   {
    "duration": 8,
    "start_time": "2025-05-01T00:05:47.954Z"
   },
   {
    "duration": 6,
    "start_time": "2025-05-01T00:05:47.963Z"
   },
   {
    "duration": 114,
    "start_time": "2025-05-01T00:05:47.970Z"
   },
   {
    "duration": 109,
    "start_time": "2025-05-01T00:05:48.087Z"
   },
   {
    "duration": 7,
    "start_time": "2025-05-01T00:05:48.198Z"
   },
   {
    "duration": 111,
    "start_time": "2025-05-01T00:05:48.207Z"
   },
   {
    "duration": 16,
    "start_time": "2025-05-01T00:05:48.325Z"
   },
   {
    "duration": 6,
    "start_time": "2025-05-01T00:05:48.343Z"
   },
   {
    "duration": 113,
    "start_time": "2025-05-01T00:05:48.351Z"
   },
   {
    "duration": 8,
    "start_time": "2025-05-01T00:05:48.466Z"
   },
   {
    "duration": 3,
    "start_time": "2025-05-01T00:05:48.475Z"
   },
   {
    "duration": 10,
    "start_time": "2025-05-01T00:09:02.728Z"
   },
   {
    "duration": 11,
    "start_time": "2025-05-01T00:09:24.014Z"
   },
   {
    "duration": 11,
    "start_time": "2025-05-01T00:09:25.305Z"
   },
   {
    "duration": 12,
    "start_time": "2025-05-01T00:09:33.244Z"
   },
   {
    "duration": 9,
    "start_time": "2025-05-01T00:10:10.043Z"
   },
   {
    "duration": 9,
    "start_time": "2025-05-01T00:16:10.490Z"
   },
   {
    "duration": 135,
    "start_time": "2025-05-01T00:16:16.929Z"
   },
   {
    "duration": 51,
    "start_time": "2025-05-01T00:16:52.071Z"
   },
   {
    "duration": 3,
    "start_time": "2025-05-01T00:16:59.811Z"
   },
   {
    "duration": 165,
    "start_time": "2025-05-01T00:16:59.816Z"
   },
   {
    "duration": 10,
    "start_time": "2025-05-01T00:16:59.983Z"
   },
   {
    "duration": 8,
    "start_time": "2025-05-01T00:16:59.994Z"
   },
   {
    "duration": 23,
    "start_time": "2025-05-01T00:17:00.006Z"
   },
   {
    "duration": 11,
    "start_time": "2025-05-01T00:17:00.031Z"
   },
   {
    "duration": 9,
    "start_time": "2025-05-01T00:17:00.044Z"
   },
   {
    "duration": 18,
    "start_time": "2025-05-01T00:17:00.055Z"
   },
   {
    "duration": 12,
    "start_time": "2025-05-01T00:17:00.075Z"
   },
   {
    "duration": 42,
    "start_time": "2025-05-01T00:17:00.089Z"
   },
   {
    "duration": 6,
    "start_time": "2025-05-01T00:17:00.133Z"
   },
   {
    "duration": 16,
    "start_time": "2025-05-01T00:17:00.140Z"
   },
   {
    "duration": 7,
    "start_time": "2025-05-01T00:17:00.158Z"
   },
   {
    "duration": 25,
    "start_time": "2025-05-01T00:17:00.170Z"
   },
   {
    "duration": 58,
    "start_time": "2025-05-01T00:17:00.197Z"
   },
   {
    "duration": 13,
    "start_time": "2025-05-01T00:17:00.257Z"
   },
   {
    "duration": 8,
    "start_time": "2025-05-01T00:17:00.271Z"
   },
   {
    "duration": 43,
    "start_time": "2025-05-01T00:17:00.281Z"
   },
   {
    "duration": 21,
    "start_time": "2025-05-01T00:17:00.326Z"
   },
   {
    "duration": 14,
    "start_time": "2025-05-01T00:17:00.349Z"
   },
   {
    "duration": 7,
    "start_time": "2025-05-01T00:17:00.365Z"
   },
   {
    "duration": 21,
    "start_time": "2025-05-01T00:17:00.374Z"
   },
   {
    "duration": 23,
    "start_time": "2025-05-01T00:17:00.425Z"
   },
   {
    "duration": 8,
    "start_time": "2025-05-01T00:17:00.450Z"
   },
   {
    "duration": 6,
    "start_time": "2025-05-01T00:17:00.460Z"
   },
   {
    "duration": 7,
    "start_time": "2025-05-01T00:17:00.468Z"
   },
   {
    "duration": 56,
    "start_time": "2025-05-01T00:17:00.477Z"
   },
   {
    "duration": 23,
    "start_time": "2025-05-01T00:17:00.535Z"
   },
   {
    "duration": 6,
    "start_time": "2025-05-01T00:17:00.560Z"
   },
   {
    "duration": 19,
    "start_time": "2025-05-01T00:17:00.568Z"
   },
   {
    "duration": 36,
    "start_time": "2025-05-01T00:17:00.589Z"
   },
   {
    "duration": 23,
    "start_time": "2025-05-01T00:17:00.627Z"
   },
   {
    "duration": 10,
    "start_time": "2025-05-01T00:17:00.652Z"
   },
   {
    "duration": 8,
    "start_time": "2025-05-01T00:17:00.664Z"
   },
   {
    "duration": 11,
    "start_time": "2025-05-01T00:17:00.674Z"
   },
   {
    "duration": 56,
    "start_time": "2025-05-01T00:17:00.687Z"
   },
   {
    "duration": 9,
    "start_time": "2025-05-01T00:17:00.745Z"
   },
   {
    "duration": 11,
    "start_time": "2025-05-01T00:17:00.756Z"
   },
   {
    "duration": 11,
    "start_time": "2025-05-01T00:17:00.770Z"
   },
   {
    "duration": 10,
    "start_time": "2025-05-01T00:17:00.782Z"
   },
   {
    "duration": 12,
    "start_time": "2025-05-01T00:17:00.826Z"
   },
   {
    "duration": 55,
    "start_time": "2025-05-01T00:17:02.484Z"
   },
   {
    "duration": 57,
    "start_time": "2025-05-01T00:19:11.415Z"
   },
   {
    "duration": 99,
    "start_time": "2025-05-01T00:19:59.006Z"
   },
   {
    "duration": 52,
    "start_time": "2025-05-01T00:20:19.742Z"
   },
   {
    "duration": 50,
    "start_time": "2025-05-01T00:20:44.543Z"
   },
   {
    "duration": 24,
    "start_time": "2025-05-01T00:22:00.117Z"
   },
   {
    "duration": 10,
    "start_time": "2025-05-01T00:22:06.365Z"
   },
   {
    "duration": 10,
    "start_time": "2025-05-01T00:22:19.905Z"
   },
   {
    "duration": 11,
    "start_time": "2025-05-01T00:22:57.937Z"
   },
   {
    "duration": 10,
    "start_time": "2025-05-01T00:23:10.077Z"
   },
   {
    "duration": 12,
    "start_time": "2025-05-01T00:23:18.296Z"
   },
   {
    "duration": 19,
    "start_time": "2025-05-01T00:23:25.618Z"
   },
   {
    "duration": 10,
    "start_time": "2025-05-01T00:23:30.249Z"
   },
   {
    "duration": 11,
    "start_time": "2025-05-01T00:25:53.056Z"
   },
   {
    "duration": 12,
    "start_time": "2025-05-01T00:26:04.350Z"
   },
   {
    "duration": 50,
    "start_time": "2025-05-01T00:26:40.364Z"
   },
   {
    "duration": 43,
    "start_time": "2025-05-01T00:27:17.406Z"
   },
   {
    "duration": 46,
    "start_time": "2025-05-01T00:27:44.138Z"
   },
   {
    "duration": 42,
    "start_time": "2025-05-01T00:28:03.377Z"
   },
   {
    "duration": 3,
    "start_time": "2025-05-01T00:28:07.749Z"
   },
   {
    "duration": 168,
    "start_time": "2025-05-01T00:28:07.754Z"
   },
   {
    "duration": 11,
    "start_time": "2025-05-01T00:28:07.923Z"
   },
   {
    "duration": 8,
    "start_time": "2025-05-01T00:28:07.935Z"
   },
   {
    "duration": 7,
    "start_time": "2025-05-01T00:28:07.945Z"
   },
   {
    "duration": 9,
    "start_time": "2025-05-01T00:28:07.954Z"
   },
   {
    "duration": 8,
    "start_time": "2025-05-01T00:28:07.964Z"
   },
   {
    "duration": 7,
    "start_time": "2025-05-01T00:28:07.974Z"
   },
   {
    "duration": 46,
    "start_time": "2025-05-01T00:28:07.983Z"
   },
   {
    "duration": 11,
    "start_time": "2025-05-01T00:28:08.031Z"
   },
   {
    "duration": 4,
    "start_time": "2025-05-01T00:28:08.046Z"
   },
   {
    "duration": 14,
    "start_time": "2025-05-01T00:28:08.052Z"
   },
   {
    "duration": 8,
    "start_time": "2025-05-01T00:28:08.067Z"
   },
   {
    "duration": 52,
    "start_time": "2025-05-01T00:28:08.077Z"
   },
   {
    "duration": 28,
    "start_time": "2025-05-01T00:28:08.131Z"
   },
   {
    "duration": 12,
    "start_time": "2025-05-01T00:28:08.162Z"
   },
   {
    "duration": 8,
    "start_time": "2025-05-01T00:28:08.175Z"
   },
   {
    "duration": 47,
    "start_time": "2025-05-01T00:28:08.184Z"
   },
   {
    "duration": 16,
    "start_time": "2025-05-01T00:28:08.232Z"
   },
   {
    "duration": 14,
    "start_time": "2025-05-01T00:28:08.249Z"
   },
   {
    "duration": 6,
    "start_time": "2025-05-01T00:28:08.264Z"
   },
   {
    "duration": 20,
    "start_time": "2025-05-01T00:28:08.273Z"
   },
   {
    "duration": 52,
    "start_time": "2025-05-01T00:28:08.294Z"
   },
   {
    "duration": 8,
    "start_time": "2025-05-01T00:28:08.348Z"
   },
   {
    "duration": 6,
    "start_time": "2025-05-01T00:28:08.358Z"
   },
   {
    "duration": 7,
    "start_time": "2025-05-01T00:28:08.366Z"
   },
   {
    "duration": 162,
    "start_time": "2025-05-01T00:28:08.375Z"
   },
   {
    "duration": 23,
    "start_time": "2025-05-01T00:28:08.540Z"
   },
   {
    "duration": 5,
    "start_time": "2025-05-01T00:28:08.567Z"
   },
   {
    "duration": 19,
    "start_time": "2025-05-01T00:28:08.574Z"
   },
   {
    "duration": 30,
    "start_time": "2025-05-01T00:28:08.595Z"
   },
   {
    "duration": 20,
    "start_time": "2025-05-01T00:28:08.627Z"
   },
   {
    "duration": 9,
    "start_time": "2025-05-01T00:28:08.649Z"
   },
   {
    "duration": 10,
    "start_time": "2025-05-01T00:28:08.659Z"
   },
   {
    "duration": 11,
    "start_time": "2025-05-01T00:28:08.671Z"
   },
   {
    "duration": 54,
    "start_time": "2025-05-01T00:28:08.684Z"
   },
   {
    "duration": 9,
    "start_time": "2025-05-01T00:28:08.740Z"
   },
   {
    "duration": 11,
    "start_time": "2025-05-01T00:28:08.750Z"
   },
   {
    "duration": 11,
    "start_time": "2025-05-01T00:28:08.762Z"
   },
   {
    "duration": 10,
    "start_time": "2025-05-01T00:28:08.774Z"
   },
   {
    "duration": 39,
    "start_time": "2025-05-01T00:28:08.786Z"
   },
   {
    "duration": 9,
    "start_time": "2025-05-01T00:28:08.827Z"
   },
   {
    "duration": 270,
    "start_time": "2025-05-01T00:28:08.837Z"
   },
   {
    "duration": 175,
    "start_time": "2025-05-01T00:28:09.109Z"
   },
   {
    "duration": 6,
    "start_time": "2025-05-01T00:28:09.286Z"
   },
   {
    "duration": 116,
    "start_time": "2025-05-01T00:28:09.294Z"
   },
   {
    "duration": 103,
    "start_time": "2025-05-01T00:28:09.411Z"
   },
   {
    "duration": 14,
    "start_time": "2025-05-01T00:28:09.515Z"
   },
   {
    "duration": 122,
    "start_time": "2025-05-01T00:28:09.530Z"
   },
   {
    "duration": 6,
    "start_time": "2025-05-01T00:28:09.654Z"
   },
   {
    "duration": 110,
    "start_time": "2025-05-01T00:28:09.662Z"
   },
   {
    "duration": 8,
    "start_time": "2025-05-01T00:28:09.774Z"
   },
   {
    "duration": 2,
    "start_time": "2025-05-01T00:28:09.784Z"
   },
   {
    "duration": 8,
    "start_time": "2025-05-01T00:28:31.674Z"
   },
   {
    "duration": 18,
    "start_time": "2025-05-01T00:29:50.839Z"
   },
   {
    "duration": 3,
    "start_time": "2025-05-01T00:29:56.687Z"
   },
   {
    "duration": 149,
    "start_time": "2025-05-01T00:29:56.692Z"
   },
   {
    "duration": 9,
    "start_time": "2025-05-01T00:29:56.842Z"
   },
   {
    "duration": 7,
    "start_time": "2025-05-01T00:29:56.854Z"
   },
   {
    "duration": 8,
    "start_time": "2025-05-01T00:29:56.863Z"
   },
   {
    "duration": 8,
    "start_time": "2025-05-01T00:29:56.872Z"
   },
   {
    "duration": 8,
    "start_time": "2025-05-01T00:29:56.882Z"
   },
   {
    "duration": 8,
    "start_time": "2025-05-01T00:29:56.924Z"
   },
   {
    "duration": 11,
    "start_time": "2025-05-01T00:29:56.935Z"
   },
   {
    "duration": 10,
    "start_time": "2025-05-01T00:29:56.948Z"
   },
   {
    "duration": 4,
    "start_time": "2025-05-01T00:29:56.960Z"
   },
   {
    "duration": 15,
    "start_time": "2025-05-01T00:29:56.966Z"
   },
   {
    "duration": 41,
    "start_time": "2025-05-01T00:29:56.983Z"
   },
   {
    "duration": 25,
    "start_time": "2025-05-01T00:29:57.025Z"
   },
   {
    "duration": 27,
    "start_time": "2025-05-01T00:29:57.052Z"
   },
   {
    "duration": 13,
    "start_time": "2025-05-01T00:29:57.080Z"
   },
   {
    "duration": 36,
    "start_time": "2025-05-01T00:29:57.094Z"
   },
   {
    "duration": 12,
    "start_time": "2025-05-01T00:29:57.131Z"
   },
   {
    "duration": 42,
    "start_time": "2025-05-01T00:29:57.144Z"
   },
   {
    "duration": 13,
    "start_time": "2025-05-01T00:29:57.188Z"
   },
   {
    "duration": 26,
    "start_time": "2025-05-01T00:29:57.203Z"
   },
   {
    "duration": 20,
    "start_time": "2025-05-01T00:29:57.231Z"
   },
   {
    "duration": 19,
    "start_time": "2025-05-01T00:29:57.253Z"
   },
   {
    "duration": 7,
    "start_time": "2025-05-01T00:29:57.276Z"
   },
   {
    "duration": 7,
    "start_time": "2025-05-01T00:29:57.285Z"
   },
   {
    "duration": 7,
    "start_time": "2025-05-01T00:29:57.325Z"
   },
   {
    "duration": 27,
    "start_time": "2025-05-01T00:29:57.333Z"
   },
   {
    "duration": 22,
    "start_time": "2025-05-01T00:29:57.362Z"
   },
   {
    "duration": 6,
    "start_time": "2025-05-01T00:29:57.385Z"
   },
   {
    "duration": 45,
    "start_time": "2025-05-01T00:29:57.393Z"
   },
   {
    "duration": 6,
    "start_time": "2025-05-01T00:29:57.440Z"
   },
   {
    "duration": 20,
    "start_time": "2025-05-01T00:29:57.448Z"
   },
   {
    "duration": 10,
    "start_time": "2025-05-01T00:29:57.470Z"
   },
   {
    "duration": 10,
    "start_time": "2025-05-01T00:29:57.482Z"
   },
   {
    "duration": 43,
    "start_time": "2025-05-01T00:29:57.493Z"
   },
   {
    "duration": 19,
    "start_time": "2025-05-01T00:29:57.537Z"
   },
   {
    "duration": 8,
    "start_time": "2025-05-01T00:29:57.558Z"
   },
   {
    "duration": 11,
    "start_time": "2025-05-01T00:29:57.568Z"
   },
   {
    "duration": 44,
    "start_time": "2025-05-01T00:29:57.581Z"
   },
   {
    "duration": 11,
    "start_time": "2025-05-01T00:29:57.626Z"
   },
   {
    "duration": 10,
    "start_time": "2025-05-01T00:29:57.638Z"
   },
   {
    "duration": 8,
    "start_time": "2025-05-01T00:29:57.650Z"
   },
   {
    "duration": 289,
    "start_time": "2025-05-01T00:29:57.660Z"
   },
   {
    "duration": 166,
    "start_time": "2025-05-01T00:29:57.951Z"
   },
   {
    "duration": 8,
    "start_time": "2025-05-01T00:29:58.123Z"
   },
   {
    "duration": 223,
    "start_time": "2025-05-01T00:29:58.133Z"
   },
   {
    "duration": 103,
    "start_time": "2025-05-01T00:29:58.358Z"
   },
   {
    "duration": 6,
    "start_time": "2025-05-01T00:29:58.463Z"
   },
   {
    "duration": 115,
    "start_time": "2025-05-01T00:29:58.470Z"
   },
   {
    "duration": 7,
    "start_time": "2025-05-01T00:29:58.586Z"
   },
   {
    "duration": 104,
    "start_time": "2025-05-01T00:29:58.595Z"
   },
   {
    "duration": 8,
    "start_time": "2025-05-01T00:29:58.701Z"
   },
   {
    "duration": 2,
    "start_time": "2025-05-01T00:29:58.723Z"
   },
   {
    "duration": 12,
    "start_time": "2025-05-01T00:31:45.478Z"
   },
   {
    "duration": 12,
    "start_time": "2025-05-01T00:32:20.407Z"
   },
   {
    "duration": 4,
    "start_time": "2025-05-01T00:33:10.969Z"
   },
   {
    "duration": 41,
    "start_time": "2025-05-01T00:34:01.103Z"
   },
   {
    "duration": 49,
    "start_time": "2025-05-01T00:35:29.801Z"
   },
   {
    "duration": 21,
    "start_time": "2025-05-01T00:35:52.197Z"
   },
   {
    "duration": 10,
    "start_time": "2025-05-01T00:36:15.533Z"
   },
   {
    "duration": 4,
    "start_time": "2025-05-01T00:40:28.466Z"
   },
   {
    "duration": 68,
    "start_time": "2025-05-01T00:44:22.142Z"
   },
   {
    "duration": 34,
    "start_time": "2025-05-01T00:44:50.625Z"
   },
   {
    "duration": 132,
    "start_time": "2025-05-01T00:45:13.445Z"
   },
   {
    "duration": 46,
    "start_time": "2025-05-01T00:45:27.831Z"
   },
   {
    "duration": 3,
    "start_time": "2025-05-01T00:45:47.253Z"
   },
   {
    "duration": 155,
    "start_time": "2025-05-01T00:45:47.259Z"
   },
   {
    "duration": 10,
    "start_time": "2025-05-01T00:45:47.415Z"
   },
   {
    "duration": 7,
    "start_time": "2025-05-01T00:45:47.427Z"
   },
   {
    "duration": 8,
    "start_time": "2025-05-01T00:45:47.436Z"
   },
   {
    "duration": 8,
    "start_time": "2025-05-01T00:45:47.446Z"
   },
   {
    "duration": 8,
    "start_time": "2025-05-01T00:45:47.455Z"
   },
   {
    "duration": 9,
    "start_time": "2025-05-01T00:45:47.464Z"
   },
   {
    "duration": 13,
    "start_time": "2025-05-01T00:45:47.475Z"
   },
   {
    "duration": 12,
    "start_time": "2025-05-01T00:45:47.524Z"
   },
   {
    "duration": 5,
    "start_time": "2025-05-01T00:45:47.538Z"
   },
   {
    "duration": 15,
    "start_time": "2025-05-01T00:45:47.545Z"
   },
   {
    "duration": 8,
    "start_time": "2025-05-01T00:45:47.563Z"
   },
   {
    "duration": 57,
    "start_time": "2025-05-01T00:45:47.575Z"
   },
   {
    "duration": 26,
    "start_time": "2025-05-01T00:45:47.634Z"
   },
   {
    "duration": 15,
    "start_time": "2025-05-01T00:45:47.661Z"
   },
   {
    "duration": 9,
    "start_time": "2025-05-01T00:45:47.678Z"
   },
   {
    "duration": 35,
    "start_time": "2025-05-01T00:45:47.689Z"
   },
   {
    "duration": 45,
    "start_time": "2025-05-01T00:45:47.726Z"
   },
   {
    "duration": 13,
    "start_time": "2025-05-01T00:45:47.773Z"
   },
   {
    "duration": 6,
    "start_time": "2025-05-01T00:45:47.788Z"
   },
   {
    "duration": 36,
    "start_time": "2025-05-01T00:45:47.797Z"
   },
   {
    "duration": 25,
    "start_time": "2025-05-01T00:45:47.835Z"
   },
   {
    "duration": 8,
    "start_time": "2025-05-01T00:45:47.862Z"
   },
   {
    "duration": 7,
    "start_time": "2025-05-01T00:45:47.872Z"
   },
   {
    "duration": 7,
    "start_time": "2025-05-01T00:45:47.880Z"
   },
   {
    "duration": 59,
    "start_time": "2025-05-01T00:45:47.888Z"
   },
   {
    "duration": 26,
    "start_time": "2025-05-01T00:45:47.950Z"
   },
   {
    "duration": 6,
    "start_time": "2025-05-01T00:45:47.978Z"
   },
   {
    "duration": 45,
    "start_time": "2025-05-01T00:45:47.986Z"
   },
   {
    "duration": 9,
    "start_time": "2025-05-01T00:45:48.033Z"
   },
   {
    "duration": 8,
    "start_time": "2025-05-01T00:45:48.044Z"
   },
   {
    "duration": 21,
    "start_time": "2025-05-01T00:45:48.053Z"
   },
   {
    "duration": 9,
    "start_time": "2025-05-01T00:45:48.076Z"
   },
   {
    "duration": 45,
    "start_time": "2025-05-01T00:45:48.086Z"
   },
   {
    "duration": 12,
    "start_time": "2025-05-01T00:45:48.132Z"
   },
   {
    "duration": 20,
    "start_time": "2025-05-01T00:45:48.146Z"
   },
   {
    "duration": 5,
    "start_time": "2025-05-01T00:45:48.168Z"
   },
   {
    "duration": 0,
    "start_time": "2025-05-01T00:45:48.175Z"
   },
   {
    "duration": 0,
    "start_time": "2025-05-01T00:45:48.177Z"
   },
   {
    "duration": 0,
    "start_time": "2025-05-01T00:45:48.177Z"
   },
   {
    "duration": 0,
    "start_time": "2025-05-01T00:45:48.179Z"
   },
   {
    "duration": 0,
    "start_time": "2025-05-01T00:45:48.179Z"
   },
   {
    "duration": 0,
    "start_time": "2025-05-01T00:45:48.180Z"
   },
   {
    "duration": 0,
    "start_time": "2025-05-01T00:45:48.181Z"
   },
   {
    "duration": 0,
    "start_time": "2025-05-01T00:45:48.182Z"
   },
   {
    "duration": 0,
    "start_time": "2025-05-01T00:45:48.192Z"
   },
   {
    "duration": 0,
    "start_time": "2025-05-01T00:45:48.194Z"
   },
   {
    "duration": 0,
    "start_time": "2025-05-01T00:45:48.195Z"
   },
   {
    "duration": 0,
    "start_time": "2025-05-01T00:45:48.196Z"
   },
   {
    "duration": 0,
    "start_time": "2025-05-01T00:45:48.223Z"
   },
   {
    "duration": 0,
    "start_time": "2025-05-01T00:45:48.225Z"
   },
   {
    "duration": 0,
    "start_time": "2025-05-01T00:45:48.225Z"
   },
   {
    "duration": 0,
    "start_time": "2025-05-01T00:45:48.227Z"
   },
   {
    "duration": 48,
    "start_time": "2025-05-01T00:45:52.553Z"
   },
   {
    "duration": 3,
    "start_time": "2025-05-01T00:46:13.943Z"
   },
   {
    "duration": 190,
    "start_time": "2025-05-01T00:46:13.949Z"
   },
   {
    "duration": 9,
    "start_time": "2025-05-01T00:46:14.141Z"
   },
   {
    "duration": 8,
    "start_time": "2025-05-01T00:46:14.152Z"
   },
   {
    "duration": 8,
    "start_time": "2025-05-01T00:46:14.163Z"
   },
   {
    "duration": 9,
    "start_time": "2025-05-01T00:46:14.173Z"
   },
   {
    "duration": 8,
    "start_time": "2025-05-01T00:46:14.184Z"
   },
   {
    "duration": 37,
    "start_time": "2025-05-01T00:46:14.194Z"
   },
   {
    "duration": 15,
    "start_time": "2025-05-01T00:46:14.234Z"
   },
   {
    "duration": 12,
    "start_time": "2025-05-01T00:46:14.251Z"
   },
   {
    "duration": 5,
    "start_time": "2025-05-01T00:46:14.265Z"
   },
   {
    "duration": 15,
    "start_time": "2025-05-01T00:46:14.272Z"
   },
   {
    "duration": 33,
    "start_time": "2025-05-01T00:46:14.292Z"
   },
   {
    "duration": 35,
    "start_time": "2025-05-01T00:46:14.326Z"
   },
   {
    "duration": 32,
    "start_time": "2025-05-01T00:46:14.363Z"
   },
   {
    "duration": 32,
    "start_time": "2025-05-01T00:46:14.397Z"
   },
   {
    "duration": 8,
    "start_time": "2025-05-01T00:46:14.432Z"
   },
   {
    "duration": 15,
    "start_time": "2025-05-01T00:46:14.443Z"
   },
   {
    "duration": 43,
    "start_time": "2025-05-01T00:46:14.461Z"
   },
   {
    "duration": 28,
    "start_time": "2025-05-01T00:46:14.506Z"
   },
   {
    "duration": 6,
    "start_time": "2025-05-01T00:46:14.536Z"
   },
   {
    "duration": 20,
    "start_time": "2025-05-01T00:46:14.544Z"
   },
   {
    "duration": 25,
    "start_time": "2025-05-01T00:46:14.566Z"
   },
   {
    "duration": 31,
    "start_time": "2025-05-01T00:46:14.593Z"
   },
   {
    "duration": 7,
    "start_time": "2025-05-01T00:46:14.626Z"
   },
   {
    "duration": 7,
    "start_time": "2025-05-01T00:46:14.634Z"
   },
   {
    "duration": 154,
    "start_time": "2025-05-01T00:46:14.642Z"
   },
   {
    "duration": 31,
    "start_time": "2025-05-01T00:46:14.798Z"
   },
   {
    "duration": 6,
    "start_time": "2025-05-01T00:46:14.831Z"
   },
   {
    "duration": 29,
    "start_time": "2025-05-01T00:46:14.839Z"
   },
   {
    "duration": 11,
    "start_time": "2025-05-01T00:46:14.872Z"
   },
   {
    "duration": 9,
    "start_time": "2025-05-01T00:46:14.887Z"
   },
   {
    "duration": 44,
    "start_time": "2025-05-01T00:46:14.897Z"
   },
   {
    "duration": 9,
    "start_time": "2025-05-01T00:46:14.943Z"
   },
   {
    "duration": 11,
    "start_time": "2025-05-01T00:46:14.953Z"
   },
   {
    "duration": 11,
    "start_time": "2025-05-01T00:46:14.966Z"
   },
   {
    "duration": 46,
    "start_time": "2025-05-01T00:46:14.982Z"
   },
   {
    "duration": 3,
    "start_time": "2025-05-01T00:46:15.030Z"
   },
   {
    "duration": 0,
    "start_time": "2025-05-01T00:46:15.035Z"
   },
   {
    "duration": 0,
    "start_time": "2025-05-01T00:46:15.036Z"
   },
   {
    "duration": 0,
    "start_time": "2025-05-01T00:46:15.037Z"
   },
   {
    "duration": 0,
    "start_time": "2025-05-01T00:46:15.038Z"
   },
   {
    "duration": 0,
    "start_time": "2025-05-01T00:46:15.039Z"
   },
   {
    "duration": 0,
    "start_time": "2025-05-01T00:46:15.040Z"
   },
   {
    "duration": 0,
    "start_time": "2025-05-01T00:46:15.041Z"
   },
   {
    "duration": 0,
    "start_time": "2025-05-01T00:46:15.042Z"
   },
   {
    "duration": 0,
    "start_time": "2025-05-01T00:46:15.043Z"
   },
   {
    "duration": 0,
    "start_time": "2025-05-01T00:46:15.044Z"
   },
   {
    "duration": 0,
    "start_time": "2025-05-01T00:46:15.046Z"
   },
   {
    "duration": 0,
    "start_time": "2025-05-01T00:46:15.047Z"
   },
   {
    "duration": 0,
    "start_time": "2025-05-01T00:46:15.048Z"
   },
   {
    "duration": 0,
    "start_time": "2025-05-01T00:46:15.049Z"
   },
   {
    "duration": 0,
    "start_time": "2025-05-01T00:46:15.050Z"
   },
   {
    "duration": 0,
    "start_time": "2025-05-01T00:46:15.051Z"
   },
   {
    "duration": 265,
    "start_time": "2025-05-01T00:46:17.447Z"
   },
   {
    "duration": 18,
    "start_time": "2025-05-01T00:46:24.566Z"
   },
   {
    "duration": 27,
    "start_time": "2025-05-01T00:46:35.505Z"
   },
   {
    "duration": 8,
    "start_time": "2025-05-01T00:46:37.482Z"
   },
   {
    "duration": 22,
    "start_time": "2025-05-01T00:46:39.541Z"
   },
   {
    "duration": 11,
    "start_time": "2025-05-01T00:46:41.573Z"
   },
   {
    "duration": 9,
    "start_time": "2025-05-01T00:46:43.898Z"
   },
   {
    "duration": 29,
    "start_time": "2025-05-01T00:46:45.369Z"
   },
   {
    "duration": 13,
    "start_time": "2025-05-01T00:46:47.231Z"
   },
   {
    "duration": 12,
    "start_time": "2025-05-01T00:46:49.091Z"
   },
   {
    "duration": 11,
    "start_time": "2025-05-01T00:46:56.238Z"
   },
   {
    "duration": 15,
    "start_time": "2025-05-01T00:46:58.413Z"
   },
   {
    "duration": 23,
    "start_time": "2025-05-01T00:47:01.339Z"
   },
   {
    "duration": 4,
    "start_time": "2025-05-01T00:47:04.618Z"
   },
   {
    "duration": 13,
    "start_time": "2025-05-01T00:47:18.144Z"
   },
   {
    "duration": 14,
    "start_time": "2025-05-01T00:47:19.745Z"
   },
   {
    "duration": 14,
    "start_time": "2025-05-01T00:47:22.306Z"
   },
   {
    "duration": 13,
    "start_time": "2025-05-01T00:47:24.140Z"
   },
   {
    "duration": 9,
    "start_time": "2025-05-01T00:47:31.307Z"
   },
   {
    "duration": 337,
    "start_time": "2025-05-01T00:47:38.270Z"
   },
   {
    "duration": 166,
    "start_time": "2025-05-01T00:47:42.019Z"
   },
   {
    "duration": 6,
    "start_time": "2025-05-01T00:47:44.642Z"
   },
   {
    "duration": 119,
    "start_time": "2025-05-01T00:47:46.274Z"
   },
   {
    "duration": 98,
    "start_time": "2025-05-01T00:47:48.861Z"
   },
   {
    "duration": 6,
    "start_time": "2025-05-01T00:47:51.341Z"
   },
   {
    "duration": 114,
    "start_time": "2025-05-01T00:47:53.696Z"
   },
   {
    "duration": 6,
    "start_time": "2025-05-01T00:47:56.472Z"
   },
   {
    "duration": 101,
    "start_time": "2025-05-01T00:47:58.658Z"
   },
   {
    "duration": 44,
    "start_time": "2025-05-01T00:48:01.435Z"
   },
   {
    "duration": 10,
    "start_time": "2025-05-01T00:48:10.020Z"
   },
   {
    "duration": 433,
    "start_time": "2025-05-01T00:48:22.217Z"
   },
   {
    "duration": 10,
    "start_time": "2025-05-01T00:48:31.359Z"
   },
   {
    "duration": 9,
    "start_time": "2025-05-01T00:52:04.338Z"
   },
   {
    "duration": 12,
    "start_time": "2025-05-01T00:53:41.130Z"
   },
   {
    "duration": 270,
    "start_time": "2025-05-01T00:53:41.144Z"
   },
   {
    "duration": 160,
    "start_time": "2025-05-01T00:53:41.424Z"
   },
   {
    "duration": 6,
    "start_time": "2025-05-01T00:53:41.588Z"
   },
   {
    "duration": 109,
    "start_time": "2025-05-01T00:53:41.596Z"
   },
   {
    "duration": 104,
    "start_time": "2025-05-01T00:53:41.707Z"
   },
   {
    "duration": 15,
    "start_time": "2025-05-01T00:53:41.812Z"
   },
   {
    "duration": 110,
    "start_time": "2025-05-01T00:53:41.829Z"
   },
   {
    "duration": 5,
    "start_time": "2025-05-01T00:53:41.941Z"
   },
   {
    "duration": 105,
    "start_time": "2025-05-01T00:53:41.949Z"
   },
   {
    "duration": 10,
    "start_time": "2025-05-01T00:53:42.055Z"
   },
   {
    "duration": 2,
    "start_time": "2025-05-01T00:53:42.066Z"
   },
   {
    "duration": 22,
    "start_time": "2025-05-01T00:54:13.719Z"
   },
   {
    "duration": 18,
    "start_time": "2025-05-01T00:54:42.785Z"
   },
   {
    "duration": 35,
    "start_time": "2025-05-01T00:55:51.273Z"
   },
   {
    "duration": 3,
    "start_time": "2025-05-01T00:56:20.272Z"
   },
   {
    "duration": 167,
    "start_time": "2025-05-01T00:56:20.277Z"
   },
   {
    "duration": 8,
    "start_time": "2025-05-01T00:56:20.446Z"
   },
   {
    "duration": 7,
    "start_time": "2025-05-01T00:56:20.457Z"
   },
   {
    "duration": 8,
    "start_time": "2025-05-01T00:56:20.465Z"
   },
   {
    "duration": 8,
    "start_time": "2025-05-01T00:56:20.475Z"
   },
   {
    "duration": 40,
    "start_time": "2025-05-01T00:56:20.485Z"
   },
   {
    "duration": 10,
    "start_time": "2025-05-01T00:56:20.528Z"
   },
   {
    "duration": 13,
    "start_time": "2025-05-01T00:56:20.539Z"
   },
   {
    "duration": 12,
    "start_time": "2025-05-01T00:56:20.555Z"
   },
   {
    "duration": 5,
    "start_time": "2025-05-01T00:56:20.568Z"
   },
   {
    "duration": 49,
    "start_time": "2025-05-01T00:56:20.575Z"
   },
   {
    "duration": 8,
    "start_time": "2025-05-01T00:56:20.626Z"
   },
   {
    "duration": 25,
    "start_time": "2025-05-01T00:56:20.637Z"
   },
   {
    "duration": 31,
    "start_time": "2025-05-01T00:56:20.664Z"
   },
   {
    "duration": 38,
    "start_time": "2025-05-01T00:56:20.697Z"
   },
   {
    "duration": 7,
    "start_time": "2025-05-01T00:56:20.737Z"
   },
   {
    "duration": 12,
    "start_time": "2025-05-01T00:56:20.746Z"
   },
   {
    "duration": 67,
    "start_time": "2025-05-01T00:56:20.760Z"
   },
   {
    "duration": 14,
    "start_time": "2025-05-01T00:56:20.829Z"
   },
   {
    "duration": 8,
    "start_time": "2025-05-01T00:56:20.845Z"
   },
   {
    "duration": 24,
    "start_time": "2025-05-01T00:56:20.854Z"
   },
   {
    "duration": 56,
    "start_time": "2025-05-01T00:56:20.881Z"
   },
   {
    "duration": 8,
    "start_time": "2025-05-01T00:56:20.939Z"
   },
   {
    "duration": 7,
    "start_time": "2025-05-01T00:56:20.948Z"
   },
   {
    "duration": 8,
    "start_time": "2025-05-01T00:56:20.957Z"
   },
   {
    "duration": 26,
    "start_time": "2025-05-01T00:56:20.966Z"
   },
   {
    "duration": 25,
    "start_time": "2025-05-01T00:56:21.025Z"
   },
   {
    "duration": 6,
    "start_time": "2025-05-01T00:56:21.052Z"
   },
   {
    "duration": 23,
    "start_time": "2025-05-01T00:56:21.060Z"
   },
   {
    "duration": 8,
    "start_time": "2025-05-01T00:56:21.085Z"
   },
   {
    "duration": 36,
    "start_time": "2025-05-01T00:56:21.095Z"
   },
   {
    "duration": 23,
    "start_time": "2025-05-01T00:56:21.133Z"
   },
   {
    "duration": 10,
    "start_time": "2025-05-01T00:56:21.158Z"
   },
   {
    "duration": 15,
    "start_time": "2025-05-01T00:56:21.170Z"
   },
   {
    "duration": 39,
    "start_time": "2025-05-01T00:56:21.187Z"
   },
   {
    "duration": 20,
    "start_time": "2025-05-01T00:56:21.228Z"
   },
   {
    "duration": 32,
    "start_time": "2025-05-01T00:56:23.963Z"
   },
   {
    "duration": 9,
    "start_time": "2025-05-01T00:57:03.425Z"
   },
   {
    "duration": 11,
    "start_time": "2025-05-01T00:57:11.775Z"
   },
   {
    "duration": 31,
    "start_time": "2025-05-01T00:58:55.465Z"
   },
   {
    "duration": 32,
    "start_time": "2025-05-01T00:58:56.838Z"
   },
   {
    "duration": 32,
    "start_time": "2025-05-01T01:02:51.836Z"
   },
   {
    "duration": 34,
    "start_time": "2025-05-01T01:02:52.734Z"
   },
   {
    "duration": 35,
    "start_time": "2025-05-01T01:03:26.177Z"
   },
   {
    "duration": 22,
    "start_time": "2025-05-01T01:03:39.328Z"
   },
   {
    "duration": 8,
    "start_time": "2025-05-01T01:04:08.567Z"
   },
   {
    "duration": 7,
    "start_time": "2025-05-01T01:04:26.347Z"
   },
   {
    "duration": 6,
    "start_time": "2025-05-01T01:04:35.213Z"
   },
   {
    "duration": 4,
    "start_time": "2025-05-01T01:04:42.298Z"
   },
   {
    "duration": 12,
    "start_time": "2025-05-01T01:04:42.304Z"
   },
   {
    "duration": 10,
    "start_time": "2025-05-01T01:04:42.318Z"
   },
   {
    "duration": 11,
    "start_time": "2025-05-01T01:04:42.330Z"
   },
   {
    "duration": 10,
    "start_time": "2025-05-01T01:04:42.343Z"
   },
   {
    "duration": 8,
    "start_time": "2025-05-01T01:04:42.354Z"
   },
   {
    "duration": 407,
    "start_time": "2025-05-01T01:04:42.364Z"
   },
   {
    "duration": 179,
    "start_time": "2025-05-01T01:04:42.823Z"
   },
   {
    "duration": 7,
    "start_time": "2025-05-01T01:04:43.004Z"
   },
   {
    "duration": 115,
    "start_time": "2025-05-01T01:04:43.012Z"
   },
   {
    "duration": 106,
    "start_time": "2025-05-01T01:04:43.129Z"
   },
   {
    "duration": 6,
    "start_time": "2025-05-01T01:04:43.237Z"
   },
   {
    "duration": 119,
    "start_time": "2025-05-01T01:04:43.245Z"
   },
   {
    "duration": 7,
    "start_time": "2025-05-01T01:04:43.368Z"
   },
   {
    "duration": 101,
    "start_time": "2025-05-01T01:04:43.376Z"
   },
   {
    "duration": 8,
    "start_time": "2025-05-01T01:04:43.479Z"
   },
   {
    "duration": 3,
    "start_time": "2025-05-01T01:04:43.488Z"
   },
   {
    "duration": 9,
    "start_time": "2025-05-01T01:05:10.500Z"
   },
   {
    "duration": 9,
    "start_time": "2025-05-01T01:05:12.418Z"
   },
   {
    "duration": 9,
    "start_time": "2025-05-01T01:05:13.950Z"
   },
   {
    "duration": 11,
    "start_time": "2025-05-01T01:07:07.084Z"
   },
   {
    "duration": 14,
    "start_time": "2025-05-01T01:07:15.162Z"
   },
   {
    "duration": 10,
    "start_time": "2025-05-01T01:07:15.178Z"
   },
   {
    "duration": 259,
    "start_time": "2025-05-01T01:07:15.190Z"
   },
   {
    "duration": 312,
    "start_time": "2025-05-01T01:07:15.451Z"
   },
   {
    "duration": 7,
    "start_time": "2025-05-01T01:07:15.766Z"
   },
   {
    "duration": 109,
    "start_time": "2025-05-01T01:07:15.775Z"
   },
   {
    "duration": 107,
    "start_time": "2025-05-01T01:07:15.885Z"
   },
   {
    "duration": 7,
    "start_time": "2025-05-01T01:07:15.994Z"
   },
   {
    "duration": 114,
    "start_time": "2025-05-01T01:07:16.002Z"
   },
   {
    "duration": 11,
    "start_time": "2025-05-01T01:07:16.118Z"
   },
   {
    "duration": 104,
    "start_time": "2025-05-01T01:07:16.130Z"
   },
   {
    "duration": 9,
    "start_time": "2025-05-01T01:07:16.236Z"
   },
   {
    "duration": 3,
    "start_time": "2025-05-01T01:07:16.246Z"
   },
   {
    "duration": 9,
    "start_time": "2025-05-01T01:07:53.439Z"
   },
   {
    "duration": 9,
    "start_time": "2025-05-01T01:12:38.090Z"
   },
   {
    "duration": 12,
    "start_time": "2025-05-01T01:13:51.872Z"
   },
   {
    "duration": 10,
    "start_time": "2025-05-01T01:14:13.873Z"
   },
   {
    "duration": 7,
    "start_time": "2025-05-01T01:16:49.444Z"
   },
   {
    "duration": 8,
    "start_time": "2025-05-01T01:17:33.562Z"
   },
   {
    "duration": 8,
    "start_time": "2025-05-01T01:18:31.459Z"
   },
   {
    "duration": 3,
    "start_time": "2025-05-01T01:19:48.093Z"
   },
   {
    "duration": 7,
    "start_time": "2025-05-01T01:20:01.421Z"
   },
   {
    "duration": 13,
    "start_time": "2025-05-01T01:20:39.316Z"
   },
   {
    "duration": 12,
    "start_time": "2025-05-01T01:21:07.599Z"
   },
   {
    "duration": 10,
    "start_time": "2025-05-01T01:21:07.613Z"
   },
   {
    "duration": 262,
    "start_time": "2025-05-01T01:21:07.625Z"
   },
   {
    "duration": 163,
    "start_time": "2025-05-01T01:21:07.889Z"
   },
   {
    "duration": 7,
    "start_time": "2025-05-01T01:21:08.055Z"
   },
   {
    "duration": 113,
    "start_time": "2025-05-01T01:21:08.064Z"
   },
   {
    "duration": 105,
    "start_time": "2025-05-01T01:21:08.179Z"
   },
   {
    "duration": 7,
    "start_time": "2025-05-01T01:21:08.286Z"
   },
   {
    "duration": 114,
    "start_time": "2025-05-01T01:21:08.294Z"
   },
   {
    "duration": 7,
    "start_time": "2025-05-01T01:21:08.411Z"
   },
   {
    "duration": 100,
    "start_time": "2025-05-01T01:21:08.425Z"
   },
   {
    "duration": 8,
    "start_time": "2025-05-01T01:21:08.527Z"
   },
   {
    "duration": 9,
    "start_time": "2025-05-01T01:21:08.537Z"
   },
   {
    "duration": 3,
    "start_time": "2025-05-01T01:21:08.549Z"
   },
   {
    "duration": 9,
    "start_time": "2025-05-01T01:24:52.190Z"
   },
   {
    "duration": 9,
    "start_time": "2025-05-01T01:25:58.133Z"
   },
   {
    "duration": 11,
    "start_time": "2025-05-01T01:26:03.638Z"
   },
   {
    "duration": 9,
    "start_time": "2025-05-01T01:26:15.861Z"
   },
   {
    "duration": 10,
    "start_time": "2025-05-01T01:27:55.597Z"
   },
   {
    "duration": 18,
    "start_time": "2025-05-01T01:29:43.533Z"
   },
   {
    "duration": 19,
    "start_time": "2025-05-01T01:30:01.665Z"
   },
   {
    "duration": 3,
    "start_time": "2025-05-01T01:35:52.682Z"
   },
   {
    "duration": 30,
    "start_time": "2025-05-01T01:36:59.097Z"
   },
   {
    "duration": 8,
    "start_time": "2025-05-01T01:39:44.979Z"
   }
  ],
  "colab": {
   "provenance": []
  },
  "kernelspec": {
   "display_name": "Python 3 (ipykernel)",
   "language": "python",
   "name": "python3"
  },
  "language_info": {
   "codemirror_mode": {
    "name": "ipython",
    "version": 3
   },
   "file_extension": ".py",
   "mimetype": "text/x-python",
   "name": "python",
   "nbconvert_exporter": "python",
   "pygments_lexer": "ipython3",
   "version": "3.9.19"
  },
  "toc": {
   "base_numbering": 1,
   "nav_menu": {},
   "number_sections": true,
   "sideBar": true,
   "skip_h1_title": false,
   "title_cell": "Table of Contents",
   "title_sidebar": "Contents",
   "toc_cell": false,
   "toc_position": {
    "height": "calc(100% - 180px)",
    "left": "10px",
    "top": "150px",
    "width": "251.4px"
   },
   "toc_section_display": true,
   "toc_window_display": true
  }
 },
 "nbformat": 4,
 "nbformat_minor": 1
}
